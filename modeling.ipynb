{
 "cells": [
  {
   "cell_type": "code",
   "execution_count": 1,
   "metadata": {},
   "outputs": [
    {
     "name": "stdout",
     "output_type": "stream",
     "text": [
      "wrangle.py functions loaded successfully\n",
      "acquire.py functions loaded successfully\n"
     ]
    }
   ],
   "source": [
    "import warnings\n",
    "warnings.filterwarnings(\"ignore\")\n",
    "import pandas as pd\n",
    "import matplotlib.pyplot as plt\n",
    "import seaborn as sns\n",
    "import numpy as np\n",
    "import wrangle\n",
    "import prep\n",
    "from scipy import stats\n",
    "\n",
    "from sklearn.model_selection import train_test_split\n",
    "from sklearn.metrics import mean_squared_error, explained_variance_score\n",
    "from sklearn.linear_model import LinearRegression\n",
    "from sklearn.feature_selection import RFE"
   ]
  },
  {
   "cell_type": "code",
   "execution_count": 2,
   "metadata": {},
   "outputs": [
    {
     "data": {
      "text/html": [
       "<div>\n",
       "<style scoped>\n",
       "    .dataframe tbody tr th:only-of-type {\n",
       "        vertical-align: middle;\n",
       "    }\n",
       "\n",
       "    .dataframe tbody tr th {\n",
       "        vertical-align: top;\n",
       "    }\n",
       "\n",
       "    .dataframe thead th {\n",
       "        text-align: right;\n",
       "    }\n",
       "</style>\n",
       "<table border=\"1\" class=\"dataframe\">\n",
       "  <thead>\n",
       "    <tr style=\"text-align: right;\">\n",
       "      <th></th>\n",
       "      <th>bathroomcnt</th>\n",
       "      <th>bedroomcnt</th>\n",
       "      <th>calculatedbathnbr</th>\n",
       "      <th>calculatedfinishedsquarefeet</th>\n",
       "      <th>fips</th>\n",
       "      <th>fullbathcnt</th>\n",
       "      <th>heatingorsystemtypeid</th>\n",
       "      <th>latitude</th>\n",
       "      <th>longitude</th>\n",
       "      <th>lotsizesquarefeet</th>\n",
       "      <th>...</th>\n",
       "      <th>regionidzip</th>\n",
       "      <th>roomcnt</th>\n",
       "      <th>unitcnt</th>\n",
       "      <th>yearbuilt</th>\n",
       "      <th>structuretaxvaluedollarcnt</th>\n",
       "      <th>taxvaluedollarcnt</th>\n",
       "      <th>assessmentyear</th>\n",
       "      <th>landtaxvaluedollarcnt</th>\n",
       "      <th>taxamount</th>\n",
       "      <th>propertylandusetypeid</th>\n",
       "    </tr>\n",
       "  </thead>\n",
       "  <tbody>\n",
       "    <tr>\n",
       "      <th>count</th>\n",
       "      <td>21352.000000</td>\n",
       "      <td>21352.000000</td>\n",
       "      <td>21352.000000</td>\n",
       "      <td>21352.000000</td>\n",
       "      <td>21352.000000</td>\n",
       "      <td>21352.000000</td>\n",
       "      <td>21352.000000</td>\n",
       "      <td>2.135200e+04</td>\n",
       "      <td>2.135200e+04</td>\n",
       "      <td>2.135200e+04</td>\n",
       "      <td>...</td>\n",
       "      <td>21352.000000</td>\n",
       "      <td>21352.000000</td>\n",
       "      <td>21352.000000</td>\n",
       "      <td>21352.000000</td>\n",
       "      <td>2.131600e+04</td>\n",
       "      <td>2.135200e+04</td>\n",
       "      <td>21352.0</td>\n",
       "      <td>2.135200e+04</td>\n",
       "      <td>21351.000000</td>\n",
       "      <td>21352.000000</td>\n",
       "    </tr>\n",
       "    <tr>\n",
       "      <th>mean</th>\n",
       "      <td>2.304632</td>\n",
       "      <td>3.061727</td>\n",
       "      <td>2.322734</td>\n",
       "      <td>1800.447152</td>\n",
       "      <td>6049.393125</td>\n",
       "      <td>2.252219</td>\n",
       "      <td>3.955741</td>\n",
       "      <td>3.400427e+07</td>\n",
       "      <td>-1.182018e+08</td>\n",
       "      <td>2.745509e+04</td>\n",
       "      <td>...</td>\n",
       "      <td>96604.933265</td>\n",
       "      <td>1.543837</td>\n",
       "      <td>1.108271</td>\n",
       "      <td>1968.261201</td>\n",
       "      <td>1.917828e+05</td>\n",
       "      <td>5.030912e+05</td>\n",
       "      <td>2016.0</td>\n",
       "      <td>3.116318e+05</td>\n",
       "      <td>6138.545271</td>\n",
       "      <td>261.675909</td>\n",
       "    </tr>\n",
       "    <tr>\n",
       "      <th>std</th>\n",
       "      <td>0.994982</td>\n",
       "      <td>1.130032</td>\n",
       "      <td>0.973808</td>\n",
       "      <td>944.553063</td>\n",
       "      <td>21.135638</td>\n",
       "      <td>0.958671</td>\n",
       "      <td>2.834390</td>\n",
       "      <td>2.670335e+05</td>\n",
       "      <td>3.616733e+05</td>\n",
       "      <td>8.690801e+04</td>\n",
       "      <td>...</td>\n",
       "      <td>4169.486264</td>\n",
       "      <td>2.878904</td>\n",
       "      <td>0.370724</td>\n",
       "      <td>23.837674</td>\n",
       "      <td>2.369039e+05</td>\n",
       "      <td>6.505557e+05</td>\n",
       "      <td>0.0</td>\n",
       "      <td>4.688036e+05</td>\n",
       "      <td>7545.612209</td>\n",
       "      <td>3.805794</td>\n",
       "    </tr>\n",
       "    <tr>\n",
       "      <th>min</th>\n",
       "      <td>0.000000</td>\n",
       "      <td>0.000000</td>\n",
       "      <td>1.000000</td>\n",
       "      <td>242.000000</td>\n",
       "      <td>6037.000000</td>\n",
       "      <td>1.000000</td>\n",
       "      <td>1.000000</td>\n",
       "      <td>3.334085e+07</td>\n",
       "      <td>-1.193883e+08</td>\n",
       "      <td>4.350000e+02</td>\n",
       "      <td>...</td>\n",
       "      <td>95982.000000</td>\n",
       "      <td>0.000000</td>\n",
       "      <td>1.000000</td>\n",
       "      <td>1824.000000</td>\n",
       "      <td>1.290000e+02</td>\n",
       "      <td>1.050400e+04</td>\n",
       "      <td>2016.0</td>\n",
       "      <td>2.250000e+03</td>\n",
       "      <td>19.920000</td>\n",
       "      <td>246.000000</td>\n",
       "    </tr>\n",
       "    <tr>\n",
       "      <th>25%</th>\n",
       "      <td>2.000000</td>\n",
       "      <td>2.000000</td>\n",
       "      <td>2.000000</td>\n",
       "      <td>1188.750000</td>\n",
       "      <td>6037.000000</td>\n",
       "      <td>2.000000</td>\n",
       "      <td>2.000000</td>\n",
       "      <td>3.380747e+07</td>\n",
       "      <td>-1.184140e+08</td>\n",
       "      <td>5.994750e+03</td>\n",
       "      <td>...</td>\n",
       "      <td>96193.000000</td>\n",
       "      <td>0.000000</td>\n",
       "      <td>1.000000</td>\n",
       "      <td>1953.000000</td>\n",
       "      <td>8.496000e+04</td>\n",
       "      <td>2.108100e+05</td>\n",
       "      <td>2016.0</td>\n",
       "      <td>8.780000e+04</td>\n",
       "      <td>2739.735000</td>\n",
       "      <td>261.000000</td>\n",
       "    </tr>\n",
       "    <tr>\n",
       "      <th>50%</th>\n",
       "      <td>2.000000</td>\n",
       "      <td>3.000000</td>\n",
       "      <td>2.000000</td>\n",
       "      <td>1557.000000</td>\n",
       "      <td>6037.000000</td>\n",
       "      <td>2.000000</td>\n",
       "      <td>3.955741</td>\n",
       "      <td>3.401928e+07</td>\n",
       "      <td>-1.181780e+08</td>\n",
       "      <td>7.600000e+03</td>\n",
       "      <td>...</td>\n",
       "      <td>96395.000000</td>\n",
       "      <td>0.000000</td>\n",
       "      <td>1.000000</td>\n",
       "      <td>1969.000000</td>\n",
       "      <td>1.386090e+05</td>\n",
       "      <td>3.652830e+05</td>\n",
       "      <td>2016.0</td>\n",
       "      <td>2.091910e+05</td>\n",
       "      <td>4523.300000</td>\n",
       "      <td>261.000000</td>\n",
       "    </tr>\n",
       "    <tr>\n",
       "      <th>75%</th>\n",
       "      <td>3.000000</td>\n",
       "      <td>4.000000</td>\n",
       "      <td>3.000000</td>\n",
       "      <td>2137.000000</td>\n",
       "      <td>6059.000000</td>\n",
       "      <td>3.000000</td>\n",
       "      <td>3.955741</td>\n",
       "      <td>3.417543e+07</td>\n",
       "      <td>-1.179231e+08</td>\n",
       "      <td>2.028750e+04</td>\n",
       "      <td>...</td>\n",
       "      <td>96987.000000</td>\n",
       "      <td>0.000000</td>\n",
       "      <td>1.108271</td>\n",
       "      <td>1987.000000</td>\n",
       "      <td>2.220000e+05</td>\n",
       "      <td>5.885595e+05</td>\n",
       "      <td>2016.0</td>\n",
       "      <td>3.812392e+05</td>\n",
       "      <td>7139.870000</td>\n",
       "      <td>265.000000</td>\n",
       "    </tr>\n",
       "    <tr>\n",
       "      <th>max</th>\n",
       "      <td>11.000000</td>\n",
       "      <td>12.000000</td>\n",
       "      <td>11.000000</td>\n",
       "      <td>15450.000000</td>\n",
       "      <td>6111.000000</td>\n",
       "      <td>11.000000</td>\n",
       "      <td>24.000000</td>\n",
       "      <td>3.477966e+07</td>\n",
       "      <td>-1.175554e+08</td>\n",
       "      <td>3.589145e+06</td>\n",
       "      <td>...</td>\n",
       "      <td>399675.000000</td>\n",
       "      <td>14.000000</td>\n",
       "      <td>4.000000</td>\n",
       "      <td>2015.000000</td>\n",
       "      <td>7.893568e+06</td>\n",
       "      <td>2.385837e+07</td>\n",
       "      <td>2016.0</td>\n",
       "      <td>1.635060e+07</td>\n",
       "      <td>276797.830000</td>\n",
       "      <td>275.000000</td>\n",
       "    </tr>\n",
       "  </tbody>\n",
       "</table>\n",
       "<p>8 rows × 24 columns</p>\n",
       "</div>"
      ],
      "text/plain": [
       "        bathroomcnt    bedroomcnt  calculatedbathnbr  \\\n",
       "count  21352.000000  21352.000000       21352.000000   \n",
       "mean       2.304632      3.061727           2.322734   \n",
       "std        0.994982      1.130032           0.973808   \n",
       "min        0.000000      0.000000           1.000000   \n",
       "25%        2.000000      2.000000           2.000000   \n",
       "50%        2.000000      3.000000           2.000000   \n",
       "75%        3.000000      4.000000           3.000000   \n",
       "max       11.000000     12.000000          11.000000   \n",
       "\n",
       "       calculatedfinishedsquarefeet          fips   fullbathcnt  \\\n",
       "count                  21352.000000  21352.000000  21352.000000   \n",
       "mean                    1800.447152   6049.393125      2.252219   \n",
       "std                      944.553063     21.135638      0.958671   \n",
       "min                      242.000000   6037.000000      1.000000   \n",
       "25%                     1188.750000   6037.000000      2.000000   \n",
       "50%                     1557.000000   6037.000000      2.000000   \n",
       "75%                     2137.000000   6059.000000      3.000000   \n",
       "max                    15450.000000   6111.000000     11.000000   \n",
       "\n",
       "       heatingorsystemtypeid      latitude     longitude  lotsizesquarefeet  \\\n",
       "count           21352.000000  2.135200e+04  2.135200e+04       2.135200e+04   \n",
       "mean                3.955741  3.400427e+07 -1.182018e+08       2.745509e+04   \n",
       "std                 2.834390  2.670335e+05  3.616733e+05       8.690801e+04   \n",
       "min                 1.000000  3.334085e+07 -1.193883e+08       4.350000e+02   \n",
       "25%                 2.000000  3.380747e+07 -1.184140e+08       5.994750e+03   \n",
       "50%                 3.955741  3.401928e+07 -1.181780e+08       7.600000e+03   \n",
       "75%                 3.955741  3.417543e+07 -1.179231e+08       2.028750e+04   \n",
       "max                24.000000  3.477966e+07 -1.175554e+08       3.589145e+06   \n",
       "\n",
       "       ...    regionidzip       roomcnt       unitcnt     yearbuilt  \\\n",
       "count  ...   21352.000000  21352.000000  21352.000000  21352.000000   \n",
       "mean   ...   96604.933265      1.543837      1.108271   1968.261201   \n",
       "std    ...    4169.486264      2.878904      0.370724     23.837674   \n",
       "min    ...   95982.000000      0.000000      1.000000   1824.000000   \n",
       "25%    ...   96193.000000      0.000000      1.000000   1953.000000   \n",
       "50%    ...   96395.000000      0.000000      1.000000   1969.000000   \n",
       "75%    ...   96987.000000      0.000000      1.108271   1987.000000   \n",
       "max    ...  399675.000000     14.000000      4.000000   2015.000000   \n",
       "\n",
       "       structuretaxvaluedollarcnt  taxvaluedollarcnt  assessmentyear  \\\n",
       "count                2.131600e+04       2.135200e+04         21352.0   \n",
       "mean                 1.917828e+05       5.030912e+05          2016.0   \n",
       "std                  2.369039e+05       6.505557e+05             0.0   \n",
       "min                  1.290000e+02       1.050400e+04          2016.0   \n",
       "25%                  8.496000e+04       2.108100e+05          2016.0   \n",
       "50%                  1.386090e+05       3.652830e+05          2016.0   \n",
       "75%                  2.220000e+05       5.885595e+05          2016.0   \n",
       "max                  7.893568e+06       2.385837e+07          2016.0   \n",
       "\n",
       "       landtaxvaluedollarcnt      taxamount  propertylandusetypeid  \n",
       "count           2.135200e+04   21351.000000           21352.000000  \n",
       "mean            3.116318e+05    6138.545271             261.675909  \n",
       "std             4.688036e+05    7545.612209               3.805794  \n",
       "min             2.250000e+03      19.920000             246.000000  \n",
       "25%             8.780000e+04    2739.735000             261.000000  \n",
       "50%             2.091910e+05    4523.300000             261.000000  \n",
       "75%             3.812392e+05    7139.870000             265.000000  \n",
       "max             1.635060e+07  276797.830000             275.000000  \n",
       "\n",
       "[8 rows x 24 columns]"
      ]
     },
     "execution_count": 2,
     "metadata": {},
     "output_type": "execute_result"
    }
   ],
   "source": [
    "df = prep.prep_zillow_data()\n",
    "df.describe()"
   ]
  },
  {
   "cell_type": "code",
   "execution_count": 3,
   "metadata": {},
   "outputs": [],
   "source": [
    "X_train, y_train, X_validate, y_validate, X_test, y_test = wrangle.train_validate_test(df)"
   ]
  },
  {
   "cell_type": "code",
   "execution_count": 4,
   "metadata": {},
   "outputs": [],
   "source": [
    "X_train_scaled, X_validate_scaled, X_test_scaled = wrangle.min_max_scale(X_train, X_validate, X_test)"
   ]
  },
  {
   "cell_type": "code",
   "execution_count": 5,
   "metadata": {
    "scrolled": true
   },
   "outputs": [
    {
     "data": {
      "text/html": [
       "<div>\n",
       "<style scoped>\n",
       "    .dataframe tbody tr th:only-of-type {\n",
       "        vertical-align: middle;\n",
       "    }\n",
       "\n",
       "    .dataframe tbody tr th {\n",
       "        vertical-align: top;\n",
       "    }\n",
       "\n",
       "    .dataframe thead th {\n",
       "        text-align: right;\n",
       "    }\n",
       "</style>\n",
       "<table border=\"1\" class=\"dataframe\">\n",
       "  <thead>\n",
       "    <tr style=\"text-align: right;\">\n",
       "      <th></th>\n",
       "      <th>bathroomcnt</th>\n",
       "      <th>bedroomcnt</th>\n",
       "      <th>calculatedbathnbr</th>\n",
       "      <th>calculatedfinishedsquarefeet</th>\n",
       "      <th>fullbathcnt</th>\n",
       "    </tr>\n",
       "  </thead>\n",
       "  <tbody>\n",
       "    <tr>\n",
       "      <th>3927</th>\n",
       "      <td>0.272727</td>\n",
       "      <td>0.166667</td>\n",
       "      <td>0.20</td>\n",
       "      <td>0.182322</td>\n",
       "      <td>0.1</td>\n",
       "    </tr>\n",
       "    <tr>\n",
       "      <th>19745</th>\n",
       "      <td>0.090909</td>\n",
       "      <td>0.166667</td>\n",
       "      <td>0.00</td>\n",
       "      <td>0.043299</td>\n",
       "      <td>0.0</td>\n",
       "    </tr>\n",
       "    <tr>\n",
       "      <th>1732</th>\n",
       "      <td>0.227273</td>\n",
       "      <td>0.250000</td>\n",
       "      <td>0.15</td>\n",
       "      <td>0.103328</td>\n",
       "      <td>0.1</td>\n",
       "    </tr>\n",
       "    <tr>\n",
       "      <th>17739</th>\n",
       "      <td>0.272727</td>\n",
       "      <td>0.250000</td>\n",
       "      <td>0.20</td>\n",
       "      <td>0.125783</td>\n",
       "      <td>0.2</td>\n",
       "    </tr>\n",
       "    <tr>\n",
       "      <th>15673</th>\n",
       "      <td>0.090909</td>\n",
       "      <td>0.250000</td>\n",
       "      <td>0.00</td>\n",
       "      <td>0.063697</td>\n",
       "      <td>0.0</td>\n",
       "    </tr>\n",
       "    <tr>\n",
       "      <th>...</th>\n",
       "      <td>...</td>\n",
       "      <td>...</td>\n",
       "      <td>...</td>\n",
       "      <td>...</td>\n",
       "      <td>...</td>\n",
       "    </tr>\n",
       "    <tr>\n",
       "      <th>11371</th>\n",
       "      <td>0.181818</td>\n",
       "      <td>0.166667</td>\n",
       "      <td>0.10</td>\n",
       "      <td>0.063607</td>\n",
       "      <td>0.1</td>\n",
       "    </tr>\n",
       "    <tr>\n",
       "      <th>21006</th>\n",
       "      <td>0.272727</td>\n",
       "      <td>0.250000</td>\n",
       "      <td>0.20</td>\n",
       "      <td>0.106280</td>\n",
       "      <td>0.2</td>\n",
       "    </tr>\n",
       "    <tr>\n",
       "      <th>20936</th>\n",
       "      <td>0.272727</td>\n",
       "      <td>0.416667</td>\n",
       "      <td>0.20</td>\n",
       "      <td>0.197531</td>\n",
       "      <td>0.2</td>\n",
       "    </tr>\n",
       "    <tr>\n",
       "      <th>3675</th>\n",
       "      <td>0.090909</td>\n",
       "      <td>0.250000</td>\n",
       "      <td>0.00</td>\n",
       "      <td>0.069959</td>\n",
       "      <td>0.0</td>\n",
       "    </tr>\n",
       "    <tr>\n",
       "      <th>5497</th>\n",
       "      <td>0.272727</td>\n",
       "      <td>0.333333</td>\n",
       "      <td>0.20</td>\n",
       "      <td>0.248256</td>\n",
       "      <td>0.2</td>\n",
       "    </tr>\n",
       "  </tbody>\n",
       "</table>\n",
       "<p>11956 rows × 5 columns</p>\n",
       "</div>"
      ],
      "text/plain": [
       "       bathroomcnt  bedroomcnt  calculatedbathnbr  \\\n",
       "3927      0.272727    0.166667               0.20   \n",
       "19745     0.090909    0.166667               0.00   \n",
       "1732      0.227273    0.250000               0.15   \n",
       "17739     0.272727    0.250000               0.20   \n",
       "15673     0.090909    0.250000               0.00   \n",
       "...            ...         ...                ...   \n",
       "11371     0.181818    0.166667               0.10   \n",
       "21006     0.272727    0.250000               0.20   \n",
       "20936     0.272727    0.416667               0.20   \n",
       "3675      0.090909    0.250000               0.00   \n",
       "5497      0.272727    0.333333               0.20   \n",
       "\n",
       "       calculatedfinishedsquarefeet  fullbathcnt  \n",
       "3927                       0.182322          0.1  \n",
       "19745                      0.043299          0.0  \n",
       "1732                       0.103328          0.1  \n",
       "17739                      0.125783          0.2  \n",
       "15673                      0.063697          0.0  \n",
       "...                             ...          ...  \n",
       "11371                      0.063607          0.1  \n",
       "21006                      0.106280          0.2  \n",
       "20936                      0.197531          0.2  \n",
       "3675                       0.069959          0.0  \n",
       "5497                       0.248256          0.2  \n",
       "\n",
       "[11956 rows x 5 columns]"
      ]
     },
     "execution_count": 5,
     "metadata": {},
     "output_type": "execute_result"
    }
   ],
   "source": [
    "X_train_scaled"
   ]
  },
  {
   "cell_type": "code",
   "execution_count": 6,
   "metadata": {},
   "outputs": [],
   "source": [
    "from sklearn.feature_selection import SelectKBest, f_regression"
   ]
  },
  {
   "cell_type": "code",
   "execution_count": 7,
   "metadata": {},
   "outputs": [],
   "source": [
    "f_selector = SelectKBest(f_regression, k=5)"
   ]
  },
  {
   "cell_type": "code",
   "execution_count": 8,
   "metadata": {},
   "outputs": [],
   "source": [
    "f_selector = f_selector.fit(X_train_scaled, y_train.taxvaluedollarcnt)"
   ]
  },
  {
   "cell_type": "code",
   "execution_count": 9,
   "metadata": {},
   "outputs": [
    {
     "name": "stdout",
     "output_type": "stream",
     "text": [
      "(11956, 5)\n",
      "(11956, 5)\n"
     ]
    }
   ],
   "source": [
    "X_train_reduced = f_selector.transform(X_train_scaled)\n",
    "print(X_train.shape)\n",
    "print(X_train_reduced.shape)"
   ]
  },
  {
   "cell_type": "code",
   "execution_count": 10,
   "metadata": {},
   "outputs": [
    {
     "data": {
      "text/plain": [
       "array([ True,  True,  True,  True,  True])"
      ]
     },
     "execution_count": 10,
     "metadata": {},
     "output_type": "execute_result"
    }
   ],
   "source": [
    "f_support = f_selector.get_support()\n",
    "f_support"
   ]
  },
  {
   "cell_type": "code",
   "execution_count": 11,
   "metadata": {},
   "outputs": [
    {
     "data": {
      "text/plain": [
       "['bathroomcnt',\n",
       " 'bedroomcnt',\n",
       " 'calculatedbathnbr',\n",
       " 'calculatedfinishedsquarefeet',\n",
       " 'fullbathcnt']"
      ]
     },
     "execution_count": 11,
     "metadata": {},
     "output_type": "execute_result"
    }
   ],
   "source": [
    "f_feature = X_train_scaled.iloc[:, f_support].columns.tolist()\n",
    "f_feature"
   ]
  },
  {
   "cell_type": "code",
   "execution_count": 12,
   "metadata": {},
   "outputs": [
    {
     "data": {
      "text/html": [
       "<div>\n",
       "<style scoped>\n",
       "    .dataframe tbody tr th:only-of-type {\n",
       "        vertical-align: middle;\n",
       "    }\n",
       "\n",
       "    .dataframe tbody tr th {\n",
       "        vertical-align: top;\n",
       "    }\n",
       "\n",
       "    .dataframe thead th {\n",
       "        text-align: right;\n",
       "    }\n",
       "</style>\n",
       "<table border=\"1\" class=\"dataframe\">\n",
       "  <thead>\n",
       "    <tr style=\"text-align: right;\">\n",
       "      <th></th>\n",
       "      <th>bathroomcnt</th>\n",
       "      <th>bedroomcnt</th>\n",
       "      <th>calculatedbathnbr</th>\n",
       "      <th>calculatedfinishedsquarefeet</th>\n",
       "      <th>fullbathcnt</th>\n",
       "    </tr>\n",
       "  </thead>\n",
       "  <tbody>\n",
       "    <tr>\n",
       "      <th>3927</th>\n",
       "      <td>0.272727</td>\n",
       "      <td>0.166667</td>\n",
       "      <td>0.20</td>\n",
       "      <td>0.182322</td>\n",
       "      <td>0.1</td>\n",
       "    </tr>\n",
       "    <tr>\n",
       "      <th>19745</th>\n",
       "      <td>0.090909</td>\n",
       "      <td>0.166667</td>\n",
       "      <td>0.00</td>\n",
       "      <td>0.043299</td>\n",
       "      <td>0.0</td>\n",
       "    </tr>\n",
       "    <tr>\n",
       "      <th>1732</th>\n",
       "      <td>0.227273</td>\n",
       "      <td>0.250000</td>\n",
       "      <td>0.15</td>\n",
       "      <td>0.103328</td>\n",
       "      <td>0.1</td>\n",
       "    </tr>\n",
       "    <tr>\n",
       "      <th>17739</th>\n",
       "      <td>0.272727</td>\n",
       "      <td>0.250000</td>\n",
       "      <td>0.20</td>\n",
       "      <td>0.125783</td>\n",
       "      <td>0.2</td>\n",
       "    </tr>\n",
       "    <tr>\n",
       "      <th>15673</th>\n",
       "      <td>0.090909</td>\n",
       "      <td>0.250000</td>\n",
       "      <td>0.00</td>\n",
       "      <td>0.063697</td>\n",
       "      <td>0.0</td>\n",
       "    </tr>\n",
       "  </tbody>\n",
       "</table>\n",
       "</div>"
      ],
      "text/plain": [
       "       bathroomcnt  bedroomcnt  calculatedbathnbr  \\\n",
       "3927      0.272727    0.166667               0.20   \n",
       "19745     0.090909    0.166667               0.00   \n",
       "1732      0.227273    0.250000               0.15   \n",
       "17739     0.272727    0.250000               0.20   \n",
       "15673     0.090909    0.250000               0.00   \n",
       "\n",
       "       calculatedfinishedsquarefeet  fullbathcnt  \n",
       "3927                       0.182322          0.1  \n",
       "19745                      0.043299          0.0  \n",
       "1732                       0.103328          0.1  \n",
       "17739                      0.125783          0.2  \n",
       "15673                      0.063697          0.0  "
      ]
     },
     "execution_count": 12,
     "metadata": {},
     "output_type": "execute_result"
    }
   ],
   "source": [
    "X_reduced_scaled = X_train_scaled.iloc[:, f_support]\n",
    "X_reduced_scaled.head()"
   ]
  },
  {
   "cell_type": "code",
   "execution_count": 13,
   "metadata": {},
   "outputs": [],
   "source": [
    "from sklearn.feature_selection import RFE\n",
    "from sklearn.linear_model import LinearRegression"
   ]
  },
  {
   "cell_type": "code",
   "execution_count": 14,
   "metadata": {},
   "outputs": [],
   "source": [
    "lm = LinearRegression()\n",
    "\n",
    "rfe = RFE(lm, 5)\n",
    "\n",
    "X_rfe = rfe.fit_transform(X_train,y_train) "
   ]
  },
  {
   "cell_type": "code",
   "execution_count": 15,
   "metadata": {},
   "outputs": [
    {
     "name": "stdout",
     "output_type": "stream",
     "text": [
      "selected 5 features: bathroomcnt, bedroomcnt, calculatedbathnbr, calculatedfinishedsquarefeet, fullbathcnt\n"
     ]
    }
   ],
   "source": [
    "mask = rfe.support_ \n",
    "rfe_features = X_train.columns[mask]\n",
    "print(f'selected {len(rfe_features)} features:', ', '.join(rfe_features))"
   ]
  },
  {
   "cell_type": "code",
   "execution_count": 16,
   "metadata": {},
   "outputs": [
    {
     "data": {
      "text/plain": [
       "LinearRegression()"
      ]
     },
     "execution_count": 16,
     "metadata": {},
     "output_type": "execute_result"
    }
   ],
   "source": [
    "lm.fit(X_rfe, y_train)"
   ]
  },
  {
   "cell_type": "code",
   "execution_count": 17,
   "metadata": {},
   "outputs": [
    {
     "name": "stdout",
     "output_type": "stream",
     "text": [
      "Linear Model: LinearRegression()\n",
      "intercept:  [-28255.94186279]\n",
      "features:  Index(['bathroomcnt', 'bedroomcnt', 'calculatedbathnbr',\n",
      "       'calculatedfinishedsquarefeet', 'fullbathcnt'],\n",
      "      dtype='object')\n",
      "coefficients:  [[ 256829.62604386 -151962.38796133 -308699.92064149     501.3743033\n",
      "    99790.60451672]]\n"
     ]
    }
   ],
   "source": [
    "print(\"Linear Model:\", lm)\n",
    "\n",
    "print(\"intercept: \", lm.intercept_)\n",
    "\n",
    "print(\"features: \", rfe_features)\n",
    "\n",
    "print(\"coefficients: \", lm.coef_)"
   ]
  },
  {
   "cell_type": "code",
   "execution_count": 18,
   "metadata": {},
   "outputs": [
    {
     "data": {
      "text/html": [
       "<div>\n",
       "<style scoped>\n",
       "    .dataframe tbody tr th:only-of-type {\n",
       "        vertical-align: middle;\n",
       "    }\n",
       "\n",
       "    .dataframe tbody tr th {\n",
       "        vertical-align: top;\n",
       "    }\n",
       "\n",
       "    .dataframe thead th {\n",
       "        text-align: right;\n",
       "    }\n",
       "</style>\n",
       "<table border=\"1\" class=\"dataframe\">\n",
       "  <thead>\n",
       "    <tr style=\"text-align: right;\">\n",
       "      <th></th>\n",
       "      <th>taxvaluedollarcnt</th>\n",
       "      <th>yhat_lm</th>\n",
       "    </tr>\n",
       "  </thead>\n",
       "  <tbody>\n",
       "    <tr>\n",
       "      <th>3927</th>\n",
       "      <td>798178.0</td>\n",
       "      <td>884002.728581</td>\n",
       "    </tr>\n",
       "    <tr>\n",
       "      <th>19745</th>\n",
       "      <td>543907.0</td>\n",
       "      <td>108817.045925</td>\n",
       "    </tr>\n",
       "    <tr>\n",
       "      <th>1732</th>\n",
       "      <td>604073.0</td>\n",
       "      <td>315261.978101</td>\n",
       "    </tr>\n",
       "    <tr>\n",
       "      <th>17739</th>\n",
       "      <td>153848.0</td>\n",
       "      <td>514962.385448</td>\n",
       "    </tr>\n",
       "    <tr>\n",
       "      <th>15673</th>\n",
       "      <td>30802.0</td>\n",
       "      <td>71167.999117</td>\n",
       "    </tr>\n",
       "  </tbody>\n",
       "</table>\n",
       "</div>"
      ],
      "text/plain": [
       "       taxvaluedollarcnt        yhat_lm\n",
       "3927            798178.0  884002.728581\n",
       "19745           543907.0  108817.045925\n",
       "1732            604073.0  315261.978101\n",
       "17739           153848.0  514962.385448\n",
       "15673            30802.0   71167.999117"
      ]
     },
     "execution_count": 18,
     "metadata": {},
     "output_type": "execute_result"
    }
   ],
   "source": [
    "y_train['yhat_lm'] = lm.predict(X_rfe)\n",
    "\n",
    "y_train.head()"
   ]
  },
  {
   "cell_type": "code",
   "execution_count": 19,
   "metadata": {},
   "outputs": [
    {
     "data": {
      "text/plain": [
       "566770.4859859975"
      ]
     },
     "execution_count": 19,
     "metadata": {},
     "output_type": "execute_result"
    }
   ],
   "source": [
    "RMSE_lm = np.sqrt(mean_squared_error(y_train.taxvaluedollarcnt, y_train.yhat_lm))\n",
    "RMSE_lm"
   ]
  },
  {
   "cell_type": "code",
   "execution_count": 20,
   "metadata": {},
   "outputs": [
    {
     "data": {
      "text/html": [
       "<div>\n",
       "<style scoped>\n",
       "    .dataframe tbody tr th:only-of-type {\n",
       "        vertical-align: middle;\n",
       "    }\n",
       "\n",
       "    .dataframe tbody tr th {\n",
       "        vertical-align: top;\n",
       "    }\n",
       "\n",
       "    .dataframe thead th {\n",
       "        text-align: right;\n",
       "    }\n",
       "</style>\n",
       "<table border=\"1\" class=\"dataframe\">\n",
       "  <thead>\n",
       "    <tr style=\"text-align: right;\">\n",
       "      <th></th>\n",
       "      <th>taxvaluedollarcnt</th>\n",
       "      <th>yhat_lm</th>\n",
       "    </tr>\n",
       "  </thead>\n",
       "  <tbody>\n",
       "    <tr>\n",
       "      <th>3927</th>\n",
       "      <td>798178.0</td>\n",
       "      <td>884002.728581</td>\n",
       "    </tr>\n",
       "    <tr>\n",
       "      <th>19745</th>\n",
       "      <td>543907.0</td>\n",
       "      <td>108817.045925</td>\n",
       "    </tr>\n",
       "    <tr>\n",
       "      <th>1732</th>\n",
       "      <td>604073.0</td>\n",
       "      <td>315261.978101</td>\n",
       "    </tr>\n",
       "    <tr>\n",
       "      <th>17739</th>\n",
       "      <td>153848.0</td>\n",
       "      <td>514962.385448</td>\n",
       "    </tr>\n",
       "    <tr>\n",
       "      <th>15673</th>\n",
       "      <td>30802.0</td>\n",
       "      <td>71167.999117</td>\n",
       "    </tr>\n",
       "  </tbody>\n",
       "</table>\n",
       "</div>"
      ],
      "text/plain": [
       "       taxvaluedollarcnt        yhat_lm\n",
       "3927            798178.0  884002.728581\n",
       "19745           543907.0  108817.045925\n",
       "1732            604073.0  315261.978101\n",
       "17739           153848.0  514962.385448\n",
       "15673            30802.0   71167.999117"
      ]
     },
     "execution_count": 20,
     "metadata": {},
     "output_type": "execute_result"
    }
   ],
   "source": [
    "y_train['yhat_lm'] = lm.predict(X_rfe)\n",
    "\n",
    "y_train.head()"
   ]
  },
  {
   "cell_type": "code",
   "execution_count": 21,
   "metadata": {},
   "outputs": [
    {
     "data": {
      "text/plain": [
       "0.35154975172469793"
      ]
     },
     "execution_count": 21,
     "metadata": {},
     "output_type": "execute_result"
    }
   ],
   "source": [
    "r2_lm = lm.score(X_rfe, y_train.taxvaluedollarcnt)\n",
    "\n",
    "r2_lm"
   ]
  },
  {
   "cell_type": "code",
   "execution_count": 22,
   "metadata": {},
   "outputs": [
    {
     "data": {
      "text/plain": [
       "'taxvaluedollarcnt = -2.826e+04 + 2.6e+05 * bathroomcnt + -1.52e+05 * bedroomcnt'"
      ]
     },
     "execution_count": 22,
     "metadata": {},
     "output_type": "execute_result"
    }
   ],
   "source": [
    "output = \"{} = {:.4} + {:.2} * {} + {:.3} * {}\".format(\n",
    "    y_train.columns[0],\n",
    "    lm.intercept_[0],\n",
    "    lm.coef_[0][0],\n",
    "    rfe_features[0],\n",
    "    lm.coef_[0][1],\n",
    "    rfe_features[1],\n",
    ")\n",
    "output"
   ]
  },
  {
   "cell_type": "code",
   "execution_count": 23,
   "metadata": {},
   "outputs": [
    {
     "data": {
      "text/plain": [
       "['1',\n",
       " 'x0',\n",
       " 'x1',\n",
       " 'x2',\n",
       " 'x3',\n",
       " 'x4',\n",
       " 'x0^2',\n",
       " 'x0 x1',\n",
       " 'x0 x2',\n",
       " 'x0 x3',\n",
       " 'x0 x4',\n",
       " 'x1^2',\n",
       " 'x1 x2',\n",
       " 'x1 x3',\n",
       " 'x1 x4',\n",
       " 'x2^2',\n",
       " 'x2 x3',\n",
       " 'x2 x4',\n",
       " 'x3^2',\n",
       " 'x3 x4',\n",
       " 'x4^2']"
      ]
     },
     "execution_count": 23,
     "metadata": {},
     "output_type": "execute_result"
    }
   ],
   "source": [
    "from sklearn.preprocessing import PolynomialFeatures\n",
    "\n",
    "poly = PolynomialFeatures(degree=2)\n",
    "X_poly = poly.fit_transform(X_rfe)\n",
    "\n",
    "poly.get_feature_names()"
   ]
  },
  {
   "cell_type": "code",
   "execution_count": 24,
   "metadata": {},
   "outputs": [],
   "source": [
    "lm_poly = LinearRegression()\n",
    "lm_poly.fit(X_poly, y_train.taxvaluedollarcnt)\n",
    "y_train['yhat_poly'] = lm_poly.predict(X_poly)"
   ]
  },
  {
   "cell_type": "code",
   "execution_count": 25,
   "metadata": {},
   "outputs": [
    {
     "data": {
      "text/plain": [
       "535094.5087927479"
      ]
     },
     "execution_count": 25,
     "metadata": {},
     "output_type": "execute_result"
    }
   ],
   "source": [
    "RMSE_poly = np.sqrt(mean_squared_error(y_train.taxvaluedollarcnt, y_train.yhat_poly))\n",
    "RMSE_poly"
   ]
  },
  {
   "cell_type": "code",
   "execution_count": 26,
   "metadata": {},
   "outputs": [
    {
     "data": {
      "text/html": [
       "<div>\n",
       "<style scoped>\n",
       "    .dataframe tbody tr th:only-of-type {\n",
       "        vertical-align: middle;\n",
       "    }\n",
       "\n",
       "    .dataframe tbody tr th {\n",
       "        vertical-align: top;\n",
       "    }\n",
       "\n",
       "    .dataframe thead th {\n",
       "        text-align: right;\n",
       "    }\n",
       "</style>\n",
       "<table border=\"1\" class=\"dataframe\">\n",
       "  <thead>\n",
       "    <tr style=\"text-align: right;\">\n",
       "      <th></th>\n",
       "      <th>taxvaluedollarcnt</th>\n",
       "      <th>yhat_lm</th>\n",
       "      <th>yhat_poly</th>\n",
       "    </tr>\n",
       "  </thead>\n",
       "  <tbody>\n",
       "    <tr>\n",
       "      <th>3927</th>\n",
       "      <td>798178.0</td>\n",
       "      <td>884002.728581</td>\n",
       "      <td>473861.142674</td>\n",
       "    </tr>\n",
       "    <tr>\n",
       "      <th>19745</th>\n",
       "      <td>543907.0</td>\n",
       "      <td>108817.045925</td>\n",
       "      <td>259696.332001</td>\n",
       "    </tr>\n",
       "    <tr>\n",
       "      <th>1732</th>\n",
       "      <td>604073.0</td>\n",
       "      <td>315261.978101</td>\n",
       "      <td>431628.531054</td>\n",
       "    </tr>\n",
       "    <tr>\n",
       "      <th>17739</th>\n",
       "      <td>153848.0</td>\n",
       "      <td>514962.385448</td>\n",
       "      <td>474789.037395</td>\n",
       "    </tr>\n",
       "    <tr>\n",
       "      <th>15673</th>\n",
       "      <td>30802.0</td>\n",
       "      <td>71167.999117</td>\n",
       "      <td>256245.930058</td>\n",
       "    </tr>\n",
       "  </tbody>\n",
       "</table>\n",
       "</div>"
      ],
      "text/plain": [
       "       taxvaluedollarcnt        yhat_lm      yhat_poly\n",
       "3927            798178.0  884002.728581  473861.142674\n",
       "19745           543907.0  108817.045925  259696.332001\n",
       "1732            604073.0  315261.978101  431628.531054\n",
       "17739           153848.0  514962.385448  474789.037395\n",
       "15673            30802.0   71167.999117  256245.930058"
      ]
     },
     "execution_count": 26,
     "metadata": {},
     "output_type": "execute_result"
    }
   ],
   "source": [
    "y_train.head()"
   ]
  },
  {
   "cell_type": "code",
   "execution_count": 27,
   "metadata": {},
   "outputs": [
    {
     "name": "stdout",
     "output_type": "stream",
     "text": [
      "703880.4241372065\n",
      "1.1102230246251565e-16\n"
     ]
    }
   ],
   "source": [
    "y_train['yhat_baseline'] = df['taxvaluedollarcnt'].mean()\n",
    "\n",
    "# compute the RMSE\n",
    "RMSE_bl = np.sqrt(mean_squared_error(y_train.taxvaluedollarcnt, y_train.yhat_baseline))\n",
    "print(RMSE_bl)\n",
    "\n",
    "# no need to compute R-2 because it will be a 0! But we will demonstrate here:\n",
    "evs = explained_variance_score(y_train.taxvaluedollarcnt, y_train.yhat_baseline)\n",
    "print(evs)\n"
   ]
  },
  {
   "cell_type": "code",
   "execution_count": 28,
   "metadata": {},
   "outputs": [
    {
     "data": {
      "text/html": [
       "<div>\n",
       "<style scoped>\n",
       "    .dataframe tbody tr th:only-of-type {\n",
       "        vertical-align: middle;\n",
       "    }\n",
       "\n",
       "    .dataframe tbody tr th {\n",
       "        vertical-align: top;\n",
       "    }\n",
       "\n",
       "    .dataframe thead th {\n",
       "        text-align: right;\n",
       "    }\n",
       "</style>\n",
       "<table border=\"1\" class=\"dataframe\">\n",
       "  <thead>\n",
       "    <tr style=\"text-align: right;\">\n",
       "      <th></th>\n",
       "      <th>taxvaluedollarcnt</th>\n",
       "      <th>yhat_lm</th>\n",
       "      <th>yhat_poly</th>\n",
       "      <th>yhat_baseline</th>\n",
       "    </tr>\n",
       "  </thead>\n",
       "  <tbody>\n",
       "    <tr>\n",
       "      <th>3927</th>\n",
       "      <td>798178.0</td>\n",
       "      <td>884002.728581</td>\n",
       "      <td>473861.142674</td>\n",
       "      <td>503091.195579</td>\n",
       "    </tr>\n",
       "    <tr>\n",
       "      <th>19745</th>\n",
       "      <td>543907.0</td>\n",
       "      <td>108817.045925</td>\n",
       "      <td>259696.332001</td>\n",
       "      <td>503091.195579</td>\n",
       "    </tr>\n",
       "    <tr>\n",
       "      <th>1732</th>\n",
       "      <td>604073.0</td>\n",
       "      <td>315261.978101</td>\n",
       "      <td>431628.531054</td>\n",
       "      <td>503091.195579</td>\n",
       "    </tr>\n",
       "    <tr>\n",
       "      <th>17739</th>\n",
       "      <td>153848.0</td>\n",
       "      <td>514962.385448</td>\n",
       "      <td>474789.037395</td>\n",
       "      <td>503091.195579</td>\n",
       "    </tr>\n",
       "    <tr>\n",
       "      <th>15673</th>\n",
       "      <td>30802.0</td>\n",
       "      <td>71167.999117</td>\n",
       "      <td>256245.930058</td>\n",
       "      <td>503091.195579</td>\n",
       "    </tr>\n",
       "  </tbody>\n",
       "</table>\n",
       "</div>"
      ],
      "text/plain": [
       "       taxvaluedollarcnt        yhat_lm      yhat_poly  yhat_baseline\n",
       "3927            798178.0  884002.728581  473861.142674  503091.195579\n",
       "19745           543907.0  108817.045925  259696.332001  503091.195579\n",
       "1732            604073.0  315261.978101  431628.531054  503091.195579\n",
       "17739           153848.0  514962.385448  474789.037395  503091.195579\n",
       "15673            30802.0   71167.999117  256245.930058  503091.195579"
      ]
     },
     "execution_count": 28,
     "metadata": {},
     "output_type": "execute_result"
    }
   ],
   "source": [
    "y_train.head()"
   ]
  },
  {
   "cell_type": "code",
   "execution_count": 29,
   "metadata": {},
   "outputs": [
    {
     "data": {
      "text/plain": [
       "<matplotlib.collections.PathCollection at 0x7fd2eb6dd460>"
      ]
     },
     "execution_count": 29,
     "metadata": {},
     "output_type": "execute_result"
    },
    {
     "data": {
      "image/png": "[encoded data removed]",
      "text/plain": [
       "<Figure size 648x648 with 1 Axes>"
      ]
     },
     "metadata": {
      "needs_background": "light"
     },
     "output_type": "display_data"
    }
   ],
   "source": [
    "plt.figure(figsize=(9, 9))\n",
    "\n",
    "plt.scatter(y_train.taxvaluedollarcnt, y_train.yhat_lm, marker='o')\n",
    "plt.scatter(y_train.taxvaluedollarcnt, y_train.yhat_poly, marker='o')\n",
    "plt.scatter(y_train.taxvaluedollarcnt, y_train.yhat_baseline, marker='o')"
   ]
  },
  {
   "cell_type": "code",
   "execution_count": null,
   "metadata": {},
   "outputs": [],
   "source": []
  }
 ],
 "metadata": {
  "kernelspec": {
   "display_name": "Python 3",
   "language": "python",
   "name": "python3"
  },
  "language_info": {
   "codemirror_mode": {
    "name": "ipython",
    "version": 3
   },
   "file_extension": ".py",
   "mimetype": "text/x-python",
   "name": "python",
   "nbconvert_exporter": "python",
   "pygments_lexer": "ipython3",
   "version": "3.8.3"
  }
 },
 "nbformat": 4,
 "nbformat_minor": 4
}
