{
 "cells": [
  {
   "cell_type": "markdown",
   "metadata": {},
   "source": [
    "# Exploratory Stage\n",
    "\n",
    "#### Goals of Exploratory phase:\n",
    "- Determine drivers of churn\n",
    "- Answer the key questions\n",
    "- Answer hypotheses\n",
    "- Explore data visually\n",
    "- Set the baseline model\n",
    "\n",
    "#### Conduct Analysis of County Tax Rates"
   ]
  },
  {
   "cell_type": "code",
   "execution_count": 16,
   "metadata": {},
   "outputs": [],
   "source": [
    "# Importing needed libraries:\n",
    "\n",
    "import pandas as pd\n",
    "import numpy as np\n",
    "\n",
    "# visualizing\n",
    "import matplotlib.pyplot as plt\n",
    "import seaborn as sns\n",
    "\n",
    "plt.rc('figure', figsize=(13, 10))\n",
    "plt.rc('font', size=14)\n",
    "\n",
    "# preparing\n",
    "from sklearn.model_selection import train_test_split\n",
    "from sklearn.metrics import mean_squared_error, explained_variance_score\n",
    "\n",
    "# modeling and evaluating\n",
    "from sklearn.linear_model import LinearRegression, LassoLars\n",
    "from sklearn.linear_model import TweedieRegressor\n",
    "from sklearn.feature_selection import RFE\n",
    "from sklearn.preprocessing import PolynomialFeatures\n",
    "from sklearn.preprocessing import MinMaxScaler, RobustScaler, StandardScaler\n",
    "from sklearn.preprocessing import PolynomialFeatures\n",
    "\n",
    "# importing stats for hypothesis testing:\n",
    "from scipy import stats\n",
    "\n",
    "# turn off warnings\n",
    "import warnings\n",
    "warnings.filterwarnings(\"ignore\")\n",
    "\n",
    "# Importing the os library to access the env (credit)\n",
    "import os\n",
    "import env\n",
    "\n",
    "from env import host, user, password"
   ]
  },
  {
   "cell_type": "code",
   "execution_count": 17,
   "metadata": {},
   "outputs": [],
   "source": [
    "import acquire\n",
    "import prep\n",
    "import wrangle"
   ]
  },
  {
   "cell_type": "markdown",
   "metadata": {},
   "source": [
    "### Setting up data frame for Exploring\n",
    "\n",
    "We're using the prep.py and wrangle.py files we created earlier."
   ]
  },
  {
   "cell_type": "markdown",
   "metadata": {},
   "source": [
    "We use .shape, .info() and .describe() to get an idea of the size of the dataframe, the types of column data we are working with, and the key statistics of all our numerical columns"
   ]
  },
  {
   "cell_type": "code",
   "execution_count": 18,
   "metadata": {},
   "outputs": [
    {
     "data": {
      "text/plain": [
       "(20977, 24)"
      ]
     },
     "execution_count": 18,
     "metadata": {},
     "output_type": "execute_result"
    }
   ],
   "source": [
    "df = prep.prep_zillow_data()\n",
    "df.shape"
   ]
  },
  {
   "cell_type": "code",
   "execution_count": 19,
   "metadata": {},
   "outputs": [
    {
     "name": "stdout",
     "output_type": "stream",
     "text": [
      "<class 'pandas.core.frame.DataFrame'>\n",
      "Int64Index: 20977 entries, 0 to 21351\n",
      "Data columns (total 24 columns):\n",
      " #   Column                        Non-Null Count  Dtype  \n",
      "---  ------                        --------------  -----  \n",
      " 0   bathroomcnt                   20977 non-null  float64\n",
      " 1   bedroomcnt                    20977 non-null  float64\n",
      " 2   calculatedbathnbr             20977 non-null  float64\n",
      " 3   calculatedfinishedsquarefeet  20977 non-null  float64\n",
      " 4   fips                          20977 non-null  float64\n",
      " 5   fullbathcnt                   20977 non-null  float64\n",
      " 6   heatingorsystemtypeid         20977 non-null  float64\n",
      " 7   latitude                      20977 non-null  float64\n",
      " 8   longitude                     20977 non-null  float64\n",
      " 9   lotsizesquarefeet             20977 non-null  float64\n",
      " 10  propertylandusetypeid         20977 non-null  float64\n",
      " 11  rawcensustractandblock        20977 non-null  float64\n",
      " 12  regionidcity                  20977 non-null  float64\n",
      " 13  regionidcounty                20977 non-null  float64\n",
      " 14  regionidzip                   20977 non-null  float64\n",
      " 15  roomcnt                       20977 non-null  float64\n",
      " 16  unitcnt                       20977 non-null  float64\n",
      " 17  yearbuilt                     20977 non-null  float64\n",
      " 18  structuretaxvaluedollarcnt    20977 non-null  float64\n",
      " 19  taxvaluedollarcnt             20977 non-null  float64\n",
      " 20  assessmentyear                20977 non-null  float64\n",
      " 21  landtaxvaluedollarcnt         20977 non-null  float64\n",
      " 22  taxamount                     20977 non-null  float64\n",
      " 23  propertylandusetypeid         20977 non-null  float64\n",
      "dtypes: float64(24)\n",
      "memory usage: 4.0 MB\n"
     ]
    }
   ],
   "source": [
    "df.info()"
   ]
  },
  {
   "cell_type": "code",
   "execution_count": 20,
   "metadata": {
    "scrolled": true
   },
   "outputs": [
    {
     "data": {
      "text/html": [
       "<div>\n",
       "<style scoped>\n",
       "    .dataframe tbody tr th:only-of-type {\n",
       "        vertical-align: middle;\n",
       "    }\n",
       "\n",
       "    .dataframe tbody tr th {\n",
       "        vertical-align: top;\n",
       "    }\n",
       "\n",
       "    .dataframe thead th {\n",
       "        text-align: right;\n",
       "    }\n",
       "</style>\n",
       "<table border=\"1\" class=\"dataframe\">\n",
       "  <thead>\n",
       "    <tr style=\"text-align: right;\">\n",
       "      <th></th>\n",
       "      <th>bathroomcnt</th>\n",
       "      <th>bedroomcnt</th>\n",
       "      <th>calculatedbathnbr</th>\n",
       "      <th>calculatedfinishedsquarefeet</th>\n",
       "      <th>fips</th>\n",
       "      <th>fullbathcnt</th>\n",
       "      <th>heatingorsystemtypeid</th>\n",
       "      <th>latitude</th>\n",
       "      <th>longitude</th>\n",
       "      <th>lotsizesquarefeet</th>\n",
       "      <th>...</th>\n",
       "      <th>regionidzip</th>\n",
       "      <th>roomcnt</th>\n",
       "      <th>unitcnt</th>\n",
       "      <th>yearbuilt</th>\n",
       "      <th>structuretaxvaluedollarcnt</th>\n",
       "      <th>taxvaluedollarcnt</th>\n",
       "      <th>assessmentyear</th>\n",
       "      <th>landtaxvaluedollarcnt</th>\n",
       "      <th>taxamount</th>\n",
       "      <th>propertylandusetypeid</th>\n",
       "    </tr>\n",
       "  </thead>\n",
       "  <tbody>\n",
       "    <tr>\n",
       "      <th>count</th>\n",
       "      <td>20977.000000</td>\n",
       "      <td>20977.000000</td>\n",
       "      <td>20977.000000</td>\n",
       "      <td>20977.000000</td>\n",
       "      <td>20977.000000</td>\n",
       "      <td>20977.000000</td>\n",
       "      <td>20977.000000</td>\n",
       "      <td>2.097700e+04</td>\n",
       "      <td>2.097700e+04</td>\n",
       "      <td>2.097700e+04</td>\n",
       "      <td>...</td>\n",
       "      <td>20977.000000</td>\n",
       "      <td>20977.000000</td>\n",
       "      <td>20977.000000</td>\n",
       "      <td>20977.000000</td>\n",
       "      <td>2.097700e+04</td>\n",
       "      <td>2.097700e+04</td>\n",
       "      <td>20977.0</td>\n",
       "      <td>2.097700e+04</td>\n",
       "      <td>20977.000000</td>\n",
       "      <td>20977.000000</td>\n",
       "    </tr>\n",
       "    <tr>\n",
       "      <th>mean</th>\n",
       "      <td>2.255065</td>\n",
       "      <td>3.029461</td>\n",
       "      <td>2.272051</td>\n",
       "      <td>1733.590414</td>\n",
       "      <td>6049.399485</td>\n",
       "      <td>2.203561</td>\n",
       "      <td>3.971021</td>\n",
       "      <td>3.400482e+07</td>\n",
       "      <td>-1.182015e+08</td>\n",
       "      <td>2.721772e+04</td>\n",
       "      <td>...</td>\n",
       "      <td>96592.488688</td>\n",
       "      <td>1.549888</td>\n",
       "      <td>1.106540</td>\n",
       "      <td>1967.995593</td>\n",
       "      <td>1.766183e+05</td>\n",
       "      <td>4.672261e+05</td>\n",
       "      <td>2016.0</td>\n",
       "      <td>2.906078e+05</td>\n",
       "      <td>5718.334901</td>\n",
       "      <td>261.699433</td>\n",
       "    </tr>\n",
       "    <tr>\n",
       "      <th>std</th>\n",
       "      <td>0.903462</td>\n",
       "      <td>1.090442</td>\n",
       "      <td>0.882514</td>\n",
       "      <td>771.085739</td>\n",
       "      <td>21.152271</td>\n",
       "      <td>0.871318</td>\n",
       "      <td>2.848036</td>\n",
       "      <td>2.672361e+05</td>\n",
       "      <td>3.611021e+05</td>\n",
       "      <td>8.660500e+04</td>\n",
       "      <td>...</td>\n",
       "      <td>3648.736209</td>\n",
       "      <td>2.872265</td>\n",
       "      <td>0.364304</td>\n",
       "      <td>23.693910</td>\n",
       "      <td>1.586827e+05</td>\n",
       "      <td>4.739390e+05</td>\n",
       "      <td>0.0</td>\n",
       "      <td>3.655081e+05</td>\n",
       "      <td>5460.265168</td>\n",
       "      <td>3.806058</td>\n",
       "    </tr>\n",
       "    <tr>\n",
       "      <th>min</th>\n",
       "      <td>0.000000</td>\n",
       "      <td>0.000000</td>\n",
       "      <td>1.000000</td>\n",
       "      <td>242.000000</td>\n",
       "      <td>6037.000000</td>\n",
       "      <td>1.000000</td>\n",
       "      <td>1.000000</td>\n",
       "      <td>3.334085e+07</td>\n",
       "      <td>-1.193883e+08</td>\n",
       "      <td>4.350000e+02</td>\n",
       "      <td>...</td>\n",
       "      <td>95982.000000</td>\n",
       "      <td>0.000000</td>\n",
       "      <td>1.000000</td>\n",
       "      <td>1824.000000</td>\n",
       "      <td>1.290000e+02</td>\n",
       "      <td>1.050400e+04</td>\n",
       "      <td>2016.0</td>\n",
       "      <td>2.250000e+03</td>\n",
       "      <td>19.920000</td>\n",
       "      <td>246.000000</td>\n",
       "    </tr>\n",
       "    <tr>\n",
       "      <th>25%</th>\n",
       "      <td>2.000000</td>\n",
       "      <td>2.000000</td>\n",
       "      <td>2.000000</td>\n",
       "      <td>1181.000000</td>\n",
       "      <td>6037.000000</td>\n",
       "      <td>2.000000</td>\n",
       "      <td>2.000000</td>\n",
       "      <td>3.380829e+07</td>\n",
       "      <td>-1.184121e+08</td>\n",
       "      <td>5.971000e+03</td>\n",
       "      <td>...</td>\n",
       "      <td>96193.000000</td>\n",
       "      <td>0.000000</td>\n",
       "      <td>1.000000</td>\n",
       "      <td>1953.000000</td>\n",
       "      <td>8.421000e+04</td>\n",
       "      <td>2.080000e+05</td>\n",
       "      <td>2016.0</td>\n",
       "      <td>8.593500e+04</td>\n",
       "      <td>2712.610000</td>\n",
       "      <td>261.000000</td>\n",
       "    </tr>\n",
       "    <tr>\n",
       "      <th>50%</th>\n",
       "      <td>2.000000</td>\n",
       "      <td>3.000000</td>\n",
       "      <td>2.000000</td>\n",
       "      <td>1542.000000</td>\n",
       "      <td>6037.000000</td>\n",
       "      <td>2.000000</td>\n",
       "      <td>3.955741</td>\n",
       "      <td>3.401747e+07</td>\n",
       "      <td>-1.181770e+08</td>\n",
       "      <td>7.541000e+03</td>\n",
       "      <td>...</td>\n",
       "      <td>96395.000000</td>\n",
       "      <td>0.000000</td>\n",
       "      <td>1.000000</td>\n",
       "      <td>1968.261201</td>\n",
       "      <td>1.368320e+05</td>\n",
       "      <td>3.600840e+05</td>\n",
       "      <td>2016.0</td>\n",
       "      <td>2.055310e+05</td>\n",
       "      <td>4459.800000</td>\n",
       "      <td>261.000000</td>\n",
       "    </tr>\n",
       "    <tr>\n",
       "      <th>75%</th>\n",
       "      <td>3.000000</td>\n",
       "      <td>4.000000</td>\n",
       "      <td>3.000000</td>\n",
       "      <td>2096.000000</td>\n",
       "      <td>6059.000000</td>\n",
       "      <td>3.000000</td>\n",
       "      <td>3.955741</td>\n",
       "      <td>3.417625e+07</td>\n",
       "      <td>-1.179251e+08</td>\n",
       "      <td>1.973900e+04</td>\n",
       "      <td>...</td>\n",
       "      <td>96987.000000</td>\n",
       "      <td>0.000000</td>\n",
       "      <td>1.108271</td>\n",
       "      <td>1986.000000</td>\n",
       "      <td>2.163420e+05</td>\n",
       "      <td>5.720000e+05</td>\n",
       "      <td>2016.0</td>\n",
       "      <td>3.715490e+05</td>\n",
       "      <td>6954.080000</td>\n",
       "      <td>266.000000</td>\n",
       "    </tr>\n",
       "    <tr>\n",
       "      <th>max</th>\n",
       "      <td>10.000000</td>\n",
       "      <td>12.000000</td>\n",
       "      <td>10.000000</td>\n",
       "      <td>4633.000000</td>\n",
       "      <td>6111.000000</td>\n",
       "      <td>10.000000</td>\n",
       "      <td>24.000000</td>\n",
       "      <td>3.477966e+07</td>\n",
       "      <td>-1.175554e+08</td>\n",
       "      <td>3.589145e+06</td>\n",
       "      <td>...</td>\n",
       "      <td>399675.000000</td>\n",
       "      <td>12.000000</td>\n",
       "      <td>4.000000</td>\n",
       "      <td>2015.000000</td>\n",
       "      <td>3.416000e+06</td>\n",
       "      <td>9.323011e+06</td>\n",
       "      <td>2016.0</td>\n",
       "      <td>8.719214e+06</td>\n",
       "      <td>109468.980000</td>\n",
       "      <td>275.000000</td>\n",
       "    </tr>\n",
       "  </tbody>\n",
       "</table>\n",
       "<p>8 rows × 24 columns</p>\n",
       "</div>"
      ],
      "text/plain": [
       "        bathroomcnt    bedroomcnt  calculatedbathnbr  \\\n",
       "count  20977.000000  20977.000000       20977.000000   \n",
       "mean       2.255065      3.029461           2.272051   \n",
       "std        0.903462      1.090442           0.882514   \n",
       "min        0.000000      0.000000           1.000000   \n",
       "25%        2.000000      2.000000           2.000000   \n",
       "50%        2.000000      3.000000           2.000000   \n",
       "75%        3.000000      4.000000           3.000000   \n",
       "max       10.000000     12.000000          10.000000   \n",
       "\n",
       "       calculatedfinishedsquarefeet          fips   fullbathcnt  \\\n",
       "count                  20977.000000  20977.000000  20977.000000   \n",
       "mean                    1733.590414   6049.399485      2.203561   \n",
       "std                      771.085739     21.152271      0.871318   \n",
       "min                      242.000000   6037.000000      1.000000   \n",
       "25%                     1181.000000   6037.000000      2.000000   \n",
       "50%                     1542.000000   6037.000000      2.000000   \n",
       "75%                     2096.000000   6059.000000      3.000000   \n",
       "max                     4633.000000   6111.000000     10.000000   \n",
       "\n",
       "       heatingorsystemtypeid      latitude     longitude  lotsizesquarefeet  \\\n",
       "count           20977.000000  2.097700e+04  2.097700e+04       2.097700e+04   \n",
       "mean                3.971021  3.400482e+07 -1.182015e+08       2.721772e+04   \n",
       "std                 2.848036  2.672361e+05  3.611021e+05       8.660500e+04   \n",
       "min                 1.000000  3.334085e+07 -1.193883e+08       4.350000e+02   \n",
       "25%                 2.000000  3.380829e+07 -1.184121e+08       5.971000e+03   \n",
       "50%                 3.955741  3.401747e+07 -1.181770e+08       7.541000e+03   \n",
       "75%                 3.955741  3.417625e+07 -1.179251e+08       1.973900e+04   \n",
       "max                24.000000  3.477966e+07 -1.175554e+08       3.589145e+06   \n",
       "\n",
       "       ...    regionidzip       roomcnt       unitcnt     yearbuilt  \\\n",
       "count  ...   20977.000000  20977.000000  20977.000000  20977.000000   \n",
       "mean   ...   96592.488688      1.549888      1.106540   1967.995593   \n",
       "std    ...    3648.736209      2.872265      0.364304     23.693910   \n",
       "min    ...   95982.000000      0.000000      1.000000   1824.000000   \n",
       "25%    ...   96193.000000      0.000000      1.000000   1953.000000   \n",
       "50%    ...   96395.000000      0.000000      1.000000   1968.261201   \n",
       "75%    ...   96987.000000      0.000000      1.108271   1986.000000   \n",
       "max    ...  399675.000000     12.000000      4.000000   2015.000000   \n",
       "\n",
       "       structuretaxvaluedollarcnt  taxvaluedollarcnt  assessmentyear  \\\n",
       "count                2.097700e+04       2.097700e+04         20977.0   \n",
       "mean                 1.766183e+05       4.672261e+05          2016.0   \n",
       "std                  1.586827e+05       4.739390e+05             0.0   \n",
       "min                  1.290000e+02       1.050400e+04          2016.0   \n",
       "25%                  8.421000e+04       2.080000e+05          2016.0   \n",
       "50%                  1.368320e+05       3.600840e+05          2016.0   \n",
       "75%                  2.163420e+05       5.720000e+05          2016.0   \n",
       "max                  3.416000e+06       9.323011e+06          2016.0   \n",
       "\n",
       "       landtaxvaluedollarcnt      taxamount  propertylandusetypeid  \n",
       "count           2.097700e+04   20977.000000           20977.000000  \n",
       "mean            2.906078e+05    5718.334901             261.699433  \n",
       "std             3.655081e+05    5460.265168               3.806058  \n",
       "min             2.250000e+03      19.920000             246.000000  \n",
       "25%             8.593500e+04    2712.610000             261.000000  \n",
       "50%             2.055310e+05    4459.800000             261.000000  \n",
       "75%             3.715490e+05    6954.080000             266.000000  \n",
       "max             8.719214e+06  109468.980000             275.000000  \n",
       "\n",
       "[8 rows x 24 columns]"
      ]
     },
     "execution_count": 20,
     "metadata": {},
     "output_type": "execute_result"
    }
   ],
   "source": [
    "df.describe()"
   ]
  },
  {
   "cell_type": "markdown",
   "metadata": {},
   "source": [
    "#### Charting potential independent variables:\n",
    "These histograms we used to visualize the distributions of some of the features we think might be good independent variables to use in our models. The goal is to see how normally distributed these variables are."
   ]
  },
  {
   "cell_type": "code",
   "execution_count": 6,
   "metadata": {},
   "outputs": [
    {
     "data": {
      "image/png": "[encoded data removed]",
      "text/plain": [
       "<Figure size 936x720 with 3 Axes>"
      ]
     },
     "metadata": {
      "needs_background": "light"
     },
     "output_type": "display_data"
    }
   ],
   "source": [
    "plt.subplot(311)\n",
    "df.bathroomcnt.hist()\n",
    "\n",
    "\n",
    "plt.subplot(312)\n",
    "df.bedroomcnt.hist()\n",
    "\n",
    "plt.subplot(313)\n",
    "df.calculatedfinishedsquarefeet.hist()\n",
    "\n",
    "plt.show()"
   ]
  },
  {
   "cell_type": "markdown",
   "metadata": {},
   "source": [
    "#### Overall dataframe histogram\n",
    "\n",
    "This histogram allows us to see which features in the current dataframe have the highest and lowest correlation. Overall, we will be looking for features that have the strongest positive and negative correlations, so long as they are not features that are derived from each other."
   ]
  },
  {
   "cell_type": "code",
   "execution_count": 7,
   "metadata": {},
   "outputs": [
    {
     "data": {
      "text/plain": [
       "<AxesSubplot:>"
      ]
     },
     "execution_count": 7,
     "metadata": {},
     "output_type": "execute_result"
    },
    {
     "data": {
      "image/png": "[encoded data removed]",
      "text/plain": [
       "<Figure size 792x648 with 2 Axes>"
      ]
     },
     "metadata": {
      "needs_background": "light"
     },
     "output_type": "display_data"
    }
   ],
   "source": [
    "corr = df.corr()\n",
    "# Generate a mask for the upper triangle\n",
    "mask = np.triu(np.ones_like(corr, dtype=bool))\n",
    "# Set up the matplotlib figure\n",
    "f, ax = plt.subplots(figsize=(11, 9))\n",
    "# Generate a custom diverging colormap\n",
    "cmap = sns.diverging_palette(500, 20, as_cmap=True)\n",
    "# Draw the heatmap with the mask and correct aspect ratio\n",
    "sns.heatmap(corr, mask=mask, cmap=cmap, vmax=.3, center=0,\n",
    "            square=True, linewidths=.5, cbar_kws={\"shrink\": .5})"
   ]
  },
  {
   "cell_type": "markdown",
   "metadata": {},
   "source": [
    "#### Takeaways: the features with the strongest negative and positive correlation to Tax Valuation (`taxvaluedollarcnt`) are:\n",
    "\n",
    "- `bathroomcnt`\n",
    "- `bedroomcnt`\n",
    "- `calculatedbathnbr`\n",
    "- `calculatedfinishedsquarefeet`\n",
    "- `fullbathcnt`\n",
    "\n",
    "We threw out `structuretaxvaluedollarcnt` and `yearbuilt` since they were either a column that is basically the same information, or there were basically unrelated columns. However, in the case of `yearbuilt`, there could be some interesting information gleaned if we had more time to combine that feature with other like features and help improve the model possibly."
   ]
  },
  {
   "cell_type": "markdown",
   "metadata": {},
   "source": [
    "#### Heatmap isolating down to the top 5 correlated features to our target variable"
   ]
  },
  {
   "cell_type": "code",
   "execution_count": 8,
   "metadata": {},
   "outputs": [
    {
     "data": {
      "text/plain": [
       "<AxesSubplot:>"
      ]
     },
     "execution_count": 8,
     "metadata": {},
     "output_type": "execute_result"
    },
    {
     "data": {
      "image/png": "[encoded data removed]",
      "text/plain": [
       "<Figure size 792x648 with 2 Axes>"
      ]
     },
     "metadata": {
      "needs_background": "light"
     },
     "output_type": "display_data"
    }
   ],
   "source": [
    "# Creating a dataframe for a more managable heatmap\n",
    "corr_eval_df = df[['calculatedfinishedsquarefeet', 'bathroomcnt', 'bedroomcnt', 'calculatedbathnbr','taxvaluedollarcnt']]\n",
    "\n",
    "# Code for the heatmap itself:\n",
    "corr = corr_eval_df.corr()\n",
    "# Generate a mask for the upper triangle\n",
    "mask = np.triu(np.ones_like(corr, dtype=bool))\n",
    "# Set up the matplotlib figure\n",
    "f, ax = plt.subplots(figsize=(11, 9))\n",
    "# Generate a custom diverging colormap\n",
    "cmap = sns.diverging_palette(500, 20, as_cmap=True)\n",
    "# Draw the heatmap with the mask and correct aspect ratio\n",
    "sns.heatmap(corr, mask=mask, cmap=cmap, vmax=.3, center=0,\n",
    "            square=True, linewidths=.5, cbar_kws={\"shrink\": .5})"
   ]
  },
  {
   "cell_type": "code",
   "execution_count": 10,
   "metadata": {},
   "outputs": [],
   "source": [
    "df_test = acquire.get_zillow_data()"
   ]
  },
  {
   "cell_type": "code",
   "execution_count": 11,
   "metadata": {},
   "outputs": [],
   "source": [
    "eval_df = df[['calculatedfinishedsquarefeet', 'bathroomcnt', 'bedroomcnt', 'calculatedbathnbr','taxvaluedollarcnt']]"
   ]
  },
  {
   "cell_type": "code",
   "execution_count": 12,
   "metadata": {},
   "outputs": [
    {
     "data": {
      "text/plain": [
       "(20977, 5)"
      ]
     },
     "execution_count": 12,
     "metadata": {},
     "output_type": "execute_result"
    }
   ],
   "source": [
    "eval_df.shape"
   ]
  },
  {
   "cell_type": "code",
   "execution_count": 13,
   "metadata": {},
   "outputs": [
    {
     "data": {
      "text/html": [
       "<div>\n",
       "<style scoped>\n",
       "    .dataframe tbody tr th:only-of-type {\n",
       "        vertical-align: middle;\n",
       "    }\n",
       "\n",
       "    .dataframe tbody tr th {\n",
       "        vertical-align: top;\n",
       "    }\n",
       "\n",
       "    .dataframe thead th {\n",
       "        text-align: right;\n",
       "    }\n",
       "</style>\n",
       "<table border=\"1\" class=\"dataframe\">\n",
       "  <thead>\n",
       "    <tr style=\"text-align: right;\">\n",
       "      <th></th>\n",
       "      <th>calculatedfinishedsquarefeet</th>\n",
       "      <th>bathroomcnt</th>\n",
       "      <th>bedroomcnt</th>\n",
       "      <th>calculatedbathnbr</th>\n",
       "      <th>taxvaluedollarcnt</th>\n",
       "    </tr>\n",
       "  </thead>\n",
       "  <tbody>\n",
       "    <tr>\n",
       "      <th>count</th>\n",
       "      <td>20977.0</td>\n",
       "      <td>20977.0</td>\n",
       "      <td>20977.0</td>\n",
       "      <td>20977.0</td>\n",
       "      <td>20977.0</td>\n",
       "    </tr>\n",
       "    <tr>\n",
       "      <th>mean</th>\n",
       "      <td>1733.6</td>\n",
       "      <td>2.3</td>\n",
       "      <td>3.0</td>\n",
       "      <td>2.3</td>\n",
       "      <td>467226.1</td>\n",
       "    </tr>\n",
       "    <tr>\n",
       "      <th>std</th>\n",
       "      <td>771.1</td>\n",
       "      <td>0.9</td>\n",
       "      <td>1.1</td>\n",
       "      <td>0.9</td>\n",
       "      <td>473939.0</td>\n",
       "    </tr>\n",
       "    <tr>\n",
       "      <th>min</th>\n",
       "      <td>242.0</td>\n",
       "      <td>0.0</td>\n",
       "      <td>0.0</td>\n",
       "      <td>1.0</td>\n",
       "      <td>10504.0</td>\n",
       "    </tr>\n",
       "    <tr>\n",
       "      <th>25%</th>\n",
       "      <td>1181.0</td>\n",
       "      <td>2.0</td>\n",
       "      <td>2.0</td>\n",
       "      <td>2.0</td>\n",
       "      <td>208000.0</td>\n",
       "    </tr>\n",
       "    <tr>\n",
       "      <th>50%</th>\n",
       "      <td>1542.0</td>\n",
       "      <td>2.0</td>\n",
       "      <td>3.0</td>\n",
       "      <td>2.0</td>\n",
       "      <td>360084.0</td>\n",
       "    </tr>\n",
       "    <tr>\n",
       "      <th>75%</th>\n",
       "      <td>2096.0</td>\n",
       "      <td>3.0</td>\n",
       "      <td>4.0</td>\n",
       "      <td>3.0</td>\n",
       "      <td>572000.0</td>\n",
       "    </tr>\n",
       "    <tr>\n",
       "      <th>max</th>\n",
       "      <td>4633.0</td>\n",
       "      <td>10.0</td>\n",
       "      <td>12.0</td>\n",
       "      <td>10.0</td>\n",
       "      <td>9323011.0</td>\n",
       "    </tr>\n",
       "  </tbody>\n",
       "</table>\n",
       "</div>"
      ],
      "text/plain": [
       "       calculatedfinishedsquarefeet  bathroomcnt  bedroomcnt  \\\n",
       "count                       20977.0      20977.0     20977.0   \n",
       "mean                         1733.6          2.3         3.0   \n",
       "std                           771.1          0.9         1.1   \n",
       "min                           242.0          0.0         0.0   \n",
       "25%                          1181.0          2.0         2.0   \n",
       "50%                          1542.0          2.0         3.0   \n",
       "75%                          2096.0          3.0         4.0   \n",
       "max                          4633.0         10.0        12.0   \n",
       "\n",
       "       calculatedbathnbr  taxvaluedollarcnt  \n",
       "count            20977.0            20977.0  \n",
       "mean                 2.3           467226.1  \n",
       "std                  0.9           473939.0  \n",
       "min                  1.0            10504.0  \n",
       "25%                  2.0           208000.0  \n",
       "50%                  2.0           360084.0  \n",
       "75%                  3.0           572000.0  \n",
       "max                 10.0          9323011.0  "
      ]
     },
     "execution_count": 13,
     "metadata": {},
     "output_type": "execute_result"
    }
   ],
   "source": [
    "eval_df.describe().round(1)"
   ]
  },
  {
   "cell_type": "code",
   "execution_count": 14,
   "metadata": {},
   "outputs": [
    {
     "data": {
      "text/html": [
       "<div>\n",
       "<style scoped>\n",
       "    .dataframe tbody tr th:only-of-type {\n",
       "        vertical-align: middle;\n",
       "    }\n",
       "\n",
       "    .dataframe tbody tr th {\n",
       "        vertical-align: top;\n",
       "    }\n",
       "\n",
       "    .dataframe thead th {\n",
       "        text-align: right;\n",
       "    }\n",
       "</style>\n",
       "<table border=\"1\" class=\"dataframe\">\n",
       "  <thead>\n",
       "    <tr style=\"text-align: right;\">\n",
       "      <th></th>\n",
       "      <th>bathroomcnt</th>\n",
       "      <th>bedroomcnt</th>\n",
       "      <th>calculatedbathnbr</th>\n",
       "      <th>calculatedfinishedsquarefeet</th>\n",
       "      <th>fips</th>\n",
       "      <th>fullbathcnt</th>\n",
       "      <th>heatingorsystemtypeid</th>\n",
       "      <th>latitude</th>\n",
       "      <th>longitude</th>\n",
       "      <th>lotsizesquarefeet</th>\n",
       "      <th>...</th>\n",
       "      <th>regionidzip</th>\n",
       "      <th>roomcnt</th>\n",
       "      <th>unitcnt</th>\n",
       "      <th>yearbuilt</th>\n",
       "      <th>structuretaxvaluedollarcnt</th>\n",
       "      <th>taxvaluedollarcnt</th>\n",
       "      <th>assessmentyear</th>\n",
       "      <th>landtaxvaluedollarcnt</th>\n",
       "      <th>taxamount</th>\n",
       "      <th>propertylandusetypeid</th>\n",
       "    </tr>\n",
       "  </thead>\n",
       "  <tbody>\n",
       "    <tr>\n",
       "      <th>count</th>\n",
       "      <td>20977.0</td>\n",
       "      <td>20977.0</td>\n",
       "      <td>20977.0</td>\n",
       "      <td>20977.0</td>\n",
       "      <td>20977.0</td>\n",
       "      <td>20977.0</td>\n",
       "      <td>20977.0</td>\n",
       "      <td>20977.0</td>\n",
       "      <td>20977.0</td>\n",
       "      <td>20977.0</td>\n",
       "      <td>...</td>\n",
       "      <td>20977.0</td>\n",
       "      <td>20977.0</td>\n",
       "      <td>20977.0</td>\n",
       "      <td>20977.0</td>\n",
       "      <td>20977.0</td>\n",
       "      <td>20977.0</td>\n",
       "      <td>20977.0</td>\n",
       "      <td>20977.0</td>\n",
       "      <td>20977.0</td>\n",
       "      <td>20977.0</td>\n",
       "    </tr>\n",
       "    <tr>\n",
       "      <th>mean</th>\n",
       "      <td>2.3</td>\n",
       "      <td>3.0</td>\n",
       "      <td>2.3</td>\n",
       "      <td>1733.6</td>\n",
       "      <td>6049.4</td>\n",
       "      <td>2.2</td>\n",
       "      <td>4.0</td>\n",
       "      <td>34004824.3</td>\n",
       "      <td>-118201545.3</td>\n",
       "      <td>27217.7</td>\n",
       "      <td>...</td>\n",
       "      <td>96592.5</td>\n",
       "      <td>1.5</td>\n",
       "      <td>1.1</td>\n",
       "      <td>1968.0</td>\n",
       "      <td>176618.3</td>\n",
       "      <td>467226.1</td>\n",
       "      <td>2016.0</td>\n",
       "      <td>290607.8</td>\n",
       "      <td>5718.3</td>\n",
       "      <td>261.7</td>\n",
       "    </tr>\n",
       "    <tr>\n",
       "      <th>std</th>\n",
       "      <td>0.9</td>\n",
       "      <td>1.1</td>\n",
       "      <td>0.9</td>\n",
       "      <td>771.1</td>\n",
       "      <td>21.2</td>\n",
       "      <td>0.9</td>\n",
       "      <td>2.8</td>\n",
       "      <td>267236.1</td>\n",
       "      <td>361102.1</td>\n",
       "      <td>86605.0</td>\n",
       "      <td>...</td>\n",
       "      <td>3648.7</td>\n",
       "      <td>2.9</td>\n",
       "      <td>0.4</td>\n",
       "      <td>23.7</td>\n",
       "      <td>158682.7</td>\n",
       "      <td>473939.0</td>\n",
       "      <td>0.0</td>\n",
       "      <td>365508.1</td>\n",
       "      <td>5460.3</td>\n",
       "      <td>3.8</td>\n",
       "    </tr>\n",
       "    <tr>\n",
       "      <th>min</th>\n",
       "      <td>0.0</td>\n",
       "      <td>0.0</td>\n",
       "      <td>1.0</td>\n",
       "      <td>242.0</td>\n",
       "      <td>6037.0</td>\n",
       "      <td>1.0</td>\n",
       "      <td>1.0</td>\n",
       "      <td>33340851.0</td>\n",
       "      <td>-119388346.0</td>\n",
       "      <td>435.0</td>\n",
       "      <td>...</td>\n",
       "      <td>95982.0</td>\n",
       "      <td>0.0</td>\n",
       "      <td>1.0</td>\n",
       "      <td>1824.0</td>\n",
       "      <td>129.0</td>\n",
       "      <td>10504.0</td>\n",
       "      <td>2016.0</td>\n",
       "      <td>2250.0</td>\n",
       "      <td>19.9</td>\n",
       "      <td>246.0</td>\n",
       "    </tr>\n",
       "    <tr>\n",
       "      <th>25%</th>\n",
       "      <td>2.0</td>\n",
       "      <td>2.0</td>\n",
       "      <td>2.0</td>\n",
       "      <td>1181.0</td>\n",
       "      <td>6037.0</td>\n",
       "      <td>2.0</td>\n",
       "      <td>2.0</td>\n",
       "      <td>33808288.0</td>\n",
       "      <td>-118412113.0</td>\n",
       "      <td>5971.0</td>\n",
       "      <td>...</td>\n",
       "      <td>96193.0</td>\n",
       "      <td>0.0</td>\n",
       "      <td>1.0</td>\n",
       "      <td>1953.0</td>\n",
       "      <td>84210.0</td>\n",
       "      <td>208000.0</td>\n",
       "      <td>2016.0</td>\n",
       "      <td>85935.0</td>\n",
       "      <td>2712.6</td>\n",
       "      <td>261.0</td>\n",
       "    </tr>\n",
       "    <tr>\n",
       "      <th>50%</th>\n",
       "      <td>2.0</td>\n",
       "      <td>3.0</td>\n",
       "      <td>2.0</td>\n",
       "      <td>1542.0</td>\n",
       "      <td>6037.0</td>\n",
       "      <td>2.0</td>\n",
       "      <td>4.0</td>\n",
       "      <td>34017471.0</td>\n",
       "      <td>-118177000.0</td>\n",
       "      <td>7541.0</td>\n",
       "      <td>...</td>\n",
       "      <td>96395.0</td>\n",
       "      <td>0.0</td>\n",
       "      <td>1.0</td>\n",
       "      <td>1968.3</td>\n",
       "      <td>136832.0</td>\n",
       "      <td>360084.0</td>\n",
       "      <td>2016.0</td>\n",
       "      <td>205531.0</td>\n",
       "      <td>4459.8</td>\n",
       "      <td>261.0</td>\n",
       "    </tr>\n",
       "    <tr>\n",
       "      <th>75%</th>\n",
       "      <td>3.0</td>\n",
       "      <td>4.0</td>\n",
       "      <td>3.0</td>\n",
       "      <td>2096.0</td>\n",
       "      <td>6059.0</td>\n",
       "      <td>3.0</td>\n",
       "      <td>4.0</td>\n",
       "      <td>34176250.0</td>\n",
       "      <td>-117925067.0</td>\n",
       "      <td>19739.0</td>\n",
       "      <td>...</td>\n",
       "      <td>96987.0</td>\n",
       "      <td>0.0</td>\n",
       "      <td>1.1</td>\n",
       "      <td>1986.0</td>\n",
       "      <td>216342.0</td>\n",
       "      <td>572000.0</td>\n",
       "      <td>2016.0</td>\n",
       "      <td>371549.0</td>\n",
       "      <td>6954.1</td>\n",
       "      <td>266.0</td>\n",
       "    </tr>\n",
       "    <tr>\n",
       "      <th>max</th>\n",
       "      <td>10.0</td>\n",
       "      <td>12.0</td>\n",
       "      <td>10.0</td>\n",
       "      <td>4633.0</td>\n",
       "      <td>6111.0</td>\n",
       "      <td>10.0</td>\n",
       "      <td>24.0</td>\n",
       "      <td>34779658.0</td>\n",
       "      <td>-117555373.0</td>\n",
       "      <td>3589145.0</td>\n",
       "      <td>...</td>\n",
       "      <td>399675.0</td>\n",
       "      <td>12.0</td>\n",
       "      <td>4.0</td>\n",
       "      <td>2015.0</td>\n",
       "      <td>3416000.0</td>\n",
       "      <td>9323011.0</td>\n",
       "      <td>2016.0</td>\n",
       "      <td>8719214.0</td>\n",
       "      <td>109469.0</td>\n",
       "      <td>275.0</td>\n",
       "    </tr>\n",
       "  </tbody>\n",
       "</table>\n",
       "<p>8 rows × 24 columns</p>\n",
       "</div>"
      ],
      "text/plain": [
       "       bathroomcnt  bedroomcnt  calculatedbathnbr  \\\n",
       "count      20977.0     20977.0            20977.0   \n",
       "mean           2.3         3.0                2.3   \n",
       "std            0.9         1.1                0.9   \n",
       "min            0.0         0.0                1.0   \n",
       "25%            2.0         2.0                2.0   \n",
       "50%            2.0         3.0                2.0   \n",
       "75%            3.0         4.0                3.0   \n",
       "max           10.0        12.0               10.0   \n",
       "\n",
       "       calculatedfinishedsquarefeet     fips  fullbathcnt  \\\n",
       "count                       20977.0  20977.0      20977.0   \n",
       "mean                         1733.6   6049.4          2.2   \n",
       "std                           771.1     21.2          0.9   \n",
       "min                           242.0   6037.0          1.0   \n",
       "25%                          1181.0   6037.0          2.0   \n",
       "50%                          1542.0   6037.0          2.0   \n",
       "75%                          2096.0   6059.0          3.0   \n",
       "max                          4633.0   6111.0         10.0   \n",
       "\n",
       "       heatingorsystemtypeid    latitude    longitude  lotsizesquarefeet  ...  \\\n",
       "count                20977.0     20977.0      20977.0            20977.0  ...   \n",
       "mean                     4.0  34004824.3 -118201545.3            27217.7  ...   \n",
       "std                      2.8    267236.1     361102.1            86605.0  ...   \n",
       "min                      1.0  33340851.0 -119388346.0              435.0  ...   \n",
       "25%                      2.0  33808288.0 -118412113.0             5971.0  ...   \n",
       "50%                      4.0  34017471.0 -118177000.0             7541.0  ...   \n",
       "75%                      4.0  34176250.0 -117925067.0            19739.0  ...   \n",
       "max                     24.0  34779658.0 -117555373.0          3589145.0  ...   \n",
       "\n",
       "       regionidzip  roomcnt  unitcnt  yearbuilt  structuretaxvaluedollarcnt  \\\n",
       "count      20977.0  20977.0  20977.0    20977.0                     20977.0   \n",
       "mean       96592.5      1.5      1.1     1968.0                    176618.3   \n",
       "std         3648.7      2.9      0.4       23.7                    158682.7   \n",
       "min        95982.0      0.0      1.0     1824.0                       129.0   \n",
       "25%        96193.0      0.0      1.0     1953.0                     84210.0   \n",
       "50%        96395.0      0.0      1.0     1968.3                    136832.0   \n",
       "75%        96987.0      0.0      1.1     1986.0                    216342.0   \n",
       "max       399675.0     12.0      4.0     2015.0                   3416000.0   \n",
       "\n",
       "       taxvaluedollarcnt  assessmentyear  landtaxvaluedollarcnt  taxamount  \\\n",
       "count            20977.0         20977.0                20977.0    20977.0   \n",
       "mean            467226.1          2016.0               290607.8     5718.3   \n",
       "std             473939.0             0.0               365508.1     5460.3   \n",
       "min              10504.0          2016.0                 2250.0       19.9   \n",
       "25%             208000.0          2016.0                85935.0     2712.6   \n",
       "50%             360084.0          2016.0               205531.0     4459.8   \n",
       "75%             572000.0          2016.0               371549.0     6954.1   \n",
       "max            9323011.0          2016.0              8719214.0   109469.0   \n",
       "\n",
       "       propertylandusetypeid  \n",
       "count                20977.0  \n",
       "mean                   261.7  \n",
       "std                      3.8  \n",
       "min                    246.0  \n",
       "25%                    261.0  \n",
       "50%                    261.0  \n",
       "75%                    266.0  \n",
       "max                    275.0  \n",
       "\n",
       "[8 rows x 24 columns]"
      ]
     },
     "execution_count": 14,
     "metadata": {},
     "output_type": "execute_result"
    }
   ],
   "source": [
    "df.describe().round(1)"
   ]
  },
  {
   "cell_type": "code",
   "execution_count": 16,
   "metadata": {},
   "outputs": [],
   "source": [
    "# Converting a continuous into a categorical:\n",
    "\n",
    "eval_df['tax_range'] = pd.cut(df.taxvaluedollarcnt, bins = [25504, 210000, 360000, 572000, 600000], labels = [\"Low\", \"Medium\", \"Med-High\", \"High\"])"
   ]
  },
  {
   "cell_type": "code",
   "execution_count": 17,
   "metadata": {},
   "outputs": [
    {
     "data": {
      "text/plain": [
       "calculatedfinishedsquarefeet       0\n",
       "bathroomcnt                        0\n",
       "bedroomcnt                         0\n",
       "calculatedbathnbr                  0\n",
       "taxvaluedollarcnt                  0\n",
       "tax_range                       4869\n",
       "dtype: int64"
      ]
     },
     "execution_count": 17,
     "metadata": {},
     "output_type": "execute_result"
    }
   ],
   "source": [
    "eval_df.isna().sum()"
   ]
  },
  {
   "cell_type": "code",
   "execution_count": 18,
   "metadata": {},
   "outputs": [
    {
     "data": {
      "text/plain": [
       "Low         5253\n",
       "Med-High    5246\n",
       "Medium      5195\n",
       "High         414\n",
       "Name: tax_range, dtype: int64"
      ]
     },
     "execution_count": 18,
     "metadata": {},
     "output_type": "execute_result"
    }
   ],
   "source": [
    "eval_df.tax_range.value_counts()"
   ]
  },
  {
   "cell_type": "code",
   "execution_count": 19,
   "metadata": {},
   "outputs": [],
   "source": [
    "# eval_df = eval_df.dropna"
   ]
  },
  {
   "cell_type": "code",
   "execution_count": 20,
   "metadata": {},
   "outputs": [
    {
     "data": {
      "text/plain": [
       "<AxesSubplot:xlabel='tax_range', ylabel='bedroomcnt'>"
      ]
     },
     "execution_count": 20,
     "metadata": {},
     "output_type": "execute_result"
    },
    {
     "data": {
      "image/png": "[encoded data removed]",
      "text/plain": [
       "<Figure size 936x720 with 1 Axes>"
      ]
     },
     "metadata": {
      "needs_background": "light"
     },
     "output_type": "display_data"
    }
   ],
   "source": [
    "sns.boxplot(data=eval_df, y='bedroomcnt', x='tax_range')"
   ]
  },
  {
   "cell_type": "code",
   "execution_count": 22,
   "metadata": {},
   "outputs": [
    {
     "data": {
      "text/plain": [
       "<AxesSubplot:xlabel='bedroomcnt', ylabel='taxvaluedollarcnt'>"
      ]
     },
     "execution_count": 22,
     "metadata": {},
     "output_type": "execute_result"
    },
    {
     "data": {
      "image/png": "[encoded data removed]",
      "text/plain": [
       "<Figure size 936x720 with 1 Axes>"
      ]
     },
     "metadata": {
      "needs_background": "light"
     },
     "output_type": "display_data"
    }
   ],
   "source": [
    "# Boxplot of bedroom counts compared to tax valuation:\n",
    "\n",
    "sns.boxplot(x = 'bedroomcnt', y = 'taxvaluedollarcnt', data = df)"
   ]
  },
  {
   "cell_type": "markdown",
   "metadata": {},
   "source": [
    "# Splitting and Scaling\n",
    "\n",
    "Now that we have our independent variables, we now split the data to prepare it for the modeling stage."
   ]
  },
  {
   "cell_type": "code",
   "execution_count": 24,
   "metadata": {},
   "outputs": [],
   "source": [
    "X_train, y_train, X_validate, y_validate, X_test, y_test = wrangle.train_validate_test(df)"
   ]
  },
  {
   "cell_type": "code",
   "execution_count": 25,
   "metadata": {},
   "outputs": [],
   "source": [
    "X_train_scaled, X_validate_scaled, X_test_scaled = wrangle.min_max_scale(X_train, X_validate, X_test)"
   ]
  },
  {
   "cell_type": "code",
   "execution_count": 26,
   "metadata": {},
   "outputs": [
    {
     "data": {
      "text/plain": [
       "<AxesSubplot:xlabel='bedroomcnt', ylabel='bathroomcnt'>"
      ]
     },
     "execution_count": 26,
     "metadata": {},
     "output_type": "execute_result"
    },
    {
     "data": {
      "image/png": "[encoded data removed]",
      "text/plain": [
       "<Figure size 936x720 with 1 Axes>"
      ]
     },
     "metadata": {
      "needs_background": "light"
     },
     "output_type": "display_data"
    }
   ],
   "source": [
    "sns.boxplot(x = 'bedroomcnt', y = 'bathroomcnt', data = X_train)"
   ]
  },
  {
   "cell_type": "code",
   "execution_count": 27,
   "metadata": {},
   "outputs": [
    {
     "data": {
      "text/plain": [
       "6037.0    13385\n",
       "6059.0     5802\n",
       "6111.0     1790\n",
       "Name: fips, dtype: int64"
      ]
     },
     "execution_count": 27,
     "metadata": {},
     "output_type": "execute_result"
    }
   ],
   "source": [
    "df.fips.value_counts()"
   ]
  },
  {
   "cell_type": "code",
   "execution_count": 28,
   "metadata": {},
   "outputs": [
    {
     "data": {
      "text/html": [
       "<div>\n",
       "<style scoped>\n",
       "    .dataframe tbody tr th:only-of-type {\n",
       "        vertical-align: middle;\n",
       "    }\n",
       "\n",
       "    .dataframe tbody tr th {\n",
       "        vertical-align: top;\n",
       "    }\n",
       "\n",
       "    .dataframe thead th {\n",
       "        text-align: right;\n",
       "    }\n",
       "</style>\n",
       "<table border=\"1\" class=\"dataframe\">\n",
       "  <thead>\n",
       "    <tr style=\"text-align: right;\">\n",
       "      <th></th>\n",
       "      <th>calculatedfinishedsquarefeet</th>\n",
       "      <th>bathroomcnt</th>\n",
       "      <th>bedroomcnt</th>\n",
       "      <th>calculatedbathnbr</th>\n",
       "      <th>taxvaluedollarcnt</th>\n",
       "    </tr>\n",
       "  </thead>\n",
       "  <tbody>\n",
       "    <tr>\n",
       "      <th>calculatedfinishedsquarefeet</th>\n",
       "      <td>1.000000</td>\n",
       "      <td>0.740599</td>\n",
       "      <td>0.638380</td>\n",
       "      <td>0.772457</td>\n",
       "      <td>0.498825</td>\n",
       "    </tr>\n",
       "    <tr>\n",
       "      <th>bathroomcnt</th>\n",
       "      <td>0.740599</td>\n",
       "      <td>1.000000</td>\n",
       "      <td>0.607156</td>\n",
       "      <td>0.975734</td>\n",
       "      <td>0.401308</td>\n",
       "    </tr>\n",
       "    <tr>\n",
       "      <th>bedroomcnt</th>\n",
       "      <td>0.638380</td>\n",
       "      <td>0.607156</td>\n",
       "      <td>1.000000</td>\n",
       "      <td>0.569875</td>\n",
       "      <td>0.187359</td>\n",
       "    </tr>\n",
       "    <tr>\n",
       "      <th>calculatedbathnbr</th>\n",
       "      <td>0.772457</td>\n",
       "      <td>0.975734</td>\n",
       "      <td>0.569875</td>\n",
       "      <td>1.000000</td>\n",
       "      <td>0.422731</td>\n",
       "    </tr>\n",
       "    <tr>\n",
       "      <th>taxvaluedollarcnt</th>\n",
       "      <td>0.498825</td>\n",
       "      <td>0.401308</td>\n",
       "      <td>0.187359</td>\n",
       "      <td>0.422731</td>\n",
       "      <td>1.000000</td>\n",
       "    </tr>\n",
       "  </tbody>\n",
       "</table>\n",
       "</div>"
      ],
      "text/plain": [
       "                              calculatedfinishedsquarefeet  bathroomcnt  \\\n",
       "calculatedfinishedsquarefeet                      1.000000     0.740599   \n",
       "bathroomcnt                                       0.740599     1.000000   \n",
       "bedroomcnt                                        0.638380     0.607156   \n",
       "calculatedbathnbr                                 0.772457     0.975734   \n",
       "taxvaluedollarcnt                                 0.498825     0.401308   \n",
       "\n",
       "                              bedroomcnt  calculatedbathnbr  taxvaluedollarcnt  \n",
       "calculatedfinishedsquarefeet    0.638380           0.772457           0.498825  \n",
       "bathroomcnt                     0.607156           0.975734           0.401308  \n",
       "bedroomcnt                      1.000000           0.569875           0.187359  \n",
       "calculatedbathnbr               0.569875           1.000000           0.422731  \n",
       "taxvaluedollarcnt               0.187359           0.422731           1.000000  "
      ]
     },
     "execution_count": 28,
     "metadata": {},
     "output_type": "execute_result"
    }
   ],
   "source": [
    "zillow_heatmap = df[['calculatedfinishedsquarefeet', 'bathroomcnt', 'bedroomcnt', 'calculatedbathnbr','taxvaluedollarcnt']]\n",
    "\n",
    "corr = zillow_heatmap.corr()\n",
    "corr"
   ]
  },
  {
   "cell_type": "code",
   "execution_count": 29,
   "metadata": {
    "scrolled": false
   },
   "outputs": [
    {
     "data": {
      "image/png": "[encoded data removed]",
      "text/plain": [
       "<Figure size 936x720 with 2 Axes>"
      ]
     },
     "metadata": {
      "needs_background": "light"
     },
     "output_type": "display_data"
    }
   ],
   "source": [
    "cmap = sns.diverging_palette(15, 175, as_cmap = True)\n",
    "\n",
    "sns.heatmap(corr, annot = True, cmap = cmap)\n",
    "plt.show()"
   ]
  },
  {
   "cell_type": "markdown",
   "metadata": {},
   "source": [
    "### Charting Bedroom count vs Square Feet\n",
    "\n",
    "These charts compare the square footage (continuous variable) vs. the number of bedrooms a property has"
   ]
  },
  {
   "cell_type": "code",
   "execution_count": 30,
   "metadata": {},
   "outputs": [],
   "source": [
    "def plot_categorical_and_continuous_vars(df, categorical_var, continuous_var):\n",
    "    sns.barplot(data=df, y=continuous_var, x=categorical_var)\n",
    "    plt.show()\n",
    "    sns.violinplot(data=df, y=continuous_var, x=categorical_var)\n",
    "    plt.show()\n",
    "    sns.boxplot(data=df, y=continuous_var, x=categorical_var)"
   ]
  },
  {
   "cell_type": "code",
   "execution_count": 34,
   "metadata": {
    "scrolled": false
   },
   "outputs": [
    {
     "data": {
      "image/png": "[encoded data removed]",
      "text/plain": [
       "<Figure size 936x720 with 1 Axes>"
      ]
     },
     "metadata": {
      "needs_background": "light"
     },
     "output_type": "display_data"
    },
    {
     "data": {
      "image/png": "[encoded data removed]",
      "text/plain": [
       "<Figure size 936x720 with 1 Axes>"
      ]
     },
     "metadata": {
      "needs_background": "light"
     },
     "output_type": "display_data"
    },
    {
     "data": {
      "image/png": "[encoded data removed]",
      "text/plain": [
       "<Figure size 936x720 with 1 Axes>"
      ]
     },
     "metadata": {
      "needs_background": "light"
     },
     "output_type": "display_data"
    }
   ],
   "source": [
    "plot_categorical_and_continuous_vars(X_train, 'bedroomcnt', 'calculatedfinishedsquarefeet')"
   ]
  },
  {
   "cell_type": "markdown",
   "metadata": {},
   "source": [
    "## Hypothesis Testing\n",
    "\n",
    "In this stage we will test the following hypotheses:\n",
    "\n",
    "### 1st Hypothesis:\n",
    "\n",
    "- $ H_0 $: Properties with more than 2 or more bedrooms do not have higher tax valuation\n",
    "\n",
    "- $ H_a $: Properties with more than 2 or more bedrooms do have higher tax valuation\n",
    "\n",
    "**We will use a 1 sample t-test for testing this hypothesis**\n",
    "\n",
    "### 2nd Hypothesis:\n",
    "\n",
    "- $ H_0 $: Properties with two or more bedrooms do not have more square footage than the average property.\n",
    "\n",
    "- $ H_a $: Properties with two or more bedrooms do have more square footage than the average property.\n",
    "\n",
    "**We will use a t-test for this hypothesis as well**\n",
    "\n",
    "Setting the alpha level for our hypothesis tests:"
   ]
  },
  {
   "cell_type": "code",
   "execution_count": 35,
   "metadata": {},
   "outputs": [],
   "source": [
    "alpha = .05"
   ]
  },
  {
   "cell_type": "markdown",
   "metadata": {},
   "source": [
    "### 1st Hypothesis:\n",
    "\n",
    "- $ H_0 $: Properties with more than 2 or more bedrooms do not have higher tax valuation\n",
    "\n",
    "- $ H_a $: Properties with more than 2 or more bedrooms do have higher tax valuation\n",
    "\n",
    "**We will use a 1 sample t-test for testing this hypothesis**"
   ]
  },
  {
   "cell_type": "code",
   "execution_count": 36,
   "metadata": {},
   "outputs": [
    {
     "name": "stdout",
     "output_type": "stream",
     "text": [
      "t = 1.731\n",
      "p = 0.084\n"
     ]
    }
   ],
   "source": [
    "# Hypothesis: Properties with more than 2 or more bedrooms have higher tax valuation:\n",
    "\n",
    "roomcount = df[df.bedroomcnt >= 2]\n",
    "t, p = stats.ttest_1samp(roomcount.taxvaluedollarcnt, df.taxvaluedollarcnt.mean())\n",
    "print(f't = {t:.3f}')\n",
    "print(f'p = {p:.3f}')"
   ]
  },
  {
   "cell_type": "markdown",
   "metadata": {},
   "source": [
    "#### Takeaway:\n",
    "\n",
    "- The p value is > than our $ alpha $, thus we fail to reject the null hypothesis. "
   ]
  },
  {
   "cell_type": "markdown",
   "metadata": {},
   "source": [
    "### 2nd Hypothesis:\n",
    "\n",
    "- $ H_0 $: Properties with two or more bedrooms do not have more square footage than the average property.\n",
    "\n",
    "- $ H_a $: Properties with two or more bedrooms do have more square footage than the average property."
   ]
  },
  {
   "cell_type": "code",
   "execution_count": 37,
   "metadata": {},
   "outputs": [
    {
     "name": "stdout",
     "output_type": "stream",
     "text": [
      "t = 7.319\n",
      "p = 0.000\n"
     ]
    }
   ],
   "source": [
    "roomcount = df[df.bedroomcnt >= 2]\n",
    "t, p = stats.ttest_1samp(roomcount.calculatedfinishedsquarefeet, df.calculatedfinishedsquarefeet.mean())\n",
    "print(f't = {t:.3f}')\n",
    "print(f'p = {p:.3f}')"
   ]
  },
  {
   "cell_type": "markdown",
   "metadata": {},
   "source": [
    "#### Takeaway:\n",
    "\n",
    "- The p value is < than our $ alpha $, thus we reject the null hypothesis."
   ]
  },
  {
   "cell_type": "markdown",
   "metadata": {},
   "source": [
    "## Exploring for Tax Values Report\n",
    "\n",
    "This section of the exploration stage has a goal of producing a dataframe that contains all the relavant location and tax rate data requested by the Zillow data science team.\n",
    "\n"
   ]
  },
  {
   "cell_type": "code",
   "execution_count": 39,
   "metadata": {},
   "outputs": [],
   "source": [
    "# Getting the dataframe"
   ]
  },
  {
   "cell_type": "code",
   "execution_count": 21,
   "metadata": {},
   "outputs": [],
   "source": [
    "tax_df_get = acquire.get_zillow_data()"
   ]
  },
  {
   "cell_type": "code",
   "execution_count": 22,
   "metadata": {},
   "outputs": [
    {
     "data": {
      "text/html": [
       "<div>\n",
       "<style scoped>\n",
       "    .dataframe tbody tr th:only-of-type {\n",
       "        vertical-align: middle;\n",
       "    }\n",
       "\n",
       "    .dataframe tbody tr th {\n",
       "        vertical-align: top;\n",
       "    }\n",
       "\n",
       "    .dataframe thead th {\n",
       "        text-align: right;\n",
       "    }\n",
       "</style>\n",
       "<table border=\"1\" class=\"dataframe\">\n",
       "  <thead>\n",
       "    <tr style=\"text-align: right;\">\n",
       "      <th></th>\n",
       "      <th>id</th>\n",
       "      <th>parcelid</th>\n",
       "      <th>airconditioningtypeid</th>\n",
       "      <th>architecturalstyletypeid</th>\n",
       "      <th>basementsqft</th>\n",
       "      <th>bathroomcnt</th>\n",
       "      <th>bedroomcnt</th>\n",
       "      <th>buildingclasstypeid</th>\n",
       "      <th>buildingqualitytypeid</th>\n",
       "      <th>calculatedbathnbr</th>\n",
       "      <th>...</th>\n",
       "      <th>taxvaluedollarcnt</th>\n",
       "      <th>assessmentyear</th>\n",
       "      <th>landtaxvaluedollarcnt</th>\n",
       "      <th>taxamount</th>\n",
       "      <th>taxdelinquencyflag</th>\n",
       "      <th>taxdelinquencyyear</th>\n",
       "      <th>censustractandblock</th>\n",
       "      <th>propertylandusetypeid</th>\n",
       "      <th>logerror</th>\n",
       "      <th>transactiondate</th>\n",
       "    </tr>\n",
       "  </thead>\n",
       "  <tbody>\n",
       "    <tr>\n",
       "      <th>0</th>\n",
       "      <td>2463969</td>\n",
       "      <td>11393337</td>\n",
       "      <td>NaN</td>\n",
       "      <td>NaN</td>\n",
       "      <td>NaN</td>\n",
       "      <td>3.0</td>\n",
       "      <td>3.0</td>\n",
       "      <td>None</td>\n",
       "      <td>4.0</td>\n",
       "      <td>3.0</td>\n",
       "      <td>...</td>\n",
       "      <td>43439.0</td>\n",
       "      <td>2016.0</td>\n",
       "      <td>22755.0</td>\n",
       "      <td>756.94</td>\n",
       "      <td>Y</td>\n",
       "      <td>14.0</td>\n",
       "      <td>6.037235e+13</td>\n",
       "      <td>247</td>\n",
       "      <td>0.086137</td>\n",
       "      <td>2017-06-08</td>\n",
       "    </tr>\n",
       "    <tr>\n",
       "      <th>1</th>\n",
       "      <td>2061546</td>\n",
       "      <td>11289917</td>\n",
       "      <td>1.0</td>\n",
       "      <td>NaN</td>\n",
       "      <td>NaN</td>\n",
       "      <td>2.0</td>\n",
       "      <td>3.0</td>\n",
       "      <td>None</td>\n",
       "      <td>6.0</td>\n",
       "      <td>2.0</td>\n",
       "      <td>...</td>\n",
       "      <td>136104.0</td>\n",
       "      <td>2016.0</td>\n",
       "      <td>27214.0</td>\n",
       "      <td>2319.90</td>\n",
       "      <td>Y</td>\n",
       "      <td>15.0</td>\n",
       "      <td>6.037901e+13</td>\n",
       "      <td>261</td>\n",
       "      <td>-0.362001</td>\n",
       "      <td>2017-06-23</td>\n",
       "    </tr>\n",
       "    <tr>\n",
       "      <th>2</th>\n",
       "      <td>1834372</td>\n",
       "      <td>11705026</td>\n",
       "      <td>NaN</td>\n",
       "      <td>NaN</td>\n",
       "      <td>NaN</td>\n",
       "      <td>1.0</td>\n",
       "      <td>2.0</td>\n",
       "      <td>None</td>\n",
       "      <td>6.0</td>\n",
       "      <td>1.0</td>\n",
       "      <td>...</td>\n",
       "      <td>35606.0</td>\n",
       "      <td>2016.0</td>\n",
       "      <td>23624.0</td>\n",
       "      <td>543.69</td>\n",
       "      <td>None</td>\n",
       "      <td>NaN</td>\n",
       "      <td>6.037232e+13</td>\n",
       "      <td>261</td>\n",
       "      <td>-0.146056</td>\n",
       "      <td>2017-06-30</td>\n",
       "    </tr>\n",
       "    <tr>\n",
       "      <th>3</th>\n",
       "      <td>1923117</td>\n",
       "      <td>14269464</td>\n",
       "      <td>NaN</td>\n",
       "      <td>NaN</td>\n",
       "      <td>NaN</td>\n",
       "      <td>3.0</td>\n",
       "      <td>4.0</td>\n",
       "      <td>None</td>\n",
       "      <td>NaN</td>\n",
       "      <td>3.0</td>\n",
       "      <td>...</td>\n",
       "      <td>880456.0</td>\n",
       "      <td>2016.0</td>\n",
       "      <td>445569.0</td>\n",
       "      <td>9819.72</td>\n",
       "      <td>None</td>\n",
       "      <td>NaN</td>\n",
       "      <td>6.059064e+13</td>\n",
       "      <td>261</td>\n",
       "      <td>0.021085</td>\n",
       "      <td>2017-06-01</td>\n",
       "    </tr>\n",
       "    <tr>\n",
       "      <th>4</th>\n",
       "      <td>2121349</td>\n",
       "      <td>11389003</td>\n",
       "      <td>NaN</td>\n",
       "      <td>NaN</td>\n",
       "      <td>NaN</td>\n",
       "      <td>2.0</td>\n",
       "      <td>3.0</td>\n",
       "      <td>None</td>\n",
       "      <td>6.0</td>\n",
       "      <td>2.0</td>\n",
       "      <td>...</td>\n",
       "      <td>614000.0</td>\n",
       "      <td>2016.0</td>\n",
       "      <td>449000.0</td>\n",
       "      <td>7673.19</td>\n",
       "      <td>None</td>\n",
       "      <td>NaN</td>\n",
       "      <td>6.037703e+13</td>\n",
       "      <td>261</td>\n",
       "      <td>-0.325393</td>\n",
       "      <td>2017-06-01</td>\n",
       "    </tr>\n",
       "  </tbody>\n",
       "</table>\n",
       "<p>5 rows × 62 columns</p>\n",
       "</div>"
      ],
      "text/plain": [
       "        id  parcelid  airconditioningtypeid  architecturalstyletypeid  \\\n",
       "0  2463969  11393337                    NaN                       NaN   \n",
       "1  2061546  11289917                    1.0                       NaN   \n",
       "2  1834372  11705026                    NaN                       NaN   \n",
       "3  1923117  14269464                    NaN                       NaN   \n",
       "4  2121349  11389003                    NaN                       NaN   \n",
       "\n",
       "   basementsqft  bathroomcnt  bedroomcnt buildingclasstypeid  \\\n",
       "0           NaN          3.0         3.0                None   \n",
       "1           NaN          2.0         3.0                None   \n",
       "2           NaN          1.0         2.0                None   \n",
       "3           NaN          3.0         4.0                None   \n",
       "4           NaN          2.0         3.0                None   \n",
       "\n",
       "   buildingqualitytypeid  calculatedbathnbr  ...  taxvaluedollarcnt  \\\n",
       "0                    4.0                3.0  ...            43439.0   \n",
       "1                    6.0                2.0  ...           136104.0   \n",
       "2                    6.0                1.0  ...            35606.0   \n",
       "3                    NaN                3.0  ...           880456.0   \n",
       "4                    6.0                2.0  ...           614000.0   \n",
       "\n",
       "   assessmentyear  landtaxvaluedollarcnt  taxamount  taxdelinquencyflag  \\\n",
       "0          2016.0                22755.0     756.94                   Y   \n",
       "1          2016.0                27214.0    2319.90                   Y   \n",
       "2          2016.0                23624.0     543.69                None   \n",
       "3          2016.0               445569.0    9819.72                None   \n",
       "4          2016.0               449000.0    7673.19                None   \n",
       "\n",
       "   taxdelinquencyyear  censustractandblock  propertylandusetypeid  logerror  \\\n",
       "0                14.0         6.037235e+13                    247  0.086137   \n",
       "1                15.0         6.037901e+13                    261 -0.362001   \n",
       "2                 NaN         6.037232e+13                    261 -0.146056   \n",
       "3                 NaN         6.059064e+13                    261  0.021085   \n",
       "4                 NaN         6.037703e+13                    261 -0.325393   \n",
       "\n",
       "   transactiondate  \n",
       "0       2017-06-08  \n",
       "1       2017-06-23  \n",
       "2       2017-06-30  \n",
       "3       2017-06-01  \n",
       "4       2017-06-01  \n",
       "\n",
       "[5 rows x 62 columns]"
      ]
     },
     "execution_count": 22,
     "metadata": {},
     "output_type": "execute_result"
    }
   ],
   "source": [
    "tax_df_get.head()"
   ]
  },
  {
   "cell_type": "code",
   "execution_count": 23,
   "metadata": {},
   "outputs": [
    {
     "name": "stdout",
     "output_type": "stream",
     "text": [
      "<class 'pandas.core.frame.DataFrame'>\n",
      "RangeIndex: 21352 entries, 0 to 21351\n",
      "Data columns (total 62 columns):\n",
      " #   Column                        Non-Null Count  Dtype  \n",
      "---  ------                        --------------  -----  \n",
      " 0   id                            21352 non-null  int64  \n",
      " 1   parcelid                      21352 non-null  int64  \n",
      " 2   airconditioningtypeid         6569 non-null   float64\n",
      " 3   architecturalstyletypeid      49 non-null     float64\n",
      " 4   basementsqft                  12 non-null     float64\n",
      " 5   bathroomcnt                   21352 non-null  float64\n",
      " 6   bedroomcnt                    21352 non-null  float64\n",
      " 7   buildingclasstypeid           0 non-null      object \n",
      " 8   buildingqualitytypeid         13363 non-null  float64\n",
      " 9   calculatedbathnbr             21180 non-null  float64\n",
      " 10  decktypeid                    179 non-null    float64\n",
      " 11  finishedfloor1squarefeet      1765 non-null   float64\n",
      " 12  calculatedfinishedsquarefeet  21297 non-null  float64\n",
      " 13  finishedsquarefeet12          20369 non-null  float64\n",
      " 14  finishedsquarefeet13          12 non-null     float64\n",
      " 15  finishedsquarefeet15          806 non-null    float64\n",
      " 16  finishedsquarefeet50          1765 non-null   float64\n",
      " 17  finishedsquarefeet6           110 non-null    float64\n",
      " 18  fips                          21352 non-null  float64\n",
      " 19  fireplacecnt                  2432 non-null   float64\n",
      " 20  fullbathcnt                   21180 non-null  float64\n",
      " 21  garagecarcnt                  7368 non-null   float64\n",
      " 22  garagetotalsqft               7368 non-null   float64\n",
      " 23  hashottuborspa                480 non-null    float64\n",
      " 24  heatingorsystemtypeid         13308 non-null  float64\n",
      " 25  latitude                      21352 non-null  float64\n",
      " 26  longitude                     21352 non-null  float64\n",
      " 27  lotsizesquarefeet             19074 non-null  float64\n",
      " 28  poolcnt                       4558 non-null   float64\n",
      " 29  poolsizesum                   269 non-null    float64\n",
      " 30  pooltypeid10                  138 non-null    float64\n",
      " 31  pooltypeid2                   342 non-null    float64\n",
      " 32  pooltypeid7                   4214 non-null   float64\n",
      " 33  propertycountylandusecode     21352 non-null  object \n",
      " 34  propertylandusetypeid         21352 non-null  float64\n",
      " 35  propertyzoningdesc            13568 non-null  object \n",
      " 36  rawcensustractandblock        21352 non-null  float64\n",
      " 37  regionidcity                  20984 non-null  float64\n",
      " 38  regionidcounty                21352 non-null  float64\n",
      " 39  regionidneighborhood          8554 non-null   float64\n",
      " 40  regionidzip                   21338 non-null  float64\n",
      " 41  roomcnt                       21352 non-null  float64\n",
      " 42  storytypeid                   12 non-null     float64\n",
      " 43  threequarterbathnbr           2958 non-null   float64\n",
      " 44  typeconstructiontypeid        51 non-null     float64\n",
      " 45  unitcnt                       13614 non-null  float64\n",
      " 46  yardbuildingsqft17            724 non-null    float64\n",
      " 47  yardbuildingsqft26            23 non-null     float64\n",
      " 48  yearbuilt                     21271 non-null  float64\n",
      " 49  numberofstories               5042 non-null   float64\n",
      " 50  fireplaceflag                 43 non-null     float64\n",
      " 51  structuretaxvaluedollarcnt    21316 non-null  float64\n",
      " 52  taxvaluedollarcnt             21352 non-null  float64\n",
      " 53  assessmentyear                21352 non-null  float64\n",
      " 54  landtaxvaluedollarcnt         21352 non-null  float64\n",
      " 55  taxamount                     21351 non-null  float64\n",
      " 56  taxdelinquencyflag            726 non-null    object \n",
      " 57  taxdelinquencyyear            726 non-null    float64\n",
      " 58  censustractandblock           21273 non-null  float64\n",
      " 59  propertylandusetypeid         21352 non-null  int64  \n",
      " 60  logerror                      21352 non-null  float64\n",
      " 61  transactiondate               21352 non-null  object \n",
      "dtypes: float64(54), int64(3), object(5)\n",
      "memory usage: 10.1+ MB\n"
     ]
    }
   ],
   "source": [
    "tax_df_get.info()"
   ]
  },
  {
   "cell_type": "code",
   "execution_count": 24,
   "metadata": {},
   "outputs": [],
   "source": [
    "tax_df = tax_df_get[['id','parcelid', 'calculatedfinishedsquarefeet', 'taxvaluedollarcnt', \n",
    "                     'taxamount', 'fips', 'latitude', 'longitude', 'regionidcity', \n",
    "                     'regionidcounty', 'regionidneighborhood', 'regionidzip', 'taxdelinquencyflag', 'taxdelinquencyyear']]"
   ]
  },
  {
   "cell_type": "code",
   "execution_count": 25,
   "metadata": {},
   "outputs": [
    {
     "data": {
      "text/html": [
       "<div>\n",
       "<style scoped>\n",
       "    .dataframe tbody tr th:only-of-type {\n",
       "        vertical-align: middle;\n",
       "    }\n",
       "\n",
       "    .dataframe tbody tr th {\n",
       "        vertical-align: top;\n",
       "    }\n",
       "\n",
       "    .dataframe thead th {\n",
       "        text-align: right;\n",
       "    }\n",
       "</style>\n",
       "<table border=\"1\" class=\"dataframe\">\n",
       "  <thead>\n",
       "    <tr style=\"text-align: right;\">\n",
       "      <th></th>\n",
       "      <th>id</th>\n",
       "      <th>parcelid</th>\n",
       "      <th>calculatedfinishedsquarefeet</th>\n",
       "      <th>taxvaluedollarcnt</th>\n",
       "      <th>taxamount</th>\n",
       "      <th>fips</th>\n",
       "      <th>latitude</th>\n",
       "      <th>longitude</th>\n",
       "      <th>regionidcity</th>\n",
       "      <th>regionidcounty</th>\n",
       "      <th>regionidneighborhood</th>\n",
       "      <th>regionidzip</th>\n",
       "      <th>taxdelinquencyflag</th>\n",
       "      <th>taxdelinquencyyear</th>\n",
       "      <th>tax_rate</th>\n",
       "    </tr>\n",
       "  </thead>\n",
       "  <tbody>\n",
       "    <tr>\n",
       "      <th>0</th>\n",
       "      <td>2463969</td>\n",
       "      <td>11393337</td>\n",
       "      <td>1534.0</td>\n",
       "      <td>43439.0</td>\n",
       "      <td>756.94</td>\n",
       "      <td>6037.0</td>\n",
       "      <td>33981374.0</td>\n",
       "      <td>-118317057.0</td>\n",
       "      <td>12447.0</td>\n",
       "      <td>3101.0</td>\n",
       "      <td>118208.0</td>\n",
       "      <td>96028.0</td>\n",
       "      <td>Y</td>\n",
       "      <td>14.0</td>\n",
       "      <td>1.742536</td>\n",
       "    </tr>\n",
       "    <tr>\n",
       "      <th>1</th>\n",
       "      <td>2061546</td>\n",
       "      <td>11289917</td>\n",
       "      <td>1458.0</td>\n",
       "      <td>136104.0</td>\n",
       "      <td>2319.90</td>\n",
       "      <td>6037.0</td>\n",
       "      <td>34686163.0</td>\n",
       "      <td>-118113100.0</td>\n",
       "      <td>5534.0</td>\n",
       "      <td>3101.0</td>\n",
       "      <td>NaN</td>\n",
       "      <td>97318.0</td>\n",
       "      <td>Y</td>\n",
       "      <td>15.0</td>\n",
       "      <td>1.704505</td>\n",
       "    </tr>\n",
       "    <tr>\n",
       "      <th>2</th>\n",
       "      <td>1834372</td>\n",
       "      <td>11705026</td>\n",
       "      <td>1421.0</td>\n",
       "      <td>35606.0</td>\n",
       "      <td>543.69</td>\n",
       "      <td>6037.0</td>\n",
       "      <td>33999877.0</td>\n",
       "      <td>-118291863.0</td>\n",
       "      <td>12447.0</td>\n",
       "      <td>3101.0</td>\n",
       "      <td>118208.0</td>\n",
       "      <td>96018.0</td>\n",
       "      <td>None</td>\n",
       "      <td>NaN</td>\n",
       "      <td>1.526962</td>\n",
       "    </tr>\n",
       "    <tr>\n",
       "      <th>3</th>\n",
       "      <td>1923117</td>\n",
       "      <td>14269464</td>\n",
       "      <td>2541.0</td>\n",
       "      <td>880456.0</td>\n",
       "      <td>9819.72</td>\n",
       "      <td>6059.0</td>\n",
       "      <td>33694636.0</td>\n",
       "      <td>-117912245.0</td>\n",
       "      <td>38032.0</td>\n",
       "      <td>1286.0</td>\n",
       "      <td>NaN</td>\n",
       "      <td>96958.0</td>\n",
       "      <td>None</td>\n",
       "      <td>NaN</td>\n",
       "      <td>1.115299</td>\n",
       "    </tr>\n",
       "    <tr>\n",
       "      <th>4</th>\n",
       "      <td>2121349</td>\n",
       "      <td>11389003</td>\n",
       "      <td>1650.0</td>\n",
       "      <td>614000.0</td>\n",
       "      <td>7673.19</td>\n",
       "      <td>6037.0</td>\n",
       "      <td>33985377.0</td>\n",
       "      <td>-118361620.0</td>\n",
       "      <td>396550.0</td>\n",
       "      <td>3101.0</td>\n",
       "      <td>NaN</td>\n",
       "      <td>96037.0</td>\n",
       "      <td>None</td>\n",
       "      <td>NaN</td>\n",
       "      <td>1.249705</td>\n",
       "    </tr>\n",
       "  </tbody>\n",
       "</table>\n",
       "</div>"
      ],
      "text/plain": [
       "        id  parcelid  calculatedfinishedsquarefeet  taxvaluedollarcnt  \\\n",
       "0  2463969  11393337                        1534.0            43439.0   \n",
       "1  2061546  11289917                        1458.0           136104.0   \n",
       "2  1834372  11705026                        1421.0            35606.0   \n",
       "3  1923117  14269464                        2541.0           880456.0   \n",
       "4  2121349  11389003                        1650.0           614000.0   \n",
       "\n",
       "   taxamount    fips    latitude    longitude  regionidcity  regionidcounty  \\\n",
       "0     756.94  6037.0  33981374.0 -118317057.0       12447.0          3101.0   \n",
       "1    2319.90  6037.0  34686163.0 -118113100.0        5534.0          3101.0   \n",
       "2     543.69  6037.0  33999877.0 -118291863.0       12447.0          3101.0   \n",
       "3    9819.72  6059.0  33694636.0 -117912245.0       38032.0          1286.0   \n",
       "4    7673.19  6037.0  33985377.0 -118361620.0      396550.0          3101.0   \n",
       "\n",
       "   regionidneighborhood  regionidzip taxdelinquencyflag  taxdelinquencyyear  \\\n",
       "0              118208.0      96028.0                  Y                14.0   \n",
       "1                   NaN      97318.0                  Y                15.0   \n",
       "2              118208.0      96018.0               None                 NaN   \n",
       "3                   NaN      96958.0               None                 NaN   \n",
       "4                   NaN      96037.0               None                 NaN   \n",
       "\n",
       "   tax_rate  \n",
       "0  1.742536  \n",
       "1  1.704505  \n",
       "2  1.526962  \n",
       "3  1.115299  \n",
       "4  1.249705  "
      ]
     },
     "execution_count": 25,
     "metadata": {},
     "output_type": "execute_result"
    }
   ],
   "source": [
    "# Creating the tax rate column\n",
    "tax_df['tax_rate'] = (tax_df.taxamount / tax_df.taxvaluedollarcnt) * 100\n",
    "tax_df.head()"
   ]
  },
  {
   "cell_type": "code",
   "execution_count": null,
   "metadata": {},
   "outputs": [],
   "source": []
  },
  {
   "cell_type": "markdown",
   "metadata": {},
   "source": [
    "## Deriving Location Information.\n",
    "\n",
    "- The countyID and region ids appear to have been obfuscated in order for privacy reasons, however there are several ways to identify state, county, and zip code information using latitude and longitude information.\n",
    "\n",
    "- However, first of all, the latitude and longitude numbers needed to be adjusted."
   ]
  },
  {
   "cell_type": "markdown",
   "metadata": {},
   "source": [
    "### Fixing the Latitude and Longitude numbers."
   ]
  },
  {
   "cell_type": "code",
   "execution_count": 26,
   "metadata": {},
   "outputs": [
    {
     "data": {
      "text/html": [
       "<div>\n",
       "<style scoped>\n",
       "    .dataframe tbody tr th:only-of-type {\n",
       "        vertical-align: middle;\n",
       "    }\n",
       "\n",
       "    .dataframe tbody tr th {\n",
       "        vertical-align: top;\n",
       "    }\n",
       "\n",
       "    .dataframe thead th {\n",
       "        text-align: right;\n",
       "    }\n",
       "</style>\n",
       "<table border=\"1\" class=\"dataframe\">\n",
       "  <thead>\n",
       "    <tr style=\"text-align: right;\">\n",
       "      <th></th>\n",
       "      <th>id</th>\n",
       "      <th>parcelid</th>\n",
       "      <th>calculatedfinishedsquarefeet</th>\n",
       "      <th>taxvaluedollarcnt</th>\n",
       "      <th>taxamount</th>\n",
       "      <th>fips</th>\n",
       "      <th>latitude</th>\n",
       "      <th>longitude</th>\n",
       "      <th>regionidcity</th>\n",
       "      <th>regionidcounty</th>\n",
       "      <th>regionidneighborhood</th>\n",
       "      <th>regionidzip</th>\n",
       "      <th>taxdelinquencyflag</th>\n",
       "      <th>taxdelinquencyyear</th>\n",
       "      <th>tax_rate</th>\n",
       "      <th>lat_cor</th>\n",
       "      <th>long_cor</th>\n",
       "    </tr>\n",
       "  </thead>\n",
       "  <tbody>\n",
       "    <tr>\n",
       "      <th>0</th>\n",
       "      <td>2463969</td>\n",
       "      <td>11393337</td>\n",
       "      <td>1534.0</td>\n",
       "      <td>43439.0</td>\n",
       "      <td>756.94</td>\n",
       "      <td>6037.0</td>\n",
       "      <td>33981374.0</td>\n",
       "      <td>-118317057.0</td>\n",
       "      <td>12447.0</td>\n",
       "      <td>3101.0</td>\n",
       "      <td>118208.0</td>\n",
       "      <td>96028.0</td>\n",
       "      <td>Y</td>\n",
       "      <td>14.0</td>\n",
       "      <td>1.742536</td>\n",
       "      <td>33.981374</td>\n",
       "      <td>-118.317057</td>\n",
       "    </tr>\n",
       "    <tr>\n",
       "      <th>1</th>\n",
       "      <td>2061546</td>\n",
       "      <td>11289917</td>\n",
       "      <td>1458.0</td>\n",
       "      <td>136104.0</td>\n",
       "      <td>2319.90</td>\n",
       "      <td>6037.0</td>\n",
       "      <td>34686163.0</td>\n",
       "      <td>-118113100.0</td>\n",
       "      <td>5534.0</td>\n",
       "      <td>3101.0</td>\n",
       "      <td>NaN</td>\n",
       "      <td>97318.0</td>\n",
       "      <td>Y</td>\n",
       "      <td>15.0</td>\n",
       "      <td>1.704505</td>\n",
       "      <td>34.686163</td>\n",
       "      <td>-118.113100</td>\n",
       "    </tr>\n",
       "    <tr>\n",
       "      <th>2</th>\n",
       "      <td>1834372</td>\n",
       "      <td>11705026</td>\n",
       "      <td>1421.0</td>\n",
       "      <td>35606.0</td>\n",
       "      <td>543.69</td>\n",
       "      <td>6037.0</td>\n",
       "      <td>33999877.0</td>\n",
       "      <td>-118291863.0</td>\n",
       "      <td>12447.0</td>\n",
       "      <td>3101.0</td>\n",
       "      <td>118208.0</td>\n",
       "      <td>96018.0</td>\n",
       "      <td>None</td>\n",
       "      <td>NaN</td>\n",
       "      <td>1.526962</td>\n",
       "      <td>33.999877</td>\n",
       "      <td>-118.291863</td>\n",
       "    </tr>\n",
       "    <tr>\n",
       "      <th>3</th>\n",
       "      <td>1923117</td>\n",
       "      <td>14269464</td>\n",
       "      <td>2541.0</td>\n",
       "      <td>880456.0</td>\n",
       "      <td>9819.72</td>\n",
       "      <td>6059.0</td>\n",
       "      <td>33694636.0</td>\n",
       "      <td>-117912245.0</td>\n",
       "      <td>38032.0</td>\n",
       "      <td>1286.0</td>\n",
       "      <td>NaN</td>\n",
       "      <td>96958.0</td>\n",
       "      <td>None</td>\n",
       "      <td>NaN</td>\n",
       "      <td>1.115299</td>\n",
       "      <td>33.694636</td>\n",
       "      <td>-117.912245</td>\n",
       "    </tr>\n",
       "    <tr>\n",
       "      <th>4</th>\n",
       "      <td>2121349</td>\n",
       "      <td>11389003</td>\n",
       "      <td>1650.0</td>\n",
       "      <td>614000.0</td>\n",
       "      <td>7673.19</td>\n",
       "      <td>6037.0</td>\n",
       "      <td>33985377.0</td>\n",
       "      <td>-118361620.0</td>\n",
       "      <td>396550.0</td>\n",
       "      <td>3101.0</td>\n",
       "      <td>NaN</td>\n",
       "      <td>96037.0</td>\n",
       "      <td>None</td>\n",
       "      <td>NaN</td>\n",
       "      <td>1.249705</td>\n",
       "      <td>33.985377</td>\n",
       "      <td>-118.361620</td>\n",
       "    </tr>\n",
       "  </tbody>\n",
       "</table>\n",
       "</div>"
      ],
      "text/plain": [
       "        id  parcelid  calculatedfinishedsquarefeet  taxvaluedollarcnt  \\\n",
       "0  2463969  11393337                        1534.0            43439.0   \n",
       "1  2061546  11289917                        1458.0           136104.0   \n",
       "2  1834372  11705026                        1421.0            35606.0   \n",
       "3  1923117  14269464                        2541.0           880456.0   \n",
       "4  2121349  11389003                        1650.0           614000.0   \n",
       "\n",
       "   taxamount    fips    latitude    longitude  regionidcity  regionidcounty  \\\n",
       "0     756.94  6037.0  33981374.0 -118317057.0       12447.0          3101.0   \n",
       "1    2319.90  6037.0  34686163.0 -118113100.0        5534.0          3101.0   \n",
       "2     543.69  6037.0  33999877.0 -118291863.0       12447.0          3101.0   \n",
       "3    9819.72  6059.0  33694636.0 -117912245.0       38032.0          1286.0   \n",
       "4    7673.19  6037.0  33985377.0 -118361620.0      396550.0          3101.0   \n",
       "\n",
       "   regionidneighborhood  regionidzip taxdelinquencyflag  taxdelinquencyyear  \\\n",
       "0              118208.0      96028.0                  Y                14.0   \n",
       "1                   NaN      97318.0                  Y                15.0   \n",
       "2              118208.0      96018.0               None                 NaN   \n",
       "3                   NaN      96958.0               None                 NaN   \n",
       "4                   NaN      96037.0               None                 NaN   \n",
       "\n",
       "   tax_rate    lat_cor    long_cor  \n",
       "0  1.742536  33.981374 -118.317057  \n",
       "1  1.704505  34.686163 -118.113100  \n",
       "2  1.526962  33.999877 -118.291863  \n",
       "3  1.115299  33.694636 -117.912245  \n",
       "4  1.249705  33.985377 -118.361620  "
      ]
     },
     "execution_count": 26,
     "metadata": {},
     "output_type": "execute_result"
    }
   ],
   "source": [
    "# Run this cell to move the decimal point over for the latitude and longitude numbers. Otherwise, those columns are useless.\n",
    "\n",
    "tax_df['lat_cor'] = tax_df.latitude / 1000000\n",
    "tax_df['long_cor'] = tax_df.longitude / 1000000\n",
    "tax_df.head()"
   ]
  },
  {
   "cell_type": "markdown",
   "metadata": {},
   "source": [
    "Discovered that there were some big outliers in the data for tax amount and tax rate (which is derived from tax amount / property tax value). The takeaway from that analysis was that those homes with tax deliquencies sometimes paid a large tax bill in a given year, causing that tax rate to shoot way up, when it otherwise wouldn't have."
   ]
  },
  {
   "cell_type": "markdown",
   "metadata": {},
   "source": [
    "#### First method attempt at finding county information:\n",
    "\n",
    "Attempted to use a python library, geopy to reverse find the zip codes for a given latitude and longitutde, but according to the terms of service, the number of rows we had in our dataframe (21,000+) would have produced more API calls than the free version would allow, thus we opted for another approach shown below to find the counties in which each property was located."
   ]
  },
  {
   "cell_type": "code",
   "execution_count": 27,
   "metadata": {},
   "outputs": [],
   "source": [
    "# Importing the library:\n",
    "\n",
    "import geopy\n",
    "\n",
    "# To install geopy, follow this link:\n",
    "# https://geopy.readthedocs.io/en/stable/"
   ]
  },
  {
   "cell_type": "code",
   "execution_count": 28,
   "metadata": {},
   "outputs": [],
   "source": [
    "# Function that reverse finds the zip code from latitude and longitude coordinates.\n",
    "# Function produces an address and zipcode. I then put those into a dataframe for testing.\n",
    "\n",
    "def get_zipcode(df, geolocator, lat_field, lon_field):\n",
    "    location = geolocator.reverse((df[lat_field], df[lon_field]))\n",
    "    return location.raw['address']['postcode']\n",
    "\n",
    "\n",
    "geolocator = geopy.Nominatim(user_agent='directorb@gmail.com')\n",
    "\n",
    "df_geo_test = pd.DataFrame({\n",
    "    'Lat': [29.39291, 29.39923, 29.40147, 29.38752, 29.39291, 29.39537, 29.39343, 29.39291, 29.39556],\n",
    "    'Lon': [-98.50925, -98.51256, -98.51123, -98.52372, -98.50925, -98.50402, -98.49707, -98.50925, -98.53148]\n",
    "})\n",
    "zipcodes = df_geo_test.apply(get_zipcode, axis=1, geolocator=geolocator, lat_field='Lat', lon_field='Lon')"
   ]
  },
  {
   "cell_type": "markdown",
   "metadata": {},
   "source": [
    "**Dataframe of lat/long coordiates**"
   ]
  },
  {
   "cell_type": "code",
   "execution_count": 29,
   "metadata": {},
   "outputs": [
    {
     "data": {
      "text/html": [
       "<div>\n",
       "<style scoped>\n",
       "    .dataframe tbody tr th:only-of-type {\n",
       "        vertical-align: middle;\n",
       "    }\n",
       "\n",
       "    .dataframe tbody tr th {\n",
       "        vertical-align: top;\n",
       "    }\n",
       "\n",
       "    .dataframe thead th {\n",
       "        text-align: right;\n",
       "    }\n",
       "</style>\n",
       "<table border=\"1\" class=\"dataframe\">\n",
       "  <thead>\n",
       "    <tr style=\"text-align: right;\">\n",
       "      <th></th>\n",
       "      <th>Lat</th>\n",
       "      <th>Lon</th>\n",
       "    </tr>\n",
       "  </thead>\n",
       "  <tbody>\n",
       "    <tr>\n",
       "      <th>0</th>\n",
       "      <td>29.39291</td>\n",
       "      <td>-98.50925</td>\n",
       "    </tr>\n",
       "    <tr>\n",
       "      <th>1</th>\n",
       "      <td>29.39923</td>\n",
       "      <td>-98.51256</td>\n",
       "    </tr>\n",
       "    <tr>\n",
       "      <th>2</th>\n",
       "      <td>29.40147</td>\n",
       "      <td>-98.51123</td>\n",
       "    </tr>\n",
       "    <tr>\n",
       "      <th>3</th>\n",
       "      <td>29.38752</td>\n",
       "      <td>-98.52372</td>\n",
       "    </tr>\n",
       "    <tr>\n",
       "      <th>4</th>\n",
       "      <td>29.39291</td>\n",
       "      <td>-98.50925</td>\n",
       "    </tr>\n",
       "    <tr>\n",
       "      <th>5</th>\n",
       "      <td>29.39537</td>\n",
       "      <td>-98.50402</td>\n",
       "    </tr>\n",
       "    <tr>\n",
       "      <th>6</th>\n",
       "      <td>29.39343</td>\n",
       "      <td>-98.49707</td>\n",
       "    </tr>\n",
       "    <tr>\n",
       "      <th>7</th>\n",
       "      <td>29.39291</td>\n",
       "      <td>-98.50925</td>\n",
       "    </tr>\n",
       "    <tr>\n",
       "      <th>8</th>\n",
       "      <td>29.39556</td>\n",
       "      <td>-98.53148</td>\n",
       "    </tr>\n",
       "  </tbody>\n",
       "</table>\n",
       "</div>"
      ],
      "text/plain": [
       "        Lat       Lon\n",
       "0  29.39291 -98.50925\n",
       "1  29.39923 -98.51256\n",
       "2  29.40147 -98.51123\n",
       "3  29.38752 -98.52372\n",
       "4  29.39291 -98.50925\n",
       "5  29.39537 -98.50402\n",
       "6  29.39343 -98.49707\n",
       "7  29.39291 -98.50925\n",
       "8  29.39556 -98.53148"
      ]
     },
     "execution_count": 29,
     "metadata": {},
     "output_type": "execute_result"
    }
   ],
   "source": [
    "# Run to produce dataframe\n",
    "df_geo_test"
   ]
  },
  {
   "cell_type": "markdown",
   "metadata": {},
   "source": [
    "**Pandas series with Zip codes:**"
   ]
  },
  {
   "cell_type": "code",
   "execution_count": 30,
   "metadata": {},
   "outputs": [
    {
     "data": {
      "text/plain": [
       "0    78204\n",
       "1    78204\n",
       "2    78204\n",
       "3    78225\n",
       "4    78204\n",
       "5    78204\n",
       "6    78204\n",
       "7    78204\n",
       "8    78225\n",
       "dtype: object"
      ]
     },
     "execution_count": 30,
     "metadata": {},
     "output_type": "execute_result"
    }
   ],
   "source": [
    "zipcodes"
   ]
  },
  {
   "cell_type": "markdown",
   "metadata": {},
   "source": [
    "### Takeaways\n",
    "\n",
    "- Using geopy would've gotten us information we needed to identify zip codes for each property.\n",
    "- However, we ran into API call limits due to the size of our data. Thus, we had to use another way to identify the locations of the properties."
   ]
  },
  {
   "cell_type": "code",
   "execution_count": 31,
   "metadata": {},
   "outputs": [
    {
     "data": {
      "text/plain": [
       "6037.0    13621\n",
       "6059.0     5913\n",
       "6111.0     1818\n",
       "Name: fips, dtype: int64"
      ]
     },
     "execution_count": 31,
     "metadata": {},
     "output_type": "execute_result"
    }
   ],
   "source": [
    "tax_df.fips.value_counts()"
   ]
  },
  {
   "cell_type": "markdown",
   "metadata": {},
   "source": [
    "## Using a manual process:"
   ]
  },
  {
   "cell_type": "markdown",
   "metadata": {},
   "source": [
    "Since we didn't have enough time to import a database of latitude and longitude data with zip, county and state info, we used the following US Government website to identify the counties and state using the `fips` column that was already in the database.\n",
    "\n",
    "The location of these tax areas is in:\n",
    "- Ventura County, CA\n",
    "- Los Angeles County, CA\n",
    "- Orange County, CA"
   ]
  },
  {
   "cell_type": "code",
   "execution_count": 32,
   "metadata": {},
   "outputs": [
    {
     "name": "stdout",
     "output_type": "stream",
     "text": [
      "<class 'pandas.core.frame.DataFrame'>\n",
      "RangeIndex: 21352 entries, 0 to 21351\n",
      "Data columns (total 18 columns):\n",
      " #   Column                        Non-Null Count  Dtype  \n",
      "---  ------                        --------------  -----  \n",
      " 0   id                            21352 non-null  int64  \n",
      " 1   parcelid                      21352 non-null  int64  \n",
      " 2   calculatedfinishedsquarefeet  21297 non-null  float64\n",
      " 3   taxvaluedollarcnt             21352 non-null  float64\n",
      " 4   taxamount                     21351 non-null  float64\n",
      " 5   fips                          21352 non-null  float64\n",
      " 6   latitude                      21352 non-null  float64\n",
      " 7   longitude                     21352 non-null  float64\n",
      " 8   regionidcity                  20984 non-null  float64\n",
      " 9   regionidcounty                21352 non-null  float64\n",
      " 10  regionidneighborhood          8554 non-null   float64\n",
      " 11  regionidzip                   21338 non-null  float64\n",
      " 12  taxdelinquencyflag            726 non-null    object \n",
      " 13  taxdelinquencyyear            726 non-null    float64\n",
      " 14  tax_rate                      21351 non-null  float64\n",
      " 15  lat_cor                       21352 non-null  float64\n",
      " 16  long_cor                      21352 non-null  float64\n",
      " 17  fips_geo                      21352 non-null  object \n",
      "dtypes: float64(14), int64(2), object(2)\n",
      "memory usage: 2.9+ MB\n"
     ]
    }
   ],
   "source": [
    "tax_df['fips_geo'] = tax_df.fips.astype('str')\n",
    "tax_df.info()"
   ]
  },
  {
   "cell_type": "code",
   "execution_count": 33,
   "metadata": {},
   "outputs": [
    {
     "data": {
      "text/plain": [
       "6037.0    13621\n",
       "6059.0     5913\n",
       "6111.0     1818\n",
       "Name: fips_geo, dtype: int64"
      ]
     },
     "execution_count": 33,
     "metadata": {},
     "output_type": "execute_result"
    }
   ],
   "source": [
    "tax_df.fips_geo.value_counts()"
   ]
  },
  {
   "cell_type": "code",
   "execution_count": 34,
   "metadata": {},
   "outputs": [],
   "source": [
    "tax_df['fips_geo'] = tax_df['fips_geo'].str.replace('6037.0', '06037').replace('6059.0', '06059').replace('6111.0', '06111')"
   ]
  },
  {
   "cell_type": "code",
   "execution_count": 35,
   "metadata": {},
   "outputs": [
    {
     "data": {
      "text/plain": [
       "06037    13621\n",
       "06059     5913\n",
       "06111     1818\n",
       "Name: fips_geo, dtype: int64"
      ]
     },
     "execution_count": 35,
     "metadata": {},
     "output_type": "execute_result"
    }
   ],
   "source": [
    "tax_df.fips_geo.value_counts()"
   ]
  },
  {
   "cell_type": "code",
   "execution_count": 36,
   "metadata": {},
   "outputs": [
    {
     "data": {
      "text/html": [
       "<div>\n",
       "<style scoped>\n",
       "    .dataframe tbody tr th:only-of-type {\n",
       "        vertical-align: middle;\n",
       "    }\n",
       "\n",
       "    .dataframe tbody tr th {\n",
       "        vertical-align: top;\n",
       "    }\n",
       "\n",
       "    .dataframe thead th {\n",
       "        text-align: right;\n",
       "    }\n",
       "</style>\n",
       "<table border=\"1\" class=\"dataframe\">\n",
       "  <thead>\n",
       "    <tr style=\"text-align: right;\">\n",
       "      <th></th>\n",
       "      <th>id</th>\n",
       "      <th>parcelid</th>\n",
       "      <th>calculatedfinishedsquarefeet</th>\n",
       "      <th>taxvaluedollarcnt</th>\n",
       "      <th>taxamount</th>\n",
       "      <th>fips</th>\n",
       "      <th>latitude</th>\n",
       "      <th>longitude</th>\n",
       "      <th>regionidcity</th>\n",
       "      <th>regionidcounty</th>\n",
       "      <th>regionidneighborhood</th>\n",
       "      <th>regionidzip</th>\n",
       "      <th>taxdelinquencyflag</th>\n",
       "      <th>taxdelinquencyyear</th>\n",
       "      <th>tax_rate</th>\n",
       "      <th>lat_cor</th>\n",
       "      <th>long_cor</th>\n",
       "      <th>fips_geo</th>\n",
       "      <th>is_delinquent</th>\n",
       "    </tr>\n",
       "  </thead>\n",
       "  <tbody>\n",
       "    <tr>\n",
       "      <th>0</th>\n",
       "      <td>2463969</td>\n",
       "      <td>11393337</td>\n",
       "      <td>1534.0</td>\n",
       "      <td>43439.0</td>\n",
       "      <td>756.94</td>\n",
       "      <td>6037.0</td>\n",
       "      <td>33981374.0</td>\n",
       "      <td>-118317057.0</td>\n",
       "      <td>12447.0</td>\n",
       "      <td>3101.0</td>\n",
       "      <td>118208.0</td>\n",
       "      <td>96028.0</td>\n",
       "      <td>Y</td>\n",
       "      <td>14.0</td>\n",
       "      <td>1.742536</td>\n",
       "      <td>33.981374</td>\n",
       "      <td>-118.317057</td>\n",
       "      <td>06037</td>\n",
       "      <td>True</td>\n",
       "    </tr>\n",
       "    <tr>\n",
       "      <th>1</th>\n",
       "      <td>2061546</td>\n",
       "      <td>11289917</td>\n",
       "      <td>1458.0</td>\n",
       "      <td>136104.0</td>\n",
       "      <td>2319.90</td>\n",
       "      <td>6037.0</td>\n",
       "      <td>34686163.0</td>\n",
       "      <td>-118113100.0</td>\n",
       "      <td>5534.0</td>\n",
       "      <td>3101.0</td>\n",
       "      <td>NaN</td>\n",
       "      <td>97318.0</td>\n",
       "      <td>Y</td>\n",
       "      <td>15.0</td>\n",
       "      <td>1.704505</td>\n",
       "      <td>34.686163</td>\n",
       "      <td>-118.113100</td>\n",
       "      <td>06037</td>\n",
       "      <td>True</td>\n",
       "    </tr>\n",
       "    <tr>\n",
       "      <th>2</th>\n",
       "      <td>1834372</td>\n",
       "      <td>11705026</td>\n",
       "      <td>1421.0</td>\n",
       "      <td>35606.0</td>\n",
       "      <td>543.69</td>\n",
       "      <td>6037.0</td>\n",
       "      <td>33999877.0</td>\n",
       "      <td>-118291863.0</td>\n",
       "      <td>12447.0</td>\n",
       "      <td>3101.0</td>\n",
       "      <td>118208.0</td>\n",
       "      <td>96018.0</td>\n",
       "      <td>None</td>\n",
       "      <td>NaN</td>\n",
       "      <td>1.526962</td>\n",
       "      <td>33.999877</td>\n",
       "      <td>-118.291863</td>\n",
       "      <td>06037</td>\n",
       "      <td>False</td>\n",
       "    </tr>\n",
       "    <tr>\n",
       "      <th>3</th>\n",
       "      <td>1923117</td>\n",
       "      <td>14269464</td>\n",
       "      <td>2541.0</td>\n",
       "      <td>880456.0</td>\n",
       "      <td>9819.72</td>\n",
       "      <td>6059.0</td>\n",
       "      <td>33694636.0</td>\n",
       "      <td>-117912245.0</td>\n",
       "      <td>38032.0</td>\n",
       "      <td>1286.0</td>\n",
       "      <td>NaN</td>\n",
       "      <td>96958.0</td>\n",
       "      <td>None</td>\n",
       "      <td>NaN</td>\n",
       "      <td>1.115299</td>\n",
       "      <td>33.694636</td>\n",
       "      <td>-117.912245</td>\n",
       "      <td>06059</td>\n",
       "      <td>False</td>\n",
       "    </tr>\n",
       "    <tr>\n",
       "      <th>4</th>\n",
       "      <td>2121349</td>\n",
       "      <td>11389003</td>\n",
       "      <td>1650.0</td>\n",
       "      <td>614000.0</td>\n",
       "      <td>7673.19</td>\n",
       "      <td>6037.0</td>\n",
       "      <td>33985377.0</td>\n",
       "      <td>-118361620.0</td>\n",
       "      <td>396550.0</td>\n",
       "      <td>3101.0</td>\n",
       "      <td>NaN</td>\n",
       "      <td>96037.0</td>\n",
       "      <td>None</td>\n",
       "      <td>NaN</td>\n",
       "      <td>1.249705</td>\n",
       "      <td>33.985377</td>\n",
       "      <td>-118.361620</td>\n",
       "      <td>06037</td>\n",
       "      <td>False</td>\n",
       "    </tr>\n",
       "  </tbody>\n",
       "</table>\n",
       "</div>"
      ],
      "text/plain": [
       "        id  parcelid  calculatedfinishedsquarefeet  taxvaluedollarcnt  \\\n",
       "0  2463969  11393337                        1534.0            43439.0   \n",
       "1  2061546  11289917                        1458.0           136104.0   \n",
       "2  1834372  11705026                        1421.0            35606.0   \n",
       "3  1923117  14269464                        2541.0           880456.0   \n",
       "4  2121349  11389003                        1650.0           614000.0   \n",
       "\n",
       "   taxamount    fips    latitude    longitude  regionidcity  regionidcounty  \\\n",
       "0     756.94  6037.0  33981374.0 -118317057.0       12447.0          3101.0   \n",
       "1    2319.90  6037.0  34686163.0 -118113100.0        5534.0          3101.0   \n",
       "2     543.69  6037.0  33999877.0 -118291863.0       12447.0          3101.0   \n",
       "3    9819.72  6059.0  33694636.0 -117912245.0       38032.0          1286.0   \n",
       "4    7673.19  6037.0  33985377.0 -118361620.0      396550.0          3101.0   \n",
       "\n",
       "   regionidneighborhood  regionidzip taxdelinquencyflag  taxdelinquencyyear  \\\n",
       "0              118208.0      96028.0                  Y                14.0   \n",
       "1                   NaN      97318.0                  Y                15.0   \n",
       "2              118208.0      96018.0               None                 NaN   \n",
       "3                   NaN      96958.0               None                 NaN   \n",
       "4                   NaN      96037.0               None                 NaN   \n",
       "\n",
       "   tax_rate    lat_cor    long_cor fips_geo  is_delinquent  \n",
       "0  1.742536  33.981374 -118.317057    06037           True  \n",
       "1  1.704505  34.686163 -118.113100    06037           True  \n",
       "2  1.526962  33.999877 -118.291863    06037          False  \n",
       "3  1.115299  33.694636 -117.912245    06059          False  \n",
       "4  1.249705  33.985377 -118.361620    06037          False  "
      ]
     },
     "execution_count": 36,
     "metadata": {},
     "output_type": "execute_result"
    }
   ],
   "source": [
    "tax_df['is_delinquent'] = tax_df.taxdelinquencyflag == \"Y\"\n",
    "tax_df.head()"
   ]
  },
  {
   "cell_type": "code",
   "execution_count": 37,
   "metadata": {},
   "outputs": [
    {
     "data": {
      "text/plain": [
       "45.28836480971813"
      ]
     },
     "execution_count": 37,
     "metadata": {},
     "output_type": "execute_result"
    }
   ],
   "source": [
    "tax_df.tax_rate.max()"
   ]
  },
  {
   "cell_type": "markdown",
   "metadata": {},
   "source": [
    "We then tried to determine if the outliers on the tax rates were actually delinqent by using a scatter plot. It turns out that those payments were not coded as delinqent, whether by "
   ]
  },
  {
   "cell_type": "code",
   "execution_count": 38,
   "metadata": {},
   "outputs": [
    {
     "data": {
      "text/plain": [
       "<AxesSubplot:xlabel='tax_rate', ylabel='taxvaluedollarcnt'>"
      ]
     },
     "execution_count": 38,
     "metadata": {},
     "output_type": "execute_result"
    },
    {
     "data": {
      "image/png": "[encoded data removed]",
      "text/plain": [
       "<Figure size 936x720 with 1 Axes>"
      ]
     },
     "metadata": {
      "needs_background": "light"
     },
     "output_type": "display_data"
    }
   ],
   "source": [
    "sns.scatterplot(x = \"tax_rate\", y = \"taxvaluedollarcnt\", data = tax_df, hue = 'is_delinquent')"
   ]
  },
  {
   "cell_type": "markdown",
   "metadata": {},
   "source": [
    "#### Still a lot of outliers, for charting purposes will need to clean that up."
   ]
  },
  {
   "cell_type": "markdown",
   "metadata": {},
   "source": [
    "### Using manual method to remove `tax_rate` outliers"
   ]
  },
  {
   "cell_type": "code",
   "execution_count": 39,
   "metadata": {},
   "outputs": [],
   "source": [
    "tax_df = tax_df[tax_df.tax_rate < 4]"
   ]
  },
  {
   "cell_type": "code",
   "execution_count": 40,
   "metadata": {},
   "outputs": [
    {
     "data": {
      "text/html": [
       "<div>\n",
       "<style scoped>\n",
       "    .dataframe tbody tr th:only-of-type {\n",
       "        vertical-align: middle;\n",
       "    }\n",
       "\n",
       "    .dataframe tbody tr th {\n",
       "        vertical-align: top;\n",
       "    }\n",
       "\n",
       "    .dataframe thead th {\n",
       "        text-align: right;\n",
       "    }\n",
       "</style>\n",
       "<table border=\"1\" class=\"dataframe\">\n",
       "  <thead>\n",
       "    <tr style=\"text-align: right;\">\n",
       "      <th></th>\n",
       "      <th>id</th>\n",
       "      <th>parcelid</th>\n",
       "      <th>calculatedfinishedsquarefeet</th>\n",
       "      <th>taxvaluedollarcnt</th>\n",
       "      <th>taxamount</th>\n",
       "      <th>fips</th>\n",
       "      <th>latitude</th>\n",
       "      <th>longitude</th>\n",
       "      <th>regionidcity</th>\n",
       "      <th>regionidcounty</th>\n",
       "      <th>regionidneighborhood</th>\n",
       "      <th>regionidzip</th>\n",
       "      <th>taxdelinquencyyear</th>\n",
       "      <th>tax_rate</th>\n",
       "      <th>lat_cor</th>\n",
       "      <th>long_cor</th>\n",
       "    </tr>\n",
       "  </thead>\n",
       "  <tbody>\n",
       "    <tr>\n",
       "      <th>count</th>\n",
       "      <td>21293.0</td>\n",
       "      <td>21293.0</td>\n",
       "      <td>21238.0</td>\n",
       "      <td>21293.0</td>\n",
       "      <td>21293.0</td>\n",
       "      <td>21293.0</td>\n",
       "      <td>21293.0</td>\n",
       "      <td>21293.0</td>\n",
       "      <td>20927.0</td>\n",
       "      <td>21293.0</td>\n",
       "      <td>8536.0</td>\n",
       "      <td>21279.0</td>\n",
       "      <td>721.0</td>\n",
       "      <td>21293.0</td>\n",
       "      <td>21293.0</td>\n",
       "      <td>21293.0</td>\n",
       "    </tr>\n",
       "    <tr>\n",
       "      <th>mean</th>\n",
       "      <td>1511196.2</td>\n",
       "      <td>13051541.9</td>\n",
       "      <td>1800.7</td>\n",
       "      <td>504195.6</td>\n",
       "      <td>6134.2</td>\n",
       "      <td>6049.4</td>\n",
       "      <td>34004123.5</td>\n",
       "      <td>-118201818.7</td>\n",
       "      <td>33378.2</td>\n",
       "      <td>2508.8</td>\n",
       "      <td>187692.4</td>\n",
       "      <td>96605.6</td>\n",
       "      <td>14.1</td>\n",
       "      <td>1.3</td>\n",
       "      <td>34.0</td>\n",
       "      <td>-118.2</td>\n",
       "    </tr>\n",
       "    <tr>\n",
       "      <th>std</th>\n",
       "      <td>859048.3</td>\n",
       "      <td>3446502.8</td>\n",
       "      <td>945.4</td>\n",
       "      <td>651095.7</td>\n",
       "      <td>7542.2</td>\n",
       "      <td>21.1</td>\n",
       "      <td>267204.7</td>\n",
       "      <td>361869.8</td>\n",
       "      <td>46395.6</td>\n",
       "      <td>809.6</td>\n",
       "      <td>163382.2</td>\n",
       "      <td>4176.6</td>\n",
       "      <td>1.5</td>\n",
       "      <td>0.3</td>\n",
       "      <td>0.3</td>\n",
       "      <td>0.4</td>\n",
       "    </tr>\n",
       "    <tr>\n",
       "      <th>min</th>\n",
       "      <td>349.0</td>\n",
       "      <td>10712101.0</td>\n",
       "      <td>242.0</td>\n",
       "      <td>11089.0</td>\n",
       "      <td>19.9</td>\n",
       "      <td>6037.0</td>\n",
       "      <td>33340851.0</td>\n",
       "      <td>-119388346.0</td>\n",
       "      <td>3491.0</td>\n",
       "      <td>1286.0</td>\n",
       "      <td>6952.0</td>\n",
       "      <td>95982.0</td>\n",
       "      <td>8.0</td>\n",
       "      <td>0.0</td>\n",
       "      <td>33.3</td>\n",
       "      <td>-119.4</td>\n",
       "    </tr>\n",
       "    <tr>\n",
       "      <th>25%</th>\n",
       "      <td>775211.0</td>\n",
       "      <td>11564729.0</td>\n",
       "      <td>1188.0</td>\n",
       "      <td>211974.0</td>\n",
       "      <td>2739.0</td>\n",
       "      <td>6037.0</td>\n",
       "      <td>33806758.0</td>\n",
       "      <td>-118414412.0</td>\n",
       "      <td>12447.0</td>\n",
       "      <td>1286.0</td>\n",
       "      <td>41466.0</td>\n",
       "      <td>96193.0</td>\n",
       "      <td>14.0</td>\n",
       "      <td>1.2</td>\n",
       "      <td>33.8</td>\n",
       "      <td>-118.4</td>\n",
       "    </tr>\n",
       "    <tr>\n",
       "      <th>50%</th>\n",
       "      <td>1527119.0</td>\n",
       "      <td>12547390.0</td>\n",
       "      <td>1556.0</td>\n",
       "      <td>366056.0</td>\n",
       "      <td>4520.6</td>\n",
       "      <td>6037.0</td>\n",
       "      <td>34019051.0</td>\n",
       "      <td>-118178000.0</td>\n",
       "      <td>25218.0</td>\n",
       "      <td>3101.0</td>\n",
       "      <td>118872.0</td>\n",
       "      <td>96395.0</td>\n",
       "      <td>15.0</td>\n",
       "      <td>1.2</td>\n",
       "      <td>34.0</td>\n",
       "      <td>-118.2</td>\n",
       "    </tr>\n",
       "    <tr>\n",
       "      <th>75%</th>\n",
       "      <td>2252567.0</td>\n",
       "      <td>14249294.0</td>\n",
       "      <td>2139.0</td>\n",
       "      <td>589100.0</td>\n",
       "      <td>7133.7</td>\n",
       "      <td>6059.0</td>\n",
       "      <td>34175531.0</td>\n",
       "      <td>-117922962.0</td>\n",
       "      <td>45457.0</td>\n",
       "      <td>3101.0</td>\n",
       "      <td>274765.0</td>\n",
       "      <td>96987.0</td>\n",
       "      <td>15.0</td>\n",
       "      <td>1.3</td>\n",
       "      <td>34.2</td>\n",
       "      <td>-117.9</td>\n",
       "    </tr>\n",
       "    <tr>\n",
       "      <th>max</th>\n",
       "      <td>2982274.0</td>\n",
       "      <td>167687839.0</td>\n",
       "      <td>15450.0</td>\n",
       "      <td>23858374.0</td>\n",
       "      <td>276797.8</td>\n",
       "      <td>6111.0</td>\n",
       "      <td>34779658.0</td>\n",
       "      <td>-117555373.0</td>\n",
       "      <td>396556.0</td>\n",
       "      <td>3101.0</td>\n",
       "      <td>764166.0</td>\n",
       "      <td>399675.0</td>\n",
       "      <td>15.0</td>\n",
       "      <td>4.0</td>\n",
       "      <td>34.8</td>\n",
       "      <td>-117.6</td>\n",
       "    </tr>\n",
       "  </tbody>\n",
       "</table>\n",
       "</div>"
      ],
      "text/plain": [
       "              id     parcelid  calculatedfinishedsquarefeet  \\\n",
       "count    21293.0      21293.0                       21238.0   \n",
       "mean   1511196.2   13051541.9                        1800.7   \n",
       "std     859048.3    3446502.8                         945.4   \n",
       "min        349.0   10712101.0                         242.0   \n",
       "25%     775211.0   11564729.0                        1188.0   \n",
       "50%    1527119.0   12547390.0                        1556.0   \n",
       "75%    2252567.0   14249294.0                        2139.0   \n",
       "max    2982274.0  167687839.0                       15450.0   \n",
       "\n",
       "       taxvaluedollarcnt  taxamount     fips    latitude    longitude  \\\n",
       "count            21293.0    21293.0  21293.0     21293.0      21293.0   \n",
       "mean            504195.6     6134.2   6049.4  34004123.5 -118201818.7   \n",
       "std             651095.7     7542.2     21.1    267204.7     361869.8   \n",
       "min              11089.0       19.9   6037.0  33340851.0 -119388346.0   \n",
       "25%             211974.0     2739.0   6037.0  33806758.0 -118414412.0   \n",
       "50%             366056.0     4520.6   6037.0  34019051.0 -118178000.0   \n",
       "75%             589100.0     7133.7   6059.0  34175531.0 -117922962.0   \n",
       "max           23858374.0   276797.8   6111.0  34779658.0 -117555373.0   \n",
       "\n",
       "       regionidcity  regionidcounty  regionidneighborhood  regionidzip  \\\n",
       "count       20927.0         21293.0                8536.0      21279.0   \n",
       "mean        33378.2          2508.8              187692.4      96605.6   \n",
       "std         46395.6           809.6              163382.2       4176.6   \n",
       "min          3491.0          1286.0                6952.0      95982.0   \n",
       "25%         12447.0          1286.0               41466.0      96193.0   \n",
       "50%         25218.0          3101.0              118872.0      96395.0   \n",
       "75%         45457.0          3101.0              274765.0      96987.0   \n",
       "max        396556.0          3101.0              764166.0     399675.0   \n",
       "\n",
       "       taxdelinquencyyear  tax_rate  lat_cor  long_cor  \n",
       "count               721.0   21293.0  21293.0   21293.0  \n",
       "mean                 14.1       1.3     34.0    -118.2  \n",
       "std                   1.5       0.3      0.3       0.4  \n",
       "min                   8.0       0.0     33.3    -119.4  \n",
       "25%                  14.0       1.2     33.8    -118.4  \n",
       "50%                  15.0       1.2     34.0    -118.2  \n",
       "75%                  15.0       1.3     34.2    -117.9  \n",
       "max                  15.0       4.0     34.8    -117.6  "
      ]
     },
     "execution_count": 40,
     "metadata": {},
     "output_type": "execute_result"
    }
   ],
   "source": [
    "tax_df.describe().round(1)"
   ]
  },
  {
   "cell_type": "code",
   "execution_count": 41,
   "metadata": {},
   "outputs": [
    {
     "data": {
      "text/plain": [
       "5323"
      ]
     },
     "execution_count": 41,
     "metadata": {},
     "output_type": "execute_result"
    }
   ],
   "source": [
    "(tax_df.taxvaluedollarcnt > 589100.0).sum()"
   ]
  },
  {
   "cell_type": "markdown",
   "metadata": {},
   "source": [
    "### Adding county names"
   ]
  },
  {
   "cell_type": "code",
   "execution_count": 42,
   "metadata": {},
   "outputs": [
    {
     "data": {
      "text/html": [
       "<div>\n",
       "<style scoped>\n",
       "    .dataframe tbody tr th:only-of-type {\n",
       "        vertical-align: middle;\n",
       "    }\n",
       "\n",
       "    .dataframe tbody tr th {\n",
       "        vertical-align: top;\n",
       "    }\n",
       "\n",
       "    .dataframe thead th {\n",
       "        text-align: right;\n",
       "    }\n",
       "</style>\n",
       "<table border=\"1\" class=\"dataframe\">\n",
       "  <thead>\n",
       "    <tr style=\"text-align: right;\">\n",
       "      <th></th>\n",
       "      <th>id</th>\n",
       "      <th>parcelid</th>\n",
       "      <th>calculatedfinishedsquarefeet</th>\n",
       "      <th>taxvaluedollarcnt</th>\n",
       "      <th>taxamount</th>\n",
       "      <th>fips</th>\n",
       "      <th>latitude</th>\n",
       "      <th>longitude</th>\n",
       "      <th>regionidcity</th>\n",
       "      <th>regionidcounty</th>\n",
       "      <th>regionidneighborhood</th>\n",
       "      <th>regionidzip</th>\n",
       "      <th>taxdelinquencyflag</th>\n",
       "      <th>taxdelinquencyyear</th>\n",
       "      <th>tax_rate</th>\n",
       "      <th>lat_cor</th>\n",
       "      <th>long_cor</th>\n",
       "      <th>fips_geo</th>\n",
       "      <th>is_delinquent</th>\n",
       "    </tr>\n",
       "  </thead>\n",
       "  <tbody>\n",
       "    <tr>\n",
       "      <th>0</th>\n",
       "      <td>2463969</td>\n",
       "      <td>11393337</td>\n",
       "      <td>1534.0</td>\n",
       "      <td>43439.0</td>\n",
       "      <td>756.94</td>\n",
       "      <td>6037.0</td>\n",
       "      <td>33981374.0</td>\n",
       "      <td>-118317057.0</td>\n",
       "      <td>12447.0</td>\n",
       "      <td>3101.0</td>\n",
       "      <td>118208.0</td>\n",
       "      <td>96028.0</td>\n",
       "      <td>Y</td>\n",
       "      <td>14.0</td>\n",
       "      <td>1.742536</td>\n",
       "      <td>33.981374</td>\n",
       "      <td>-118.317057</td>\n",
       "      <td>06037</td>\n",
       "      <td>True</td>\n",
       "    </tr>\n",
       "    <tr>\n",
       "      <th>1</th>\n",
       "      <td>2061546</td>\n",
       "      <td>11289917</td>\n",
       "      <td>1458.0</td>\n",
       "      <td>136104.0</td>\n",
       "      <td>2319.90</td>\n",
       "      <td>6037.0</td>\n",
       "      <td>34686163.0</td>\n",
       "      <td>-118113100.0</td>\n",
       "      <td>5534.0</td>\n",
       "      <td>3101.0</td>\n",
       "      <td>NaN</td>\n",
       "      <td>97318.0</td>\n",
       "      <td>Y</td>\n",
       "      <td>15.0</td>\n",
       "      <td>1.704505</td>\n",
       "      <td>34.686163</td>\n",
       "      <td>-118.113100</td>\n",
       "      <td>06037</td>\n",
       "      <td>True</td>\n",
       "    </tr>\n",
       "    <tr>\n",
       "      <th>2</th>\n",
       "      <td>1834372</td>\n",
       "      <td>11705026</td>\n",
       "      <td>1421.0</td>\n",
       "      <td>35606.0</td>\n",
       "      <td>543.69</td>\n",
       "      <td>6037.0</td>\n",
       "      <td>33999877.0</td>\n",
       "      <td>-118291863.0</td>\n",
       "      <td>12447.0</td>\n",
       "      <td>3101.0</td>\n",
       "      <td>118208.0</td>\n",
       "      <td>96018.0</td>\n",
       "      <td>None</td>\n",
       "      <td>NaN</td>\n",
       "      <td>1.526962</td>\n",
       "      <td>33.999877</td>\n",
       "      <td>-118.291863</td>\n",
       "      <td>06037</td>\n",
       "      <td>False</td>\n",
       "    </tr>\n",
       "    <tr>\n",
       "      <th>3</th>\n",
       "      <td>1923117</td>\n",
       "      <td>14269464</td>\n",
       "      <td>2541.0</td>\n",
       "      <td>880456.0</td>\n",
       "      <td>9819.72</td>\n",
       "      <td>6059.0</td>\n",
       "      <td>33694636.0</td>\n",
       "      <td>-117912245.0</td>\n",
       "      <td>38032.0</td>\n",
       "      <td>1286.0</td>\n",
       "      <td>NaN</td>\n",
       "      <td>96958.0</td>\n",
       "      <td>None</td>\n",
       "      <td>NaN</td>\n",
       "      <td>1.115299</td>\n",
       "      <td>33.694636</td>\n",
       "      <td>-117.912245</td>\n",
       "      <td>06059</td>\n",
       "      <td>False</td>\n",
       "    </tr>\n",
       "    <tr>\n",
       "      <th>4</th>\n",
       "      <td>2121349</td>\n",
       "      <td>11389003</td>\n",
       "      <td>1650.0</td>\n",
       "      <td>614000.0</td>\n",
       "      <td>7673.19</td>\n",
       "      <td>6037.0</td>\n",
       "      <td>33985377.0</td>\n",
       "      <td>-118361620.0</td>\n",
       "      <td>396550.0</td>\n",
       "      <td>3101.0</td>\n",
       "      <td>NaN</td>\n",
       "      <td>96037.0</td>\n",
       "      <td>None</td>\n",
       "      <td>NaN</td>\n",
       "      <td>1.249705</td>\n",
       "      <td>33.985377</td>\n",
       "      <td>-118.361620</td>\n",
       "      <td>06037</td>\n",
       "      <td>False</td>\n",
       "    </tr>\n",
       "  </tbody>\n",
       "</table>\n",
       "</div>"
      ],
      "text/plain": [
       "        id  parcelid  calculatedfinishedsquarefeet  taxvaluedollarcnt  \\\n",
       "0  2463969  11393337                        1534.0            43439.0   \n",
       "1  2061546  11289917                        1458.0           136104.0   \n",
       "2  1834372  11705026                        1421.0            35606.0   \n",
       "3  1923117  14269464                        2541.0           880456.0   \n",
       "4  2121349  11389003                        1650.0           614000.0   \n",
       "\n",
       "   taxamount    fips    latitude    longitude  regionidcity  regionidcounty  \\\n",
       "0     756.94  6037.0  33981374.0 -118317057.0       12447.0          3101.0   \n",
       "1    2319.90  6037.0  34686163.0 -118113100.0        5534.0          3101.0   \n",
       "2     543.69  6037.0  33999877.0 -118291863.0       12447.0          3101.0   \n",
       "3    9819.72  6059.0  33694636.0 -117912245.0       38032.0          1286.0   \n",
       "4    7673.19  6037.0  33985377.0 -118361620.0      396550.0          3101.0   \n",
       "\n",
       "   regionidneighborhood  regionidzip taxdelinquencyflag  taxdelinquencyyear  \\\n",
       "0              118208.0      96028.0                  Y                14.0   \n",
       "1                   NaN      97318.0                  Y                15.0   \n",
       "2              118208.0      96018.0               None                 NaN   \n",
       "3                   NaN      96958.0               None                 NaN   \n",
       "4                   NaN      96037.0               None                 NaN   \n",
       "\n",
       "   tax_rate    lat_cor    long_cor fips_geo  is_delinquent  \n",
       "0  1.742536  33.981374 -118.317057    06037           True  \n",
       "1  1.704505  34.686163 -118.113100    06037           True  \n",
       "2  1.526962  33.999877 -118.291863    06037          False  \n",
       "3  1.115299  33.694636 -117.912245    06059          False  \n",
       "4  1.249705  33.985377 -118.361620    06037          False  "
      ]
     },
     "execution_count": 42,
     "metadata": {},
     "output_type": "execute_result"
    }
   ],
   "source": [
    "tax_df.head()"
   ]
  },
  {
   "cell_type": "code",
   "execution_count": 43,
   "metadata": {},
   "outputs": [
    {
     "data": {
      "text/plain": [
       "array([ True,  True,  True, ..., False,  True,  True])"
      ]
     },
     "execution_count": 43,
     "metadata": {},
     "output_type": "execute_result"
    }
   ],
   "source": [
    "np.where(tax_df['fips_geo'] == '06037', True, False)"
   ]
  },
  {
   "cell_type": "code",
   "execution_count": 44,
   "metadata": {},
   "outputs": [
    {
     "data": {
      "text/html": [
       "<div>\n",
       "<style scoped>\n",
       "    .dataframe tbody tr th:only-of-type {\n",
       "        vertical-align: middle;\n",
       "    }\n",
       "\n",
       "    .dataframe tbody tr th {\n",
       "        vertical-align: top;\n",
       "    }\n",
       "\n",
       "    .dataframe thead th {\n",
       "        text-align: right;\n",
       "    }\n",
       "</style>\n",
       "<table border=\"1\" class=\"dataframe\">\n",
       "  <thead>\n",
       "    <tr style=\"text-align: right;\">\n",
       "      <th></th>\n",
       "      <th>id</th>\n",
       "      <th>parcelid</th>\n",
       "      <th>calculatedfinishedsquarefeet</th>\n",
       "      <th>taxvaluedollarcnt</th>\n",
       "      <th>taxamount</th>\n",
       "      <th>fips</th>\n",
       "      <th>latitude</th>\n",
       "      <th>longitude</th>\n",
       "      <th>regionidcity</th>\n",
       "      <th>regionidcounty</th>\n",
       "      <th>regionidneighborhood</th>\n",
       "      <th>regionidzip</th>\n",
       "      <th>taxdelinquencyflag</th>\n",
       "      <th>taxdelinquencyyear</th>\n",
       "      <th>tax_rate</th>\n",
       "      <th>lat_cor</th>\n",
       "      <th>long_cor</th>\n",
       "      <th>fips_geo</th>\n",
       "      <th>is_delinquent</th>\n",
       "      <th>county</th>\n",
       "    </tr>\n",
       "  </thead>\n",
       "  <tbody>\n",
       "    <tr>\n",
       "      <th>0</th>\n",
       "      <td>2463969</td>\n",
       "      <td>11393337</td>\n",
       "      <td>1534.0</td>\n",
       "      <td>43439.0</td>\n",
       "      <td>756.94</td>\n",
       "      <td>6037.0</td>\n",
       "      <td>33981374.0</td>\n",
       "      <td>-118317057.0</td>\n",
       "      <td>12447.0</td>\n",
       "      <td>3101.0</td>\n",
       "      <td>118208.0</td>\n",
       "      <td>96028.0</td>\n",
       "      <td>Y</td>\n",
       "      <td>14.0</td>\n",
       "      <td>1.742536</td>\n",
       "      <td>33.981374</td>\n",
       "      <td>-118.317057</td>\n",
       "      <td>06037</td>\n",
       "      <td>True</td>\n",
       "      <td>Los Angeles County</td>\n",
       "    </tr>\n",
       "    <tr>\n",
       "      <th>1</th>\n",
       "      <td>2061546</td>\n",
       "      <td>11289917</td>\n",
       "      <td>1458.0</td>\n",
       "      <td>136104.0</td>\n",
       "      <td>2319.90</td>\n",
       "      <td>6037.0</td>\n",
       "      <td>34686163.0</td>\n",
       "      <td>-118113100.0</td>\n",
       "      <td>5534.0</td>\n",
       "      <td>3101.0</td>\n",
       "      <td>NaN</td>\n",
       "      <td>97318.0</td>\n",
       "      <td>Y</td>\n",
       "      <td>15.0</td>\n",
       "      <td>1.704505</td>\n",
       "      <td>34.686163</td>\n",
       "      <td>-118.113100</td>\n",
       "      <td>06037</td>\n",
       "      <td>True</td>\n",
       "      <td>Los Angeles County</td>\n",
       "    </tr>\n",
       "    <tr>\n",
       "      <th>2</th>\n",
       "      <td>1834372</td>\n",
       "      <td>11705026</td>\n",
       "      <td>1421.0</td>\n",
       "      <td>35606.0</td>\n",
       "      <td>543.69</td>\n",
       "      <td>6037.0</td>\n",
       "      <td>33999877.0</td>\n",
       "      <td>-118291863.0</td>\n",
       "      <td>12447.0</td>\n",
       "      <td>3101.0</td>\n",
       "      <td>118208.0</td>\n",
       "      <td>96018.0</td>\n",
       "      <td>None</td>\n",
       "      <td>NaN</td>\n",
       "      <td>1.526962</td>\n",
       "      <td>33.999877</td>\n",
       "      <td>-118.291863</td>\n",
       "      <td>06037</td>\n",
       "      <td>False</td>\n",
       "      <td>Los Angeles County</td>\n",
       "    </tr>\n",
       "    <tr>\n",
       "      <th>3</th>\n",
       "      <td>1923117</td>\n",
       "      <td>14269464</td>\n",
       "      <td>2541.0</td>\n",
       "      <td>880456.0</td>\n",
       "      <td>9819.72</td>\n",
       "      <td>6059.0</td>\n",
       "      <td>33694636.0</td>\n",
       "      <td>-117912245.0</td>\n",
       "      <td>38032.0</td>\n",
       "      <td>1286.0</td>\n",
       "      <td>NaN</td>\n",
       "      <td>96958.0</td>\n",
       "      <td>None</td>\n",
       "      <td>NaN</td>\n",
       "      <td>1.115299</td>\n",
       "      <td>33.694636</td>\n",
       "      <td>-117.912245</td>\n",
       "      <td>06059</td>\n",
       "      <td>False</td>\n",
       "      <td>Orange County</td>\n",
       "    </tr>\n",
       "    <tr>\n",
       "      <th>4</th>\n",
       "      <td>2121349</td>\n",
       "      <td>11389003</td>\n",
       "      <td>1650.0</td>\n",
       "      <td>614000.0</td>\n",
       "      <td>7673.19</td>\n",
       "      <td>6037.0</td>\n",
       "      <td>33985377.0</td>\n",
       "      <td>-118361620.0</td>\n",
       "      <td>396550.0</td>\n",
       "      <td>3101.0</td>\n",
       "      <td>NaN</td>\n",
       "      <td>96037.0</td>\n",
       "      <td>None</td>\n",
       "      <td>NaN</td>\n",
       "      <td>1.249705</td>\n",
       "      <td>33.985377</td>\n",
       "      <td>-118.361620</td>\n",
       "      <td>06037</td>\n",
       "      <td>False</td>\n",
       "      <td>Los Angeles County</td>\n",
       "    </tr>\n",
       "  </tbody>\n",
       "</table>\n",
       "</div>"
      ],
      "text/plain": [
       "        id  parcelid  calculatedfinishedsquarefeet  taxvaluedollarcnt  \\\n",
       "0  2463969  11393337                        1534.0            43439.0   \n",
       "1  2061546  11289917                        1458.0           136104.0   \n",
       "2  1834372  11705026                        1421.0            35606.0   \n",
       "3  1923117  14269464                        2541.0           880456.0   \n",
       "4  2121349  11389003                        1650.0           614000.0   \n",
       "\n",
       "   taxamount    fips    latitude    longitude  regionidcity  regionidcounty  \\\n",
       "0     756.94  6037.0  33981374.0 -118317057.0       12447.0          3101.0   \n",
       "1    2319.90  6037.0  34686163.0 -118113100.0        5534.0          3101.0   \n",
       "2     543.69  6037.0  33999877.0 -118291863.0       12447.0          3101.0   \n",
       "3    9819.72  6059.0  33694636.0 -117912245.0       38032.0          1286.0   \n",
       "4    7673.19  6037.0  33985377.0 -118361620.0      396550.0          3101.0   \n",
       "\n",
       "   regionidneighborhood  regionidzip taxdelinquencyflag  taxdelinquencyyear  \\\n",
       "0              118208.0      96028.0                  Y                14.0   \n",
       "1                   NaN      97318.0                  Y                15.0   \n",
       "2              118208.0      96018.0               None                 NaN   \n",
       "3                   NaN      96958.0               None                 NaN   \n",
       "4                   NaN      96037.0               None                 NaN   \n",
       "\n",
       "   tax_rate    lat_cor    long_cor fips_geo  is_delinquent              county  \n",
       "0  1.742536  33.981374 -118.317057    06037           True  Los Angeles County  \n",
       "1  1.704505  34.686163 -118.113100    06037           True  Los Angeles County  \n",
       "2  1.526962  33.999877 -118.291863    06037          False  Los Angeles County  \n",
       "3  1.115299  33.694636 -117.912245    06059          False       Orange County  \n",
       "4  1.249705  33.985377 -118.361620    06037          False  Los Angeles County  "
      ]
     },
     "execution_count": 44,
     "metadata": {},
     "output_type": "execute_result"
    }
   ],
   "source": [
    "# Creating a list of our conditions:\n",
    "conditions = [(tax_df['fips_geo'] == '06037'), (tax_df['fips_geo'] == '06059'), (tax_df['fips_geo'] == '06111')]\n",
    "\n",
    "# create a list of the values we want to assign for each condition:\n",
    "values_geo = ['Los Angeles County', 'Orange County', 'Ventura County']\n",
    "\n",
    "# create a new column and use np.select to assign values to it using our lists as arguments:\n",
    "tax_df['county'] = np.select(conditions, values_geo)\n",
    "\n",
    "# Display the dataframe:\n",
    "tax_df.head()"
   ]
  },
  {
   "cell_type": "code",
   "execution_count": 45,
   "metadata": {},
   "outputs": [
    {
     "data": {
      "text/plain": [
       "<AxesSubplot:xlabel='tax_rate', ylabel='taxvaluedollarcnt'>"
      ]
     },
     "execution_count": 45,
     "metadata": {},
     "output_type": "execute_result"
    },
    {
     "data": {
      "image/png": "[encoded data removed]",
      "text/plain": [
       "<Figure size 936x720 with 1 Axes>"
      ]
     },
     "metadata": {
      "needs_background": "light"
     },
     "output_type": "display_data"
    }
   ],
   "source": [
    "sns.scatterplot(x = \"tax_rate\", y = \"taxvaluedollarcnt\", data = tax_df, hue = 'is_delinquent')"
   ]
  },
  {
   "cell_type": "markdown",
   "metadata": {},
   "source": [
    "#### With the outliers removed, this provides an easier view of the distribution of tax rates vs property tax values."
   ]
  },
  {
   "cell_type": "markdown",
   "metadata": {},
   "source": [
    "### Charts of Tax Rate by County\n",
    "\n",
    "- Several charts were created to help the data science team to visualize the difference and distributions of tax rates across the threee counties. \n",
    "- These are for visualization purposes, and for a guide to further analysis."
   ]
  },
  {
   "cell_type": "code",
   "execution_count": 46,
   "metadata": {},
   "outputs": [
    {
     "data": {
      "image/png": "[encoded data removed]",
      "text/plain": [
       "<Figure size 936x720 with 1 Axes>"
      ]
     },
     "metadata": {
      "needs_background": "light"
     },
     "output_type": "display_data"
    }
   ],
   "source": [
    "sns.barplot(data = tax_df, y = 'tax_rate', x = 'county').set_title('Tax Rate by County', fontsize = 22)\n",
    "plt.xlabel('County', fontsize=18)\n",
    "plt.ylabel('Tax Rate', fontsize=16)\n",
    "\n",
    "plt.show()\n",
    "# fig.savefig('tax_rate_by_county.jpg')"
   ]
  },
  {
   "cell_type": "code",
   "execution_count": null,
   "metadata": {},
   "outputs": [],
   "source": []
  },
  {
   "cell_type": "markdown",
   "metadata": {},
   "source": [
    "#### Creating the variables to be used in the histograms:"
   ]
  },
  {
   "cell_type": "code",
   "execution_count": 47,
   "metadata": {},
   "outputs": [],
   "source": [
    "ventura_county = tax_df.tax_rate.loc[tax_df['fips_geo'] == '06111']\n",
    "la_county = tax_df.tax_rate.loc[tax_df['fips_geo'] == '06037']\n",
    "orange_county = tax_df.tax_rate.loc[tax_df['fips_geo'] == '06059']"
   ]
  },
  {
   "cell_type": "markdown",
   "metadata": {},
   "source": [
    "#### Creating Histograms of tax rates:"
   ]
  },
  {
   "cell_type": "code",
   "execution_count": 53,
   "metadata": {},
   "outputs": [
    {
     "data": {
      "image/png": "[encoded data removed]",
      "text/plain": [
       "<Figure size 936x720 with 1 Axes>"
      ]
     },
     "metadata": {
      "needs_background": "light"
     },
     "output_type": "display_data"
    },
    {
     "data": {
      "image/png": "[encoded data removed]",
      "text/plain": [
       "<Figure size 936x720 with 1 Axes>"
      ]
     },
     "metadata": {
      "needs_background": "light"
     },
     "output_type": "display_data"
    },
    {
     "data": {
      "image/png": "[encoded data removed]",
      "text/plain": [
       "<Figure size 936x720 with 1 Axes>"
      ]
     },
     "metadata": {
      "needs_background": "light"
     },
     "output_type": "display_data"
    }
   ],
   "source": [
    "# Creating the histograms\n",
    "\n",
    "# Ventura County:\n",
    "plt.subplot(311)\n",
    "plt.hist(x = ventura_county, bins = 20, color = 'firebrick', edgecolor='k', alpha=0.65)\n",
    "plt.title('Tax Rate Distribution in Ventura County', fontsize = 21)\n",
    "plt.xlabel('Tax Rate', fontsize = 18)\n",
    "plt.ylabel('Number of Properties', fontsize = 18)\n",
    "\n",
    "plt.axvline(ventura_county.mean(), color = 'k', linestyle='dashed', linewidth=3)\n",
    "min_ylim_v, max_ylim_v = plt.ylim()\n",
    "plt.text(ventura_county.mean()*1.1, max_ylim_v*0.9, 'Mean: {:.2f}'.format(ventura_county.mean()))\n",
    "plt.axvline(ventura_county.median(), color = 'forestgreen', linestyle='dashed', linewidth=3)\n",
    "plt.text(ventura_county.median()*.51, max_ylim_v*0.9, 'Median: {:.2f}'.format(ventura_county.median()), c = 'forestgreen')\n",
    "\n",
    "plt.grid(True)\n",
    "plt.show()\n",
    "\n",
    "# Los Angeles County:\n",
    "\n",
    "plt.subplot(312)\n",
    "plt.hist(x = ventura_county, bins = 20, color = 'lightblue', edgecolor='k', alpha=0.65)\n",
    "plt.title('Tax Rate Distribution in Los Angeles County', fontsize = 21)\n",
    "plt.xlabel('Tax Rate', fontsize = 18)\n",
    "plt.ylabel('Number of Properties', fontsize = 18)\n",
    "\n",
    "plt.axvline(la_county.mean(), color = 'k', linestyle='dashed', linewidth=3)\n",
    "min_ylim_la, max_ylim_la = plt.ylim()\n",
    "plt.text(la_county.mean()*1.1, max_ylim_la*0.9, 'Mean: {:.2f}'.format(la_county.mean()))\n",
    "plt.axvline(la_county.median(), color = 'forestgreen', linestyle='dashed', linewidth=3)\n",
    "plt.text(la_county.median()*.51, max_ylim_la*0.9, 'Median: {:.2f}'.format(la_county.median()), c = 'forestgreen')\n",
    "\n",
    "plt.grid(True)\n",
    "plt.show()\n",
    "\n",
    "# Orange County:\n",
    "\n",
    "plt.subplot(313)\n",
    "plt.hist(x = orange_county, bins = 20, color = 'moccasin', edgecolor='k', alpha=0.65)\n",
    "plt.title('Tax Rate Distribution in Orange County', fontsize = 21)\n",
    "plt.xlabel('Tax Rate', fontsize = 18)\n",
    "plt.ylabel('Number of Properties', fontsize = 18)\n",
    "\n",
    "plt.axvline(orange_county.mean(), color = 'k', linestyle='dashed', linewidth=3)\n",
    "min_ylim_o, max_ylim_o = plt.ylim()\n",
    "plt.text(orange_county.mean()*1.1, max_ylim_o*0.9, 'Mean: {:.2f}'.format(orange_county.mean()))\n",
    "plt.axvline(orange_county.median(), color = 'forestgreen', linestyle='dashed', linewidth=3)\n",
    "plt.text(orange_county.median()*.35, max_ylim_o*0.9, 'Median: {:.2f}'.format(orange_county.median()), c = 'forestgreen')\n",
    "\n",
    "plt.grid(True)\n",
    "\n",
    "# Saving the figure\n",
    "plt.savefig('tax_rate_graphs.png')\n",
    "plt.show()\n",
    "\n"
   ]
  },
  {
   "cell_type": "markdown",
   "metadata": {},
   "source": [
    "### Takeaways:\n",
    "\n",
    "From these histograms we can see that the tax rates of the 3 counties in California are fairly close, however the average tax rate is highest in LA county, follow by Orange county and lastly Ventura county.\n",
    "\n",
    "Some other Highlights:\n",
    "- Both LA and Ventura counties' tax rates have a right skewness (positive skew) to their distributions.\n",
    "- While Orange county does have some right and left tails, they are faily thin tails and are relatively symmetric, compared to the other two counties."
   ]
  },
  {
   "cell_type": "code",
   "execution_count": 54,
   "metadata": {},
   "outputs": [],
   "source": [
    "# https://www.nrcs.usda.gov/wps/portal/nrcs/detail/national/home/?cid=nrcs143_013697"
   ]
  },
  {
   "cell_type": "markdown",
   "metadata": {},
   "source": [
    "## Saving to .csv\n",
    "\n",
    "This was the final step in the tax rate analysis process. Needed to explore a finished .csv in order to import the information into our mapping tool. We tried several routes, but in the end decided to go with Tableau to produce a map of the counties and the comparative tax rates in each."
   ]
  },
  {
   "cell_type": "code",
   "execution_count": 55,
   "metadata": {},
   "outputs": [],
   "source": [
    "# Run this cell to save the dataframe to a .csv\n",
    "\n",
    "tax_df.to_csv('tax_data_report.csv')"
   ]
  },
  {
   "cell_type": "markdown",
   "metadata": {},
   "source": [
    "# Explore Stage Complete"
   ]
  }
 ],
 "metadata": {
  "kernelspec": {
   "display_name": "Python 3",
   "language": "python",
   "name": "python3"
  },
  "language_info": {
   "codemirror_mode": {
    "name": "ipython",
    "version": 3
   },
   "file_extension": ".py",
   "mimetype": "text/x-python",
   "name": "python",
   "nbconvert_exporter": "python",
   "pygments_lexer": "ipython3",
   "version": "3.7.7"
  }
 },
 "nbformat": 4,
 "nbformat_minor": 4
}
