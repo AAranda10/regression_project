{
 "cells": [
  {
   "cell_type": "code",
   "execution_count": 1,
   "metadata": {},
   "outputs": [
    {
     "name": "stdout",
     "output_type": "stream",
     "text": [
      "acquire.py functions loaded successfully\n"
     ]
    }
   ],
   "source": [
    "import pandas as pd\n",
    "import matplotlib.pyplot as plt\n",
    "import seaborn as sns\n",
    "import numpy as np\n",
    "import acquire"
   ]
  },
  {
   "cell_type": "code",
   "execution_count": 2,
   "metadata": {},
   "outputs": [],
   "source": [
    "def prep_zillow_data():\n",
    "    df = acquire.get_zillow_data()\n",
    "    df = df.drop(columns = {'airconditioningtypeid', 'architecturalstyletypeid', 'basementsqft',\n",
    "                            'taxdelinquencyyear', 'buildingclasstypeid', 'decktypeid', 'finishedfloor1squarefeet',\n",
    "                            'finishedsquarefeet13', 'finishedsquarefeet15', 'finishedsquarefeet50',\n",
    "                            'finishedsquarefeet6', 'fireplacecnt', 'hashottuborspa', 'poolsizesum',\n",
    "                            'pooltypeid10', 'pooltypeid2', 'pooltypeid7', 'storytypeid', 'threequarterbathnbr',\n",
    "                            'typeconstructiontypeid', 'yardbuildingsqft17', 'yardbuildingsqft26', 'numberofstories',\n",
    "                            'fireplaceflag', 'taxdelinquencyflag', 'buildingqualitytypeid', 'garagecarcnt',\n",
    "                            'garagetotalsqft', 'poolcnt', 'regionidneighborhood', 'propertyzoningdesc' })\n",
    "    df['calculatedfinishedsquarefeet'] = df['calculatedfinishedsquarefeet'].fillna((df['calculatedfinishedsquarefeet'].mean()))\n",
    "    df['calculatedbathnbr'] = df['calculatedbathnbr'].fillna((df['calculatedbathnbr'].mean()))\n",
    "    df['finishedsquarefeet12'] = df['finishedsquarefeet12'].fillna((df['finishedsquarefeet12'].mean()))\n",
    "    df['fullbathcnt'] = df['fullbathcnt'].fillna((df['fullbathcnt'].mean()))\n",
    "    df['heatingorsystemtypeid'] = df['heatingorsystemtypeid'].fillna((df['heatingorsystemtypeid'].mean()))\n",
    "    df['lotsizesquarefeet'] = df['lotsizesquarefeet'].fillna((df['lotsizesquarefeet'].mean()))\n",
    "    df['regionidcity'] = df['regionidcity'].fillna((df['regionidcity'].mean()))\n",
    "    df['regionidzip'] = df['regionidzip'].fillna((df['regionidzip'].mean()))\n",
    "    df['unitcnt'] = df['unitcnt'].fillna((df['unitcnt'].mean()))\n",
    "    df['structuretaxvaluedollarcnt'] = df['structuretaxvaluedollarcnt'].fillna((df['structuretaxvaluedollarcnt'].mean()))\n",
    "    df['taxamount'] = df['taxamount'].fillna((df['taxamount'].mean()))\n",
    "    df['censustractandblock'] = df['censustractandblock'].fillna((df['censustractandblock'].mean()))\n",
    "    df['yearbuilt'] = df['yearbuilt'].fillna((df['yearbuilt'].mean()))\n",
    "    return df\n",
    "\n"
   ]
  },
  {
   "cell_type": "code",
   "execution_count": 3,
   "metadata": {},
   "outputs": [],
   "source": []
  },
  {
   "cell_type": "code",
   "execution_count": null,
   "metadata": {},
   "outputs": [],
   "source": []
  }
 ],
 "metadata": {
  "kernelspec": {
   "display_name": "Python 3",
   "language": "python",
   "name": "python3"
  },
  "language_info": {
   "codemirror_mode": {
    "name": "ipython",
    "version": 3
   },
   "file_extension": ".py",
   "mimetype": "text/x-python",
   "name": "python",
   "nbconvert_exporter": "python",
   "pygments_lexer": "ipython3",
   "version": "3.8.3"
  }
 },
 "nbformat": 4,
 "nbformat_minor": 4
}
