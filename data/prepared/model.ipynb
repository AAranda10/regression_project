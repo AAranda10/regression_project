{
 "cells": [
  {
   "cell_type": "code",
   "execution_count": 8,
   "metadata": {},
   "outputs": [],
   "source": [
    "import warnings\n",
    "warnings.filterwarnings(\"ignore\")\n",
    "import pandas as pd\n",
    "import matplotlib.pyplot as plt\n",
    "import seaborn as sns\n",
    "import numpy as np\n",
    "import wrangle\n",
    "import prep\n",
    "from scipy import stats\n",
    "\n",
    "from sklearn.model_selection import train_test_split\n",
    "from sklearn.metrics import mean_squared_error, explained_variance_score\n",
    "from sklearn.linear_model import LinearRegression\n",
    "from sklearn.feature_selection import RFE\n",
    "from sklearn.feature_selection import SelectKBest, f_regression\n",
    "from sklearn.feature_selection import RFE\n",
    "from sklearn.linear_model import LinearRegression\n",
    "from sklearn.preprocessing import PolynomialFeatures"
   ]
  },
  {
   "cell_type": "code",
   "execution_count": 41,
   "metadata": {},
   "outputs": [],
   "source": [
    "def poly_model(xdf, ydf, y):\n",
    "    lm = LinearRegression()\n",
    "    rfe = RFE(lm, 5)\n",
    "    X_rfe = rfe.fit_transform(xdf, ydf)\n",
    "    poly = PolynomialFeatures(degree=4)\n",
    "    X_poly = poly.fit_transform(X_rfe)\n",
    "    lm_poly = LinearRegression()\n",
    "    lm_poly.fit(X_poly, ydf[y])\n",
    "    ydf['yhat_poly'] = lm_poly.predict(X_poly).round(1)\n",
    "    RMSE_poly = np.sqrt(mean_squared_error(ydf[y], ydf.yhat_poly))\n",
    "    return ydf"
   ]
  },
  {
   "cell_type": "code",
   "execution_count": 46,
   "metadata": {},
   "outputs": [],
   "source": [
    "def mvp():\n",
    "    df = prep.prep_zillow_data()\n",
    "    X_train, y_train, X_validate, y_validate, X_test, y_test = wrangle.train_validate_test(df)\n",
    "    X_train_scaled, X_validate_scaled, X_test_scaled = wrangle.min_max_scale(X_train, X_validate, X_test)\n",
    "    lm = LinearRegression()\n",
    "    rfe = RFE(lm, 5)\n",
    "    X_rfe = rfe.fit_transform(X_test, y_test)\n",
    "    poly = PolynomialFeatures(degree=4)\n",
    "    X_poly = poly.fit_transform(X_rfe)\n",
    "    lm_poly = LinearRegression()\n",
    "    lm_poly.fit(X_poly, y_test.taxvaluedollarcnt)\n",
    "    y_test['yhat_poly'] = lm_poly.predict(X_poly).round(1)\n",
    "    RMSE_poly = np.sqrt(mean_squared_error(y_test.taxvaluedollarcnt, y_test.yhat_poly))\n",
    "    return y_test"
   ]
  },
  {
   "cell_type": "code",
   "execution_count": null,
   "metadata": {},
   "outputs": [],
   "source": []
  },
  {
   "cell_type": "code",
   "execution_count": null,
   "metadata": {},
   "outputs": [],
   "source": []
  }
 ],
 "metadata": {
  "kernelspec": {
   "display_name": "Python 3",
   "language": "python",
   "name": "python3"
  },
  "language_info": {
   "codemirror_mode": {
    "name": "ipython",
    "version": 3
   },
   "file_extension": ".py",
   "mimetype": "text/x-python",
   "name": "python",
   "nbconvert_exporter": "python",
   "pygments_lexer": "ipython3",
   "version": "3.7.9"
  }
 },
 "nbformat": 4,
 "nbformat_minor": 4
}
