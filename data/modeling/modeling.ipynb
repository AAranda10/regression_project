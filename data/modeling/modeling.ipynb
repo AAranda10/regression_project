{
 "cells": [
  {
   "cell_type": "code",
   "execution_count": 1,
   "metadata": {},
   "outputs": [
    {
     "name": "stdout",
     "output_type": "stream",
     "text": [
      "wrangle.py functions loaded successfully\n",
      "acquire.py functions loaded successfully\n"
     ]
    }
   ],
   "source": [
    "import warnings\n",
    "warnings.filterwarnings(\"ignore\")\n",
    "import pandas as pd\n",
    "import matplotlib.pyplot as plt\n",
    "import seaborn as sns\n",
    "import numpy as np\n",
    "import wrangle\n",
    "import prep\n",
    "from scipy import stats\n",
    "\n",
    "from sklearn.model_selection import train_test_split\n",
    "from sklearn.metrics import mean_squared_error, explained_variance_score\n",
    "from sklearn.linear_model import LinearRegression\n",
    "from sklearn.feature_selection import RFE"
   ]
  },
  {
   "cell_type": "markdown",
   "metadata": {},
   "source": [
    "# Import Prepared Zillow Data"
   ]
  },
  {
   "cell_type": "code",
   "execution_count": 2,
   "metadata": {},
   "outputs": [
    {
     "data": {
      "text/plain": [
       "bathroomcnt                     0\n",
       "bedroomcnt                      0\n",
       "calculatedbathnbr               0\n",
       "calculatedfinishedsquarefeet    0\n",
       "fips                            0\n",
       "fullbathcnt                     0\n",
       "heatingorsystemtypeid           0\n",
       "latitude                        0\n",
       "longitude                       0\n",
       "lotsizesquarefeet               0\n",
       "propertylandusetypeid           0\n",
       "rawcensustractandblock          0\n",
       "regionidcity                    0\n",
       "regionidcounty                  0\n",
       "regionidzip                     0\n",
       "roomcnt                         0\n",
       "unitcnt                         0\n",
       "yearbuilt                       0\n",
       "structuretaxvaluedollarcnt      0\n",
       "taxvaluedollarcnt               0\n",
       "assessmentyear                  0\n",
       "landtaxvaluedollarcnt           0\n",
       "taxamount                       0\n",
       "propertylandusetypeid           0\n",
       "dtype: int64"
      ]
     },
     "execution_count": 2,
     "metadata": {},
     "output_type": "execute_result"
    }
   ],
   "source": [
    "## Assigning function\n",
    "df = prep.prep_zillow_data()\n",
    "## Checking for nulls\n",
    "df.isna().sum()"
   ]
  },
  {
   "cell_type": "code",
   "execution_count": 3,
   "metadata": {},
   "outputs": [
    {
     "data": {
      "text/html": [
       "<div>\n",
       "<style scoped>\n",
       "    .dataframe tbody tr th:only-of-type {\n",
       "        vertical-align: middle;\n",
       "    }\n",
       "\n",
       "    .dataframe tbody tr th {\n",
       "        vertical-align: top;\n",
       "    }\n",
       "\n",
       "    .dataframe thead th {\n",
       "        text-align: right;\n",
       "    }\n",
       "</style>\n",
       "<table border=\"1\" class=\"dataframe\">\n",
       "  <thead>\n",
       "    <tr style=\"text-align: right;\">\n",
       "      <th></th>\n",
       "      <th>bathroomcnt</th>\n",
       "      <th>bedroomcnt</th>\n",
       "      <th>calculatedbathnbr</th>\n",
       "      <th>calculatedfinishedsquarefeet</th>\n",
       "      <th>fullbathcnt</th>\n",
       "    </tr>\n",
       "  </thead>\n",
       "  <tbody>\n",
       "    <tr>\n",
       "      <th>111</th>\n",
       "      <td>2.0</td>\n",
       "      <td>2.0</td>\n",
       "      <td>2.0</td>\n",
       "      <td>1766.0</td>\n",
       "      <td>2.0</td>\n",
       "    </tr>\n",
       "    <tr>\n",
       "      <th>1345</th>\n",
       "      <td>2.0</td>\n",
       "      <td>2.0</td>\n",
       "      <td>2.0</td>\n",
       "      <td>967.0</td>\n",
       "      <td>2.0</td>\n",
       "    </tr>\n",
       "    <tr>\n",
       "      <th>13768</th>\n",
       "      <td>1.0</td>\n",
       "      <td>2.0</td>\n",
       "      <td>1.0</td>\n",
       "      <td>1012.0</td>\n",
       "      <td>1.0</td>\n",
       "    </tr>\n",
       "    <tr>\n",
       "      <th>15147</th>\n",
       "      <td>2.5</td>\n",
       "      <td>5.0</td>\n",
       "      <td>2.5</td>\n",
       "      <td>2498.0</td>\n",
       "      <td>2.0</td>\n",
       "    </tr>\n",
       "    <tr>\n",
       "      <th>7249</th>\n",
       "      <td>1.0</td>\n",
       "      <td>0.0</td>\n",
       "      <td>1.0</td>\n",
       "      <td>482.0</td>\n",
       "      <td>1.0</td>\n",
       "    </tr>\n",
       "  </tbody>\n",
       "</table>\n",
       "</div>"
      ],
      "text/plain": [
       "       bathroomcnt  bedroomcnt  calculatedbathnbr  \\\n",
       "111            2.0         2.0                2.0   \n",
       "1345           2.0         2.0                2.0   \n",
       "13768          1.0         2.0                1.0   \n",
       "15147          2.5         5.0                2.5   \n",
       "7249           1.0         0.0                1.0   \n",
       "\n",
       "       calculatedfinishedsquarefeet  fullbathcnt  \n",
       "111                          1766.0          2.0  \n",
       "1345                          967.0          2.0  \n",
       "13768                        1012.0          1.0  \n",
       "15147                        2498.0          2.0  \n",
       "7249                          482.0          1.0  "
      ]
     },
     "execution_count": 3,
     "metadata": {},
     "output_type": "execute_result"
    }
   ],
   "source": [
    "## Applying our train_validate_test function to the dataframe to split and remove unneeded features for the models\n",
    "X_train, y_train, X_validate, y_validate, X_test, y_test = wrangle.train_validate_test(df)\n",
    "X_train.head()"
   ]
  },
  {
   "cell_type": "code",
   "execution_count": 4,
   "metadata": {},
   "outputs": [],
   "source": [
    "## Applying scaler to scale our data\n",
    "X_train_scaled, X_validate_scaled, X_test_scaled = wrangle.min_max_scale(X_train, X_validate, X_test)"
   ]
  },
  {
   "cell_type": "code",
   "execution_count": 5,
   "metadata": {},
   "outputs": [
    {
     "data": {
      "text/html": [
       "<div>\n",
       "<style scoped>\n",
       "    .dataframe tbody tr th:only-of-type {\n",
       "        vertical-align: middle;\n",
       "    }\n",
       "\n",
       "    .dataframe tbody tr th {\n",
       "        vertical-align: top;\n",
       "    }\n",
       "\n",
       "    .dataframe thead th {\n",
       "        text-align: right;\n",
       "    }\n",
       "</style>\n",
       "<table border=\"1\" class=\"dataframe\">\n",
       "  <thead>\n",
       "    <tr style=\"text-align: right;\">\n",
       "      <th></th>\n",
       "      <th>bathroomcnt</th>\n",
       "      <th>bedroomcnt</th>\n",
       "      <th>calculatedbathnbr</th>\n",
       "      <th>calculatedfinishedsquarefeet</th>\n",
       "      <th>fullbathcnt</th>\n",
       "    </tr>\n",
       "  </thead>\n",
       "  <tbody>\n",
       "    <tr>\n",
       "      <th>111</th>\n",
       "      <td>0.4</td>\n",
       "      <td>0.333333</td>\n",
       "      <td>0.250</td>\n",
       "      <td>0.338334</td>\n",
       "      <td>0.25</td>\n",
       "    </tr>\n",
       "    <tr>\n",
       "      <th>1345</th>\n",
       "      <td>0.4</td>\n",
       "      <td>0.333333</td>\n",
       "      <td>0.250</td>\n",
       "      <td>0.153935</td>\n",
       "      <td>0.25</td>\n",
       "    </tr>\n",
       "    <tr>\n",
       "      <th>13768</th>\n",
       "      <td>0.2</td>\n",
       "      <td>0.333333</td>\n",
       "      <td>0.000</td>\n",
       "      <td>0.164320</td>\n",
       "      <td>0.00</td>\n",
       "    </tr>\n",
       "    <tr>\n",
       "      <th>15147</th>\n",
       "      <td>0.5</td>\n",
       "      <td>0.833333</td>\n",
       "      <td>0.375</td>\n",
       "      <td>0.507270</td>\n",
       "      <td>0.25</td>\n",
       "    </tr>\n",
       "    <tr>\n",
       "      <th>7249</th>\n",
       "      <td>0.2</td>\n",
       "      <td>0.000000</td>\n",
       "      <td>0.000</td>\n",
       "      <td>0.042003</td>\n",
       "      <td>0.00</td>\n",
       "    </tr>\n",
       "  </tbody>\n",
       "</table>\n",
       "</div>"
      ],
      "text/plain": [
       "       bathroomcnt  bedroomcnt  calculatedbathnbr  \\\n",
       "111            0.4    0.333333              0.250   \n",
       "1345           0.4    0.333333              0.250   \n",
       "13768          0.2    0.333333              0.000   \n",
       "15147          0.5    0.833333              0.375   \n",
       "7249           0.2    0.000000              0.000   \n",
       "\n",
       "       calculatedfinishedsquarefeet  fullbathcnt  \n",
       "111                        0.338334         0.25  \n",
       "1345                       0.153935         0.25  \n",
       "13768                      0.164320         0.00  \n",
       "15147                      0.507270         0.25  \n",
       "7249                       0.042003         0.00  "
      ]
     },
     "execution_count": 5,
     "metadata": {},
     "output_type": "execute_result"
    }
   ],
   "source": [
    "X_train_scaled.head()"
   ]
  },
  {
   "cell_type": "markdown",
   "metadata": {
    "scrolled": true
   },
   "source": [
    "# KBest\n",
    "- Here we're going to run all the features through our k best and return only the 5 best ones for our model"
   ]
  },
  {
   "cell_type": "code",
   "execution_count": 6,
   "metadata": {},
   "outputs": [],
   "source": [
    "from sklearn.feature_selection import SelectKBest, f_regression"
   ]
  },
  {
   "cell_type": "code",
   "execution_count": 7,
   "metadata": {},
   "outputs": [],
   "source": [
    "f_selector = SelectKBest(f_regression, k=5)"
   ]
  },
  {
   "cell_type": "code",
   "execution_count": 8,
   "metadata": {},
   "outputs": [],
   "source": [
    "## we are running the scaled train data through kbest\n",
    "f_selector = f_selector.fit(X_train_scaled, y_train.taxvaluedollarcnt)"
   ]
  },
  {
   "cell_type": "code",
   "execution_count": 9,
   "metadata": {},
   "outputs": [
    {
     "name": "stdout",
     "output_type": "stream",
     "text": [
      "(11645, 5)\n",
      "(11645, 5)\n"
     ]
    }
   ],
   "source": [
    "## Transforming the data\n",
    "X_train_reduced = f_selector.transform(X_train_scaled)\n",
    "print(X_train.shape)\n",
    "print(X_train_reduced.shape)"
   ]
  },
  {
   "cell_type": "code",
   "execution_count": 10,
   "metadata": {},
   "outputs": [
    {
     "data": {
      "text/plain": [
       "array([ True,  True,  True,  True,  True])"
      ]
     },
     "execution_count": 10,
     "metadata": {},
     "output_type": "execute_result"
    }
   ],
   "source": [
    "f_support = f_selector.get_support()\n",
    "f_support"
   ]
  },
  {
   "cell_type": "code",
   "execution_count": 11,
   "metadata": {},
   "outputs": [
    {
     "data": {
      "text/plain": [
       "['bathroomcnt',\n",
       " 'bedroomcnt',\n",
       " 'calculatedbathnbr',\n",
       " 'calculatedfinishedsquarefeet',\n",
       " 'fullbathcnt']"
      ]
     },
     "execution_count": 11,
     "metadata": {},
     "output_type": "execute_result"
    }
   ],
   "source": [
    "## Listing out the features so we can see which ones were returned\n",
    "f_feature = X_train_scaled.iloc[:, f_support].columns.tolist()\n",
    "f_feature"
   ]
  },
  {
   "cell_type": "code",
   "execution_count": 12,
   "metadata": {},
   "outputs": [
    {
     "data": {
      "text/html": [
       "<div>\n",
       "<style scoped>\n",
       "    .dataframe tbody tr th:only-of-type {\n",
       "        vertical-align: middle;\n",
       "    }\n",
       "\n",
       "    .dataframe tbody tr th {\n",
       "        vertical-align: top;\n",
       "    }\n",
       "\n",
       "    .dataframe thead th {\n",
       "        text-align: right;\n",
       "    }\n",
       "</style>\n",
       "<table border=\"1\" class=\"dataframe\">\n",
       "  <thead>\n",
       "    <tr style=\"text-align: right;\">\n",
       "      <th></th>\n",
       "      <th>bathroomcnt</th>\n",
       "      <th>bedroomcnt</th>\n",
       "      <th>calculatedbathnbr</th>\n",
       "      <th>calculatedfinishedsquarefeet</th>\n",
       "      <th>fullbathcnt</th>\n",
       "    </tr>\n",
       "  </thead>\n",
       "  <tbody>\n",
       "    <tr>\n",
       "      <th>111</th>\n",
       "      <td>0.4</td>\n",
       "      <td>0.333333</td>\n",
       "      <td>0.250</td>\n",
       "      <td>0.338334</td>\n",
       "      <td>0.25</td>\n",
       "    </tr>\n",
       "    <tr>\n",
       "      <th>1345</th>\n",
       "      <td>0.4</td>\n",
       "      <td>0.333333</td>\n",
       "      <td>0.250</td>\n",
       "      <td>0.153935</td>\n",
       "      <td>0.25</td>\n",
       "    </tr>\n",
       "    <tr>\n",
       "      <th>13768</th>\n",
       "      <td>0.2</td>\n",
       "      <td>0.333333</td>\n",
       "      <td>0.000</td>\n",
       "      <td>0.164320</td>\n",
       "      <td>0.00</td>\n",
       "    </tr>\n",
       "    <tr>\n",
       "      <th>15147</th>\n",
       "      <td>0.5</td>\n",
       "      <td>0.833333</td>\n",
       "      <td>0.375</td>\n",
       "      <td>0.507270</td>\n",
       "      <td>0.25</td>\n",
       "    </tr>\n",
       "    <tr>\n",
       "      <th>7249</th>\n",
       "      <td>0.2</td>\n",
       "      <td>0.000000</td>\n",
       "      <td>0.000</td>\n",
       "      <td>0.042003</td>\n",
       "      <td>0.00</td>\n",
       "    </tr>\n",
       "  </tbody>\n",
       "</table>\n",
       "</div>"
      ],
      "text/plain": [
       "       bathroomcnt  bedroomcnt  calculatedbathnbr  \\\n",
       "111            0.4    0.333333              0.250   \n",
       "1345           0.4    0.333333              0.250   \n",
       "13768          0.2    0.333333              0.000   \n",
       "15147          0.5    0.833333              0.375   \n",
       "7249           0.2    0.000000              0.000   \n",
       "\n",
       "       calculatedfinishedsquarefeet  fullbathcnt  \n",
       "111                        0.338334         0.25  \n",
       "1345                       0.153935         0.25  \n",
       "13768                      0.164320         0.00  \n",
       "15147                      0.507270         0.25  \n",
       "7249                       0.042003         0.00  "
      ]
     },
     "execution_count": 12,
     "metadata": {},
     "output_type": "execute_result"
    }
   ],
   "source": [
    "## Returning a scaled dataframe with only our best features\n",
    "X_reduced_scaled = X_train_scaled.iloc[:, f_support]\n",
    "X_reduced_scaled.head()"
   ]
  },
  {
   "cell_type": "markdown",
   "metadata": {},
   "source": [
    "# Takeaways\n",
    "- The features that were selected were relatively consistent with our intial thoughts\n",
    "- We anticipated that the bedroom count and square footage of the property would be important"
   ]
  },
  {
   "cell_type": "markdown",
   "metadata": {},
   "source": [
    "# Recursive Feature Elimination\n",
    "- Here we wanted to compare the RFE to KBest since RFE is typically more accurate\n",
    "- We're keeping the K at 5 just to ensure consistency"
   ]
  },
  {
   "cell_type": "code",
   "execution_count": 13,
   "metadata": {},
   "outputs": [],
   "source": [
    "from sklearn.feature_selection import RFE\n",
    "from sklearn.linear_model import LinearRegression"
   ]
  },
  {
   "cell_type": "code",
   "execution_count": 14,
   "metadata": {},
   "outputs": [],
   "source": [
    "## Assessing the RFE using a linear regression model\n",
    "lm = LinearRegression()\n",
    "\n",
    "rfe = RFE(lm, 5)\n",
    "\n",
    "lm_X_rfe = rfe.fit_transform(X_train,y_train) "
   ]
  },
  {
   "cell_type": "code",
   "execution_count": 15,
   "metadata": {},
   "outputs": [
    {
     "name": "stdout",
     "output_type": "stream",
     "text": [
      "selected 5 features: bathroomcnt, bedroomcnt, calculatedbathnbr, calculatedfinishedsquarefeet, fullbathcnt\n"
     ]
    }
   ],
   "source": [
    "## Here we want to filter through and return only the best features\n",
    "mask = rfe.support_ \n",
    "rfe_features = X_train.columns[mask]\n",
    "print(f'selected {len(rfe_features)} features:', ', '.join(rfe_features))"
   ]
  },
  {
   "cell_type": "markdown",
   "metadata": {},
   "source": [
    "# RFE Takeaways\n",
    "- It appears that our RFE and KBest came to the same conclusion about our best features to use\n",
    "- This will strengthen our argument when discussing best features to assess the model on"
   ]
  },
  {
   "cell_type": "markdown",
   "metadata": {},
   "source": [
    "# Linear Regression Model - Training The Model"
   ]
  },
  {
   "cell_type": "code",
   "execution_count": 16,
   "metadata": {},
   "outputs": [
    {
     "data": {
      "text/plain": [
       "LinearRegression()"
      ]
     },
     "execution_count": 16,
     "metadata": {},
     "output_type": "execute_result"
    }
   ],
   "source": [
    "lm.fit(lm_X_rfe, y_train)"
   ]
  },
  {
   "cell_type": "code",
   "execution_count": 17,
   "metadata": {},
   "outputs": [
    {
     "name": "stdout",
     "output_type": "stream",
     "text": [
      "Linear Model: LinearRegression()\n",
      "intercept:  [56628.38604184]\n",
      "features:  Index(['bathroomcnt', 'bedroomcnt', 'calculatedbathnbr',\n",
      "       'calculatedfinishedsquarefeet', 'fullbathcnt'],\n",
      "      dtype='object')\n",
      "coefficients:  [[  94351.07649936 -108290.0571259   -14256.46387687     338.98585949\n",
      "   -14048.26277807]]\n"
     ]
    }
   ],
   "source": [
    "print(\"Linear Model:\", lm)\n",
    "\n",
    "print(\"intercept: \", lm.intercept_)\n",
    "\n",
    "print(\"features: \", rfe_features)\n",
    "\n",
    "print(\"coefficients: \", lm.coef_)"
   ]
  },
  {
   "cell_type": "code",
   "execution_count": 18,
   "metadata": {},
   "outputs": [
    {
     "data": {
      "text/html": [
       "<div>\n",
       "<style scoped>\n",
       "    .dataframe tbody tr th:only-of-type {\n",
       "        vertical-align: middle;\n",
       "    }\n",
       "\n",
       "    .dataframe tbody tr th {\n",
       "        vertical-align: top;\n",
       "    }\n",
       "\n",
       "    .dataframe thead th {\n",
       "        text-align: right;\n",
       "    }\n",
       "</style>\n",
       "<table border=\"1\" class=\"dataframe\">\n",
       "  <thead>\n",
       "    <tr style=\"text-align: right;\">\n",
       "      <th></th>\n",
       "      <th>taxvaluedollarcnt</th>\n",
       "      <th>yhat_lm</th>\n",
       "    </tr>\n",
       "  </thead>\n",
       "  <tbody>\n",
       "    <tr>\n",
       "      <th>111</th>\n",
       "      <td>203113.0</td>\n",
       "      <td>570789.999342</td>\n",
       "    </tr>\n",
       "    <tr>\n",
       "      <th>1345</th>\n",
       "      <td>109028.0</td>\n",
       "      <td>299940.297608</td>\n",
       "    </tr>\n",
       "    <tr>\n",
       "      <th>13768</th>\n",
       "      <td>445279.0</td>\n",
       "      <td>249148.311440</td>\n",
       "    </tr>\n",
       "    <tr>\n",
       "      <th>15147</th>\n",
       "      <td>282241.0</td>\n",
       "      <td>534104.783423</td>\n",
       "    </tr>\n",
       "    <tr>\n",
       "      <th>7249</th>\n",
       "      <td>205628.0</td>\n",
       "      <td>286065.920161</td>\n",
       "    </tr>\n",
       "  </tbody>\n",
       "</table>\n",
       "</div>"
      ],
      "text/plain": [
       "       taxvaluedollarcnt        yhat_lm\n",
       "111             203113.0  570789.999342\n",
       "1345            109028.0  299940.297608\n",
       "13768           445279.0  249148.311440\n",
       "15147           282241.0  534104.783423\n",
       "7249            205628.0  286065.920161"
      ]
     },
     "execution_count": 18,
     "metadata": {},
     "output_type": "execute_result"
    }
   ],
   "source": [
    "## Here we're going to add a column that will make property value predictions using the linear model\n",
    "y_train['yhat_lm'] = lm.predict(lm_X_rfe)\n",
    "\n",
    "y_train.head()"
   ]
  },
  {
   "cell_type": "code",
   "execution_count": 19,
   "metadata": {},
   "outputs": [
    {
     "data": {
      "text/plain": [
       "394836.13048676855"
      ]
     },
     "execution_count": 19,
     "metadata": {},
     "output_type": "execute_result"
    }
   ],
   "source": [
    "## Checking the mean squared error of the model\n",
    "RMSE_lm = np.sqrt(mean_squared_error(y_train.taxvaluedollarcnt, y_train.yhat_lm))\n",
    "RMSE_lm"
   ]
  },
  {
   "cell_type": "code",
   "execution_count": 20,
   "metadata": {},
   "outputs": [
    {
     "data": {
      "text/plain": [
       "0.2765297324249697"
      ]
     },
     "execution_count": 20,
     "metadata": {},
     "output_type": "execute_result"
    }
   ],
   "source": [
    "r2_lm = lm.score(lm_X_rfe, y_train.taxvaluedollarcnt)\n",
    "\n",
    "r2_lm"
   ]
  },
  {
   "cell_type": "code",
   "execution_count": 21,
   "metadata": {},
   "outputs": [
    {
     "data": {
      "text/plain": [
       "'taxvaluedollarcnt = 5.663e+04 + 9.4e+04 * bathroomcnt + -1.08e+05 * bedroomcnt'"
      ]
     },
     "execution_count": 21,
     "metadata": {},
     "output_type": "execute_result"
    }
   ],
   "source": [
    "output = \"{} = {:.4} + {:.2} * {} + {:.3} * {}\".format(\n",
    "    y_train.columns[0],\n",
    "    lm.intercept_[0],\n",
    "    lm.coef_[0][0],\n",
    "    rfe_features[0],\n",
    "    lm.coef_[0][1],\n",
    "    rfe_features[1],\n",
    ")\n",
    "output"
   ]
  },
  {
   "cell_type": "markdown",
   "metadata": {},
   "source": [
    "# Linear Regression Model - Validating The Model\n",
    "- We came back and added the validate beneath the training just to maintain continuity and easier performance comparison"
   ]
  },
  {
   "cell_type": "code",
   "execution_count": 22,
   "metadata": {},
   "outputs": [
    {
     "name": "stdout",
     "output_type": "stream",
     "text": [
      "selected 5 features: bathroomcnt, bedroomcnt, calculatedbathnbr, calculatedfinishedsquarefeet, fullbathcnt\n"
     ]
    }
   ],
   "source": [
    "lm_X_rfe = rfe.fit_transform(X_validate,y_validate)\n",
    "mask = rfe.support_ \n",
    "rfe_features = X_validate.columns[mask]\n",
    "## Verifying same features returned as train\n",
    "print(f'selected {len(rfe_features)} features:', ', '.join(rfe_features))"
   ]
  },
  {
   "cell_type": "code",
   "execution_count": 23,
   "metadata": {},
   "outputs": [
    {
     "data": {
      "text/html": [
       "<div>\n",
       "<style scoped>\n",
       "    .dataframe tbody tr th:only-of-type {\n",
       "        vertical-align: middle;\n",
       "    }\n",
       "\n",
       "    .dataframe tbody tr th {\n",
       "        vertical-align: top;\n",
       "    }\n",
       "\n",
       "    .dataframe thead th {\n",
       "        text-align: right;\n",
       "    }\n",
       "</style>\n",
       "<table border=\"1\" class=\"dataframe\">\n",
       "  <thead>\n",
       "    <tr style=\"text-align: right;\">\n",
       "      <th></th>\n",
       "      <th>taxvaluedollarcnt</th>\n",
       "      <th>yhat_lm</th>\n",
       "    </tr>\n",
       "  </thead>\n",
       "  <tbody>\n",
       "    <tr>\n",
       "      <th>3844</th>\n",
       "      <td>844184.0</td>\n",
       "      <td>540257.2</td>\n",
       "    </tr>\n",
       "    <tr>\n",
       "      <th>16451</th>\n",
       "      <td>625000.0</td>\n",
       "      <td>372329.7</td>\n",
       "    </tr>\n",
       "    <tr>\n",
       "      <th>6804</th>\n",
       "      <td>400000.0</td>\n",
       "      <td>204741.2</td>\n",
       "    </tr>\n",
       "    <tr>\n",
       "      <th>11288</th>\n",
       "      <td>300251.0</td>\n",
       "      <td>528077.8</td>\n",
       "    </tr>\n",
       "    <tr>\n",
       "      <th>15145</th>\n",
       "      <td>150312.0</td>\n",
       "      <td>290351.0</td>\n",
       "    </tr>\n",
       "  </tbody>\n",
       "</table>\n",
       "</div>"
      ],
      "text/plain": [
       "       taxvaluedollarcnt   yhat_lm\n",
       "3844            844184.0  540257.2\n",
       "16451           625000.0  372329.7\n",
       "6804            400000.0  204741.2\n",
       "11288           300251.0  528077.8\n",
       "15145           150312.0  290351.0"
      ]
     },
     "execution_count": 23,
     "metadata": {},
     "output_type": "execute_result"
    }
   ],
   "source": [
    "## Same process as above, just with validate\n",
    "y_validate['yhat_lm'] = lm.predict(lm_X_rfe).round(1)\n",
    "\n",
    "y_validate.head()"
   ]
  },
  {
   "cell_type": "code",
   "execution_count": 24,
   "metadata": {},
   "outputs": [
    {
     "data": {
      "text/plain": [
       "386958.2066632213"
      ]
     },
     "execution_count": 24,
     "metadata": {},
     "output_type": "execute_result"
    }
   ],
   "source": [
    "RMSE_lm = np.sqrt(mean_squared_error(y_validate.taxvaluedollarcnt, y_validate.yhat_lm))\n",
    "RMSE_lm"
   ]
  },
  {
   "cell_type": "code",
   "execution_count": 25,
   "metadata": {},
   "outputs": [
    {
     "data": {
      "text/plain": [
       "0.27627442603980634"
      ]
     },
     "execution_count": 25,
     "metadata": {},
     "output_type": "execute_result"
    }
   ],
   "source": [
    "r2_lm = lm.score(lm_X_rfe, y_validate.taxvaluedollarcnt)\n",
    "\n",
    "r2_lm"
   ]
  },
  {
   "cell_type": "code",
   "execution_count": 26,
   "metadata": {},
   "outputs": [
    {
     "data": {
      "text/plain": [
       "'taxvaluedollarcnt = 5.663e+04 + 9.4e+04 * bathroomcnt + -1.08e+05 * bedroomcnt'"
      ]
     },
     "execution_count": 26,
     "metadata": {},
     "output_type": "execute_result"
    }
   ],
   "source": [
    "output = \"{} = {:.4} + {:.2} * {} + {:.3} * {}\".format(\n",
    "    y_train.columns[0],\n",
    "    lm.intercept_[0],\n",
    "    lm.coef_[0][0],\n",
    "    rfe_features[0],\n",
    "    lm.coef_[0][1],\n",
    "    rfe_features[1],\n",
    ")\n",
    "output"
   ]
  },
  {
   "cell_type": "markdown",
   "metadata": {},
   "source": [
    "# Baseline Model vs Linear Regression"
   ]
  },
  {
   "cell_type": "code",
   "execution_count": 27,
   "metadata": {},
   "outputs": [
    {
     "name": "stdout",
     "output_type": "stream",
     "text": [
      "464203.11080032005\n",
      "-2.220446049250313e-16\n"
     ]
    },
    {
     "data": {
      "text/plain": [
       "<matplotlib.collections.PathCollection at 0x7f8c5328efd0>"
      ]
     },
     "execution_count": 27,
     "metadata": {},
     "output_type": "execute_result"
    },
    {
     "data": {
      "image/png": "[encoded data removed]",
      "text/plain": [
       "<Figure size 432x288 with 1 Axes>"
      ]
     },
     "metadata": {
      "needs_background": "light"
     },
     "output_type": "display_data"
    }
   ],
   "source": [
    "y_train['yhat_baseline'] = df['taxvaluedollarcnt'].mean()\n",
    "\n",
    "# compute the RMSE\n",
    "RMSE_bl = np.sqrt(mean_squared_error(y_train.taxvaluedollarcnt, y_train.yhat_baseline))\n",
    "print(RMSE_bl)\n",
    "\n",
    "# no need to compute R-2 because it will be a 0! But we will demonstrate here:\n",
    "evs = explained_variance_score(y_train.taxvaluedollarcnt, y_train.yhat_baseline)\n",
    "print(evs)\n",
    "plt.scatter(y_validate.taxvaluedollarcnt, y_validate.yhat_lm, label='Linear Regression Model Predictions', marker='o')\n",
    "plt.scatter(y_train.taxvaluedollarcnt, y_train.yhat_baseline, label='Baseline Predicitions', marker='o')"
   ]
  },
  {
   "cell_type": "markdown",
   "metadata": {},
   "source": [
    "# Takeaways\n",
    "- Our Linear Model is performing better than the baseline based on this graph, but we will want to compare it below to the Polynomial so we can get our MVP"
   ]
  },
  {
   "cell_type": "markdown",
   "metadata": {},
   "source": [
    "# Polynomial Regression Model At 4 Degrees"
   ]
  },
  {
   "cell_type": "code",
   "execution_count": 28,
   "metadata": {},
   "outputs": [
    {
     "data": {
      "text/plain": [
       "['1',\n",
       " 'x0',\n",
       " 'x1',\n",
       " 'x2',\n",
       " 'x3',\n",
       " 'x4',\n",
       " 'x0^2',\n",
       " 'x0 x1',\n",
       " 'x0 x2',\n",
       " 'x0 x3',\n",
       " 'x0 x4',\n",
       " 'x1^2',\n",
       " 'x1 x2',\n",
       " 'x1 x3',\n",
       " 'x1 x4',\n",
       " 'x2^2',\n",
       " 'x2 x3',\n",
       " 'x2 x4',\n",
       " 'x3^2',\n",
       " 'x3 x4',\n",
       " 'x4^2',\n",
       " 'x0^3',\n",
       " 'x0^2 x1',\n",
       " 'x0^2 x2',\n",
       " 'x0^2 x3',\n",
       " 'x0^2 x4',\n",
       " 'x0 x1^2',\n",
       " 'x0 x1 x2',\n",
       " 'x0 x1 x3',\n",
       " 'x0 x1 x4',\n",
       " 'x0 x2^2',\n",
       " 'x0 x2 x3',\n",
       " 'x0 x2 x4',\n",
       " 'x0 x3^2',\n",
       " 'x0 x3 x4',\n",
       " 'x0 x4^2',\n",
       " 'x1^3',\n",
       " 'x1^2 x2',\n",
       " 'x1^2 x3',\n",
       " 'x1^2 x4',\n",
       " 'x1 x2^2',\n",
       " 'x1 x2 x3',\n",
       " 'x1 x2 x4',\n",
       " 'x1 x3^2',\n",
       " 'x1 x3 x4',\n",
       " 'x1 x4^2',\n",
       " 'x2^3',\n",
       " 'x2^2 x3',\n",
       " 'x2^2 x4',\n",
       " 'x2 x3^2',\n",
       " 'x2 x3 x4',\n",
       " 'x2 x4^2',\n",
       " 'x3^3',\n",
       " 'x3^2 x4',\n",
       " 'x3 x4^2',\n",
       " 'x4^3',\n",
       " 'x0^4',\n",
       " 'x0^3 x1',\n",
       " 'x0^3 x2',\n",
       " 'x0^3 x3',\n",
       " 'x0^3 x4',\n",
       " 'x0^2 x1^2',\n",
       " 'x0^2 x1 x2',\n",
       " 'x0^2 x1 x3',\n",
       " 'x0^2 x1 x4',\n",
       " 'x0^2 x2^2',\n",
       " 'x0^2 x2 x3',\n",
       " 'x0^2 x2 x4',\n",
       " 'x0^2 x3^2',\n",
       " 'x0^2 x3 x4',\n",
       " 'x0^2 x4^2',\n",
       " 'x0 x1^3',\n",
       " 'x0 x1^2 x2',\n",
       " 'x0 x1^2 x3',\n",
       " 'x0 x1^2 x4',\n",
       " 'x0 x1 x2^2',\n",
       " 'x0 x1 x2 x3',\n",
       " 'x0 x1 x2 x4',\n",
       " 'x0 x1 x3^2',\n",
       " 'x0 x1 x3 x4',\n",
       " 'x0 x1 x4^2',\n",
       " 'x0 x2^3',\n",
       " 'x0 x2^2 x3',\n",
       " 'x0 x2^2 x4',\n",
       " 'x0 x2 x3^2',\n",
       " 'x0 x2 x3 x4',\n",
       " 'x0 x2 x4^2',\n",
       " 'x0 x3^3',\n",
       " 'x0 x3^2 x4',\n",
       " 'x0 x3 x4^2',\n",
       " 'x0 x4^3',\n",
       " 'x1^4',\n",
       " 'x1^3 x2',\n",
       " 'x1^3 x3',\n",
       " 'x1^3 x4',\n",
       " 'x1^2 x2^2',\n",
       " 'x1^2 x2 x3',\n",
       " 'x1^2 x2 x4',\n",
       " 'x1^2 x3^2',\n",
       " 'x1^2 x3 x4',\n",
       " 'x1^2 x4^2',\n",
       " 'x1 x2^3',\n",
       " 'x1 x2^2 x3',\n",
       " 'x1 x2^2 x4',\n",
       " 'x1 x2 x3^2',\n",
       " 'x1 x2 x3 x4',\n",
       " 'x1 x2 x4^2',\n",
       " 'x1 x3^3',\n",
       " 'x1 x3^2 x4',\n",
       " 'x1 x3 x4^2',\n",
       " 'x1 x4^3',\n",
       " 'x2^4',\n",
       " 'x2^3 x3',\n",
       " 'x2^3 x4',\n",
       " 'x2^2 x3^2',\n",
       " 'x2^2 x3 x4',\n",
       " 'x2^2 x4^2',\n",
       " 'x2 x3^3',\n",
       " 'x2 x3^2 x4',\n",
       " 'x2 x3 x4^2',\n",
       " 'x2 x4^3',\n",
       " 'x3^4',\n",
       " 'x3^3 x4',\n",
       " 'x3^2 x4^2',\n",
       " 'x3 x4^3',\n",
       " 'x4^4']"
      ]
     },
     "execution_count": 28,
     "metadata": {},
     "output_type": "execute_result"
    }
   ],
   "source": [
    "from sklearn.preprocessing import PolynomialFeatures\n",
    "\n",
    "poly_X_rfe = rfe.fit_transform(X_train,y_train)\n",
    "\n",
    "## We're starting with 4 degrees as a rough starting point\n",
    "poly = PolynomialFeatures(degree=4)\n",
    "X_poly = poly.fit_transform(poly_X_rfe)\n",
    "\n",
    "poly.get_feature_names()"
   ]
  },
  {
   "cell_type": "markdown",
   "metadata": {},
   "source": [
    "- Here were going to create a column and return all the predictions for the first polynomial model\n",
    "- Then were going to compare it to the linear regression model and baseline"
   ]
  },
  {
   "cell_type": "code",
   "execution_count": 29,
   "metadata": {},
   "outputs": [],
   "source": [
    "lm_poly = LinearRegression()\n",
    "lm_poly.fit(X_poly, y_train.taxvaluedollarcnt)\n",
    "y_train['yhat_poly_1'] = lm_poly.predict(X_poly)"
   ]
  },
  {
   "cell_type": "code",
   "execution_count": 30,
   "metadata": {},
   "outputs": [
    {
     "data": {
      "text/plain": [
       "386880.6094870363"
      ]
     },
     "execution_count": 30,
     "metadata": {},
     "output_type": "execute_result"
    }
   ],
   "source": [
    "RMSE_poly = np.sqrt(mean_squared_error(y_train.taxvaluedollarcnt, y_train.yhat_poly_1))\n",
    "RMSE_poly"
   ]
  },
  {
   "cell_type": "code",
   "execution_count": 31,
   "metadata": {},
   "outputs": [
    {
     "data": {
      "text/html": [
       "<div>\n",
       "<style scoped>\n",
       "    .dataframe tbody tr th:only-of-type {\n",
       "        vertical-align: middle;\n",
       "    }\n",
       "\n",
       "    .dataframe tbody tr th {\n",
       "        vertical-align: top;\n",
       "    }\n",
       "\n",
       "    .dataframe thead th {\n",
       "        text-align: right;\n",
       "    }\n",
       "</style>\n",
       "<table border=\"1\" class=\"dataframe\">\n",
       "  <thead>\n",
       "    <tr style=\"text-align: right;\">\n",
       "      <th></th>\n",
       "      <th>taxvaluedollarcnt</th>\n",
       "      <th>yhat_lm</th>\n",
       "      <th>yhat_baseline</th>\n",
       "      <th>yhat_poly_1</th>\n",
       "    </tr>\n",
       "  </thead>\n",
       "  <tbody>\n",
       "    <tr>\n",
       "      <th>111</th>\n",
       "      <td>203113.0</td>\n",
       "      <td>570789.999342</td>\n",
       "      <td>461477.599221</td>\n",
       "      <td>531743.182128</td>\n",
       "    </tr>\n",
       "    <tr>\n",
       "      <th>1345</th>\n",
       "      <td>109028.0</td>\n",
       "      <td>299940.297608</td>\n",
       "      <td>461477.599221</td>\n",
       "      <td>322777.038901</td>\n",
       "    </tr>\n",
       "    <tr>\n",
       "      <th>13768</th>\n",
       "      <td>445279.0</td>\n",
       "      <td>249148.311440</td>\n",
       "      <td>461477.599221</td>\n",
       "      <td>239489.333694</td>\n",
       "    </tr>\n",
       "    <tr>\n",
       "      <th>15147</th>\n",
       "      <td>282241.0</td>\n",
       "      <td>534104.783423</td>\n",
       "      <td>461477.599221</td>\n",
       "      <td>520145.317815</td>\n",
       "    </tr>\n",
       "    <tr>\n",
       "      <th>7249</th>\n",
       "      <td>205628.0</td>\n",
       "      <td>286065.920161</td>\n",
       "      <td>461477.599221</td>\n",
       "      <td>217689.643269</td>\n",
       "    </tr>\n",
       "  </tbody>\n",
       "</table>\n",
       "</div>"
      ],
      "text/plain": [
       "       taxvaluedollarcnt        yhat_lm  yhat_baseline    yhat_poly_1\n",
       "111             203113.0  570789.999342  461477.599221  531743.182128\n",
       "1345            109028.0  299940.297608  461477.599221  322777.038901\n",
       "13768           445279.0  249148.311440  461477.599221  239489.333694\n",
       "15147           282241.0  534104.783423  461477.599221  520145.317815\n",
       "7249            205628.0  286065.920161  461477.599221  217689.643269"
      ]
     },
     "execution_count": 31,
     "metadata": {},
     "output_type": "execute_result"
    }
   ],
   "source": [
    "y_train.head()"
   ]
  },
  {
   "cell_type": "code",
   "execution_count": 32,
   "metadata": {},
   "outputs": [
    {
     "data": {
      "text/plain": [
       "<matplotlib.collections.PathCollection at 0x7f8c53c326d0>"
      ]
     },
     "execution_count": 32,
     "metadata": {},
     "output_type": "execute_result"
    },
    {
     "data": {
      "image/png": "[encoded data removed]",
      "text/plain": [
       "<Figure size 648x648 with 1 Axes>"
      ]
     },
     "metadata": {
      "needs_background": "light"
     },
     "output_type": "display_data"
    }
   ],
   "source": [
    "plt.figure(figsize=(9, 9))\n",
    "\n",
    "plt.scatter(y_train.taxvaluedollarcnt, y_train.yhat_lm, label='Linear Regression Model Predictions', marker='o')\n",
    "plt.scatter(y_train.taxvaluedollarcnt, y_train.yhat_poly_1, label='Polynomial Regression Model Predictions', marker='o')\n",
    "plt.scatter(y_train.taxvaluedollarcnt, y_train.yhat_baseline, label='Baseline Predicitions', marker='o')"
   ]
  },
  {
   "cell_type": "markdown",
   "metadata": {},
   "source": [
    "# Takeaways\n",
    "- Both models were performing better than baseline but based on the points, the polynomial is actually going to be closest to that perfect 45 degree angle of the regression line\n",
    "- At this point it's safe to assume that the Polynomial is going to be the right model to further build on with different versions of this model"
   ]
  },
  {
   "cell_type": "markdown",
   "metadata": {},
   "source": [
    "# Polynomial Regression Model At 3 Degrees"
   ]
  },
  {
   "cell_type": "code",
   "execution_count": 33,
   "metadata": {},
   "outputs": [],
   "source": [
    "poly = PolynomialFeatures(degree=3)\n",
    "X_poly = poly.fit_transform(poly_X_rfe)"
   ]
  },
  {
   "cell_type": "code",
   "execution_count": 34,
   "metadata": {},
   "outputs": [],
   "source": [
    "lm_poly = LinearRegression()\n",
    "lm_poly.fit(X_poly, y_train.taxvaluedollarcnt)\n",
    "y_train['yhat_poly_2'] = lm_poly.predict(X_poly)"
   ]
  },
  {
   "cell_type": "code",
   "execution_count": 35,
   "metadata": {},
   "outputs": [
    {
     "data": {
      "text/plain": [
       "385695.7510914246"
      ]
     },
     "execution_count": 35,
     "metadata": {},
     "output_type": "execute_result"
    }
   ],
   "source": [
    "RMSE_poly = np.sqrt(mean_squared_error(y_train.taxvaluedollarcnt, y_train.yhat_poly_2))\n",
    "RMSE_poly"
   ]
  },
  {
   "cell_type": "code",
   "execution_count": 36,
   "metadata": {},
   "outputs": [
    {
     "data": {
      "text/html": [
       "<div>\n",
       "<style scoped>\n",
       "    .dataframe tbody tr th:only-of-type {\n",
       "        vertical-align: middle;\n",
       "    }\n",
       "\n",
       "    .dataframe tbody tr th {\n",
       "        vertical-align: top;\n",
       "    }\n",
       "\n",
       "    .dataframe thead th {\n",
       "        text-align: right;\n",
       "    }\n",
       "</style>\n",
       "<table border=\"1\" class=\"dataframe\">\n",
       "  <thead>\n",
       "    <tr style=\"text-align: right;\">\n",
       "      <th></th>\n",
       "      <th>taxvaluedollarcnt</th>\n",
       "      <th>yhat_lm</th>\n",
       "      <th>yhat_baseline</th>\n",
       "      <th>yhat_poly_1</th>\n",
       "      <th>yhat_poly_2</th>\n",
       "    </tr>\n",
       "  </thead>\n",
       "  <tbody>\n",
       "    <tr>\n",
       "      <th>111</th>\n",
       "      <td>203113.0</td>\n",
       "      <td>570789.999342</td>\n",
       "      <td>461477.599221</td>\n",
       "      <td>531743.182128</td>\n",
       "      <td>522776.975964</td>\n",
       "    </tr>\n",
       "    <tr>\n",
       "      <th>1345</th>\n",
       "      <td>109028.0</td>\n",
       "      <td>299940.297608</td>\n",
       "      <td>461477.599221</td>\n",
       "      <td>322777.038901</td>\n",
       "      <td>277784.513657</td>\n",
       "    </tr>\n",
       "    <tr>\n",
       "      <th>13768</th>\n",
       "      <td>445279.0</td>\n",
       "      <td>249148.311440</td>\n",
       "      <td>461477.599221</td>\n",
       "      <td>239489.333694</td>\n",
       "      <td>290255.343835</td>\n",
       "    </tr>\n",
       "    <tr>\n",
       "      <th>15147</th>\n",
       "      <td>282241.0</td>\n",
       "      <td>534104.783423</td>\n",
       "      <td>461477.599221</td>\n",
       "      <td>520145.317815</td>\n",
       "      <td>482630.654696</td>\n",
       "    </tr>\n",
       "    <tr>\n",
       "      <th>7249</th>\n",
       "      <td>205628.0</td>\n",
       "      <td>286065.920161</td>\n",
       "      <td>461477.599221</td>\n",
       "      <td>217689.643269</td>\n",
       "      <td>240903.658948</td>\n",
       "    </tr>\n",
       "  </tbody>\n",
       "</table>\n",
       "</div>"
      ],
      "text/plain": [
       "       taxvaluedollarcnt        yhat_lm  yhat_baseline    yhat_poly_1  \\\n",
       "111             203113.0  570789.999342  461477.599221  531743.182128   \n",
       "1345            109028.0  299940.297608  461477.599221  322777.038901   \n",
       "13768           445279.0  249148.311440  461477.599221  239489.333694   \n",
       "15147           282241.0  534104.783423  461477.599221  520145.317815   \n",
       "7249            205628.0  286065.920161  461477.599221  217689.643269   \n",
       "\n",
       "         yhat_poly_2  \n",
       "111    522776.975964  \n",
       "1345   277784.513657  \n",
       "13768  290255.343835  \n",
       "15147  482630.654696  \n",
       "7249   240903.658948  "
      ]
     },
     "execution_count": 36,
     "metadata": {},
     "output_type": "execute_result"
    }
   ],
   "source": [
    "y_train.head()"
   ]
  },
  {
   "cell_type": "markdown",
   "metadata": {},
   "source": [
    "# Polynomial Regression Model At 2 Degrees"
   ]
  },
  {
   "cell_type": "code",
   "execution_count": 37,
   "metadata": {},
   "outputs": [
    {
     "data": {
      "text/plain": [
       "387593.10865652846"
      ]
     },
     "execution_count": 37,
     "metadata": {},
     "output_type": "execute_result"
    }
   ],
   "source": [
    "poly = PolynomialFeatures(degree=2)\n",
    "X_poly = poly.fit_transform(poly_X_rfe)\n",
    "lm_poly = LinearRegression()\n",
    "lm_poly.fit(X_poly, y_train.taxvaluedollarcnt)\n",
    "y_train['yhat_poly_3'] = lm_poly.predict(X_poly)\n",
    "RMSE_poly = np.sqrt(mean_squared_error(y_train.taxvaluedollarcnt, y_train.yhat_poly_3))\n",
    "RMSE_poly"
   ]
  },
  {
   "cell_type": "code",
   "execution_count": 38,
   "metadata": {},
   "outputs": [
    {
     "data": {
      "text/html": [
       "<div>\n",
       "<style scoped>\n",
       "    .dataframe tbody tr th:only-of-type {\n",
       "        vertical-align: middle;\n",
       "    }\n",
       "\n",
       "    .dataframe tbody tr th {\n",
       "        vertical-align: top;\n",
       "    }\n",
       "\n",
       "    .dataframe thead th {\n",
       "        text-align: right;\n",
       "    }\n",
       "</style>\n",
       "<table border=\"1\" class=\"dataframe\">\n",
       "  <thead>\n",
       "    <tr style=\"text-align: right;\">\n",
       "      <th></th>\n",
       "      <th>taxvaluedollarcnt</th>\n",
       "      <th>yhat_lm</th>\n",
       "      <th>yhat_baseline</th>\n",
       "      <th>yhat_poly_1</th>\n",
       "      <th>yhat_poly_2</th>\n",
       "      <th>yhat_poly_3</th>\n",
       "    </tr>\n",
       "  </thead>\n",
       "  <tbody>\n",
       "    <tr>\n",
       "      <th>111</th>\n",
       "      <td>203113.0</td>\n",
       "      <td>570789.999342</td>\n",
       "      <td>461477.599221</td>\n",
       "      <td>531743.182128</td>\n",
       "      <td>522776.975964</td>\n",
       "      <td>542259.756727</td>\n",
       "    </tr>\n",
       "    <tr>\n",
       "      <th>1345</th>\n",
       "      <td>109028.0</td>\n",
       "      <td>299940.297608</td>\n",
       "      <td>461477.599221</td>\n",
       "      <td>322777.038901</td>\n",
       "      <td>277784.513657</td>\n",
       "      <td>275107.143931</td>\n",
       "    </tr>\n",
       "    <tr>\n",
       "      <th>13768</th>\n",
       "      <td>445279.0</td>\n",
       "      <td>249148.311440</td>\n",
       "      <td>461477.599221</td>\n",
       "      <td>239489.333694</td>\n",
       "      <td>290255.343835</td>\n",
       "      <td>282980.764454</td>\n",
       "    </tr>\n",
       "    <tr>\n",
       "      <th>15147</th>\n",
       "      <td>282241.0</td>\n",
       "      <td>534104.783423</td>\n",
       "      <td>461477.599221</td>\n",
       "      <td>520145.317815</td>\n",
       "      <td>482630.654696</td>\n",
       "      <td>522958.769960</td>\n",
       "    </tr>\n",
       "    <tr>\n",
       "      <th>7249</th>\n",
       "      <td>205628.0</td>\n",
       "      <td>286065.920161</td>\n",
       "      <td>461477.599221</td>\n",
       "      <td>217689.643269</td>\n",
       "      <td>240903.658948</td>\n",
       "      <td>231981.958220</td>\n",
       "    </tr>\n",
       "  </tbody>\n",
       "</table>\n",
       "</div>"
      ],
      "text/plain": [
       "       taxvaluedollarcnt        yhat_lm  yhat_baseline    yhat_poly_1  \\\n",
       "111             203113.0  570789.999342  461477.599221  531743.182128   \n",
       "1345            109028.0  299940.297608  461477.599221  322777.038901   \n",
       "13768           445279.0  249148.311440  461477.599221  239489.333694   \n",
       "15147           282241.0  534104.783423  461477.599221  520145.317815   \n",
       "7249            205628.0  286065.920161  461477.599221  217689.643269   \n",
       "\n",
       "         yhat_poly_2    yhat_poly_3  \n",
       "111    522776.975964  542259.756727  \n",
       "1345   277784.513657  275107.143931  \n",
       "13768  290255.343835  282980.764454  \n",
       "15147  482630.654696  522958.769960  \n",
       "7249   240903.658948  231981.958220  "
      ]
     },
     "execution_count": 38,
     "metadata": {},
     "output_type": "execute_result"
    }
   ],
   "source": [
    "y_train.head()"
   ]
  },
  {
   "cell_type": "code",
   "execution_count": 39,
   "metadata": {},
   "outputs": [
    {
     "data": {
      "text/plain": [
       "-1233608.835842686"
      ]
     },
     "execution_count": 39,
     "metadata": {},
     "output_type": "execute_result"
    }
   ],
   "source": [
    "y_train['base_perc_error'] = ((y_train.taxvaluedollarcnt - y_train.yhat_baseline) / y_train.taxvaluedollarcnt) * 100\n",
    "y_train.base_perc_error.sum()"
   ]
  },
  {
   "cell_type": "markdown",
   "metadata": {},
   "source": [
    "# Takeaways\n",
    "- After assessing different degrees for the polynomial model, it appears that the model set to 4 and 3 degrees are pretty similar so we will run both against the validate compared to linear"
   ]
  },
  {
   "cell_type": "markdown",
   "metadata": {},
   "source": [
    "# Polynomial Regression Model On Validate Set"
   ]
  },
  {
   "cell_type": "code",
   "execution_count": 40,
   "metadata": {},
   "outputs": [],
   "source": [
    "val_poly_X_rfe = rfe.fit_transform(X_validate,y_validate) "
   ]
  },
  {
   "cell_type": "code",
   "execution_count": 41,
   "metadata": {},
   "outputs": [],
   "source": [
    "poly = PolynomialFeatures(degree=4)\n",
    "X_poly = poly.fit_transform(val_poly_X_rfe)"
   ]
  },
  {
   "cell_type": "code",
   "execution_count": 42,
   "metadata": {},
   "outputs": [],
   "source": [
    "lm_poly = LinearRegression()\n",
    "lm_poly.fit(X_poly, y_validate.taxvaluedollarcnt)\n",
    "y_validate['yhat_poly1'] = lm_poly.predict(X_poly).round(1)"
   ]
  },
  {
   "cell_type": "code",
   "execution_count": 43,
   "metadata": {},
   "outputs": [
    {
     "data": {
      "text/plain": [
       "375845.46568807366"
      ]
     },
     "execution_count": 43,
     "metadata": {},
     "output_type": "execute_result"
    }
   ],
   "source": [
    "RMSE_poly = np.sqrt(mean_squared_error(y_validate.taxvaluedollarcnt, y_validate.yhat_poly1))\n",
    "RMSE_poly"
   ]
  },
  {
   "cell_type": "code",
   "execution_count": 44,
   "metadata": {},
   "outputs": [
    {
     "data": {
      "text/html": [
       "<div>\n",
       "<style scoped>\n",
       "    .dataframe tbody tr th:only-of-type {\n",
       "        vertical-align: middle;\n",
       "    }\n",
       "\n",
       "    .dataframe tbody tr th {\n",
       "        vertical-align: top;\n",
       "    }\n",
       "\n",
       "    .dataframe thead th {\n",
       "        text-align: right;\n",
       "    }\n",
       "</style>\n",
       "<table border=\"1\" class=\"dataframe\">\n",
       "  <thead>\n",
       "    <tr style=\"text-align: right;\">\n",
       "      <th></th>\n",
       "      <th>taxvaluedollarcnt</th>\n",
       "      <th>yhat_lm</th>\n",
       "      <th>yhat_poly1</th>\n",
       "    </tr>\n",
       "  </thead>\n",
       "  <tbody>\n",
       "    <tr>\n",
       "      <th>3844</th>\n",
       "      <td>844184.0</td>\n",
       "      <td>540257.2</td>\n",
       "      <td>460329.7</td>\n",
       "    </tr>\n",
       "    <tr>\n",
       "      <th>16451</th>\n",
       "      <td>625000.0</td>\n",
       "      <td>372329.7</td>\n",
       "      <td>344088.9</td>\n",
       "    </tr>\n",
       "    <tr>\n",
       "      <th>6804</th>\n",
       "      <td>400000.0</td>\n",
       "      <td>204741.2</td>\n",
       "      <td>248718.0</td>\n",
       "    </tr>\n",
       "    <tr>\n",
       "      <th>11288</th>\n",
       "      <td>300251.0</td>\n",
       "      <td>528077.8</td>\n",
       "      <td>511631.1</td>\n",
       "    </tr>\n",
       "    <tr>\n",
       "      <th>15145</th>\n",
       "      <td>150312.0</td>\n",
       "      <td>290351.0</td>\n",
       "      <td>312132.6</td>\n",
       "    </tr>\n",
       "  </tbody>\n",
       "</table>\n",
       "</div>"
      ],
      "text/plain": [
       "       taxvaluedollarcnt   yhat_lm  yhat_poly1\n",
       "3844            844184.0  540257.2    460329.7\n",
       "16451           625000.0  372329.7    344088.9\n",
       "6804            400000.0  204741.2    248718.0\n",
       "11288           300251.0  528077.8    511631.1\n",
       "15145           150312.0  290351.0    312132.6"
      ]
     },
     "execution_count": 44,
     "metadata": {},
     "output_type": "execute_result"
    }
   ],
   "source": [
    "y_validate.head()"
   ]
  },
  {
   "cell_type": "code",
   "execution_count": 45,
   "metadata": {},
   "outputs": [
    {
     "data": {
      "text/plain": [
       "378401.9376576725"
      ]
     },
     "execution_count": 45,
     "metadata": {},
     "output_type": "execute_result"
    }
   ],
   "source": [
    "poly = PolynomialFeatures(degree=3)\n",
    "X_poly = poly.fit_transform(val_poly_X_rfe)\n",
    "lm_poly = LinearRegression()\n",
    "lm_poly.fit(X_poly, y_validate.taxvaluedollarcnt)\n",
    "y_validate['yhat_poly2'] = lm_poly.predict(X_poly).round(1)\n",
    "RMSE_poly = np.sqrt(mean_squared_error(y_validate.taxvaluedollarcnt, y_validate.yhat_poly2))\n",
    "RMSE_poly"
   ]
  },
  {
   "cell_type": "code",
   "execution_count": 46,
   "metadata": {},
   "outputs": [
    {
     "data": {
      "text/html": [
       "<div>\n",
       "<style scoped>\n",
       "    .dataframe tbody tr th:only-of-type {\n",
       "        vertical-align: middle;\n",
       "    }\n",
       "\n",
       "    .dataframe tbody tr th {\n",
       "        vertical-align: top;\n",
       "    }\n",
       "\n",
       "    .dataframe thead th {\n",
       "        text-align: right;\n",
       "    }\n",
       "</style>\n",
       "<table border=\"1\" class=\"dataframe\">\n",
       "  <thead>\n",
       "    <tr style=\"text-align: right;\">\n",
       "      <th></th>\n",
       "      <th>taxvaluedollarcnt</th>\n",
       "      <th>yhat_lm</th>\n",
       "      <th>yhat_poly1</th>\n",
       "      <th>yhat_poly2</th>\n",
       "    </tr>\n",
       "  </thead>\n",
       "  <tbody>\n",
       "    <tr>\n",
       "      <th>3844</th>\n",
       "      <td>844184.0</td>\n",
       "      <td>540257.2</td>\n",
       "      <td>460329.7</td>\n",
       "      <td>487499.7</td>\n",
       "    </tr>\n",
       "    <tr>\n",
       "      <th>16451</th>\n",
       "      <td>625000.0</td>\n",
       "      <td>372329.7</td>\n",
       "      <td>344088.9</td>\n",
       "      <td>349068.0</td>\n",
       "    </tr>\n",
       "    <tr>\n",
       "      <th>6804</th>\n",
       "      <td>400000.0</td>\n",
       "      <td>204741.2</td>\n",
       "      <td>248718.0</td>\n",
       "      <td>256764.7</td>\n",
       "    </tr>\n",
       "    <tr>\n",
       "      <th>11288</th>\n",
       "      <td>300251.0</td>\n",
       "      <td>528077.8</td>\n",
       "      <td>511631.1</td>\n",
       "      <td>505649.3</td>\n",
       "    </tr>\n",
       "    <tr>\n",
       "      <th>15145</th>\n",
       "      <td>150312.0</td>\n",
       "      <td>290351.0</td>\n",
       "      <td>312132.6</td>\n",
       "      <td>322356.1</td>\n",
       "    </tr>\n",
       "  </tbody>\n",
       "</table>\n",
       "</div>"
      ],
      "text/plain": [
       "       taxvaluedollarcnt   yhat_lm  yhat_poly1  yhat_poly2\n",
       "3844            844184.0  540257.2    460329.7    487499.7\n",
       "16451           625000.0  372329.7    344088.9    349068.0\n",
       "6804            400000.0  204741.2    248718.0    256764.7\n",
       "11288           300251.0  528077.8    511631.1    505649.3\n",
       "15145           150312.0  290351.0    312132.6    322356.1"
      ]
     },
     "execution_count": 46,
     "metadata": {},
     "output_type": "execute_result"
    }
   ],
   "source": [
    "y_validate.head()"
   ]
  },
  {
   "cell_type": "code",
   "execution_count": 47,
   "metadata": {
    "scrolled": true
   },
   "outputs": [
    {
     "data": {
      "text/plain": [
       "<matplotlib.collections.PathCollection at 0x7f8c53eb8dc0>"
      ]
     },
     "execution_count": 47,
     "metadata": {},
     "output_type": "execute_result"
    },
    {
     "data": {
      "image/png": "[encoded data removed]",
      "text/plain": [
       "<Figure size 648x648 with 1 Axes>"
      ]
     },
     "metadata": {
      "needs_background": "light"
     },
     "output_type": "display_data"
    }
   ],
   "source": [
    "plt.figure(figsize=(9, 9))\n",
    "plt.scatter(y_validate.taxvaluedollarcnt, y_validate.yhat_poly1, label='Polynomial Regression Model Predictions', marker='o')\n",
    "plt.scatter(y_validate.taxvaluedollarcnt, y_validate.yhat_poly2, label='Polynomial Regression Model Predictions', marker='o')\n",
    "plt.scatter(y_validate.taxvaluedollarcnt, y_validate.yhat_lm, label='Linear Regression Model Predictions', marker='o')\n",
    "plt.scatter(y_train.taxvaluedollarcnt, y_train.yhat_baseline, label='Baseline Predicitions', marker='o')"
   ]
  },
  {
   "cell_type": "markdown",
   "metadata": {},
   "source": [
    "# Linear vs Poly On Validate\n",
    "- After comparing the 4 models on the validate datasets, the model set to 4 degrees is the best one because it improved on the validate, where the model at 3 degrees did not\n",
    "- Polynomial at 4 degress is our MVP"
   ]
  },
  {
   "cell_type": "markdown",
   "metadata": {},
   "source": [
    "# MVP - Poly At Degree 4"
   ]
  },
  {
   "cell_type": "code",
   "execution_count": 48,
   "metadata": {},
   "outputs": [],
   "source": [
    "test_poly_X_rfe = rfe.fit_transform(X_test,y_test) "
   ]
  },
  {
   "cell_type": "code",
   "execution_count": 49,
   "metadata": {},
   "outputs": [],
   "source": [
    "poly = PolynomialFeatures(degree=4)\n",
    "X_poly = poly.fit_transform(test_poly_X_rfe)"
   ]
  },
  {
   "cell_type": "code",
   "execution_count": 50,
   "metadata": {},
   "outputs": [],
   "source": [
    "lm_poly = LinearRegression()\n",
    "lm_poly.fit(X_poly, y_test.taxvaluedollarcnt)\n",
    "y_test['yhat_poly'] = lm_poly.predict(X_poly).round(1)"
   ]
  },
  {
   "cell_type": "code",
   "execution_count": 51,
   "metadata": {},
   "outputs": [
    {
     "data": {
      "text/plain": [
       "370452.4242366546"
      ]
     },
     "execution_count": 51,
     "metadata": {},
     "output_type": "execute_result"
    }
   ],
   "source": [
    "RMSE_poly = np.sqrt(mean_squared_error(y_test.taxvaluedollarcnt, y_test.yhat_poly))\n",
    "RMSE_poly"
   ]
  },
  {
   "cell_type": "code",
   "execution_count": 52,
   "metadata": {},
   "outputs": [
    {
     "data": {
      "text/html": [
       "<div>\n",
       "<style scoped>\n",
       "    .dataframe tbody tr th:only-of-type {\n",
       "        vertical-align: middle;\n",
       "    }\n",
       "\n",
       "    .dataframe tbody tr th {\n",
       "        vertical-align: top;\n",
       "    }\n",
       "\n",
       "    .dataframe thead th {\n",
       "        text-align: right;\n",
       "    }\n",
       "</style>\n",
       "<table border=\"1\" class=\"dataframe\">\n",
       "  <thead>\n",
       "    <tr style=\"text-align: right;\">\n",
       "      <th></th>\n",
       "      <th>taxvaluedollarcnt</th>\n",
       "      <th>yhat_poly</th>\n",
       "    </tr>\n",
       "  </thead>\n",
       "  <tbody>\n",
       "    <tr>\n",
       "      <th>12052</th>\n",
       "      <td>314788.0</td>\n",
       "      <td>354865.9</td>\n",
       "    </tr>\n",
       "    <tr>\n",
       "      <th>14120</th>\n",
       "      <td>272103.0</td>\n",
       "      <td>399942.1</td>\n",
       "    </tr>\n",
       "    <tr>\n",
       "      <th>1251</th>\n",
       "      <td>1148056.0</td>\n",
       "      <td>628566.7</td>\n",
       "    </tr>\n",
       "    <tr>\n",
       "      <th>17699</th>\n",
       "      <td>52274.0</td>\n",
       "      <td>262532.8</td>\n",
       "    </tr>\n",
       "    <tr>\n",
       "      <th>18034</th>\n",
       "      <td>238108.0</td>\n",
       "      <td>422888.6</td>\n",
       "    </tr>\n",
       "  </tbody>\n",
       "</table>\n",
       "</div>"
      ],
      "text/plain": [
       "       taxvaluedollarcnt  yhat_poly\n",
       "12052           314788.0   354865.9\n",
       "14120           272103.0   399942.1\n",
       "1251           1148056.0   628566.7\n",
       "17699            52274.0   262532.8\n",
       "18034           238108.0   422888.6"
      ]
     },
     "execution_count": 52,
     "metadata": {},
     "output_type": "execute_result"
    }
   ],
   "source": [
    "y_test.head()"
   ]
  },
  {
   "cell_type": "code",
   "execution_count": 60,
   "metadata": {},
   "outputs": [
    {
     "data": {
      "image/png": "[encoded data removed]",
      "text/plain": [
       "<Figure size 432x288 with 1 Axes>"
      ]
     },
     "metadata": {
      "needs_background": "light"
     },
     "output_type": "display_data"
    }
   ],
   "source": [
    "plt.scatter(y_test.taxvaluedollarcnt, y_test.yhat_poly, label='Polynomial Regression Model Predictions', marker='o')\n",
    "plt.scatter(y_train.taxvaluedollarcnt, y_train.yhat_baseline, label='Baseline Predicitions', marker='o')\n",
    "plt.legend()\n",
    "plt.show()"
   ]
  },
  {
   "cell_type": "code",
   "execution_count": 59,
   "metadata": {
    "scrolled": true
   },
   "outputs": [
    {
     "data": {
      "image/png": "[encoded data removed]",
      "text/plain": [
       "<Figure size 1152x576 with 1 Axes>"
      ]
     },
     "metadata": {
      "needs_background": "light"
     },
     "output_type": "display_data"
    }
   ],
   "source": [
    "# plot to visualize actual vs predicted. \n",
    "plt.figure(figsize=(16,8))\n",
    "plt.hist(y_test.taxvaluedollarcnt, color='blue', alpha=.5, label=\"Actual Property Value\")\n",
    "plt.hist(y_test.yhat_poly, color='green', alpha=.5, label=\"Model 4th degree Polynomial\")\n",
    "plt.xlabel(\"Property Value\")\n",
    "plt.ylabel(\"Number of Properties\")\n",
    "plt.title(\"Comparing the Distribution of Actual Property Value Against Our Predicted Propery Value\")\n",
    "plt.legend()\n",
    "plt.show()"
   ]
  },
  {
   "cell_type": "code",
   "execution_count": 55,
   "metadata": {},
   "outputs": [
    {
     "data": {
      "text/html": [
       "<div>\n",
       "<style scoped>\n",
       "    .dataframe tbody tr th:only-of-type {\n",
       "        vertical-align: middle;\n",
       "    }\n",
       "\n",
       "    .dataframe tbody tr th {\n",
       "        vertical-align: top;\n",
       "    }\n",
       "\n",
       "    .dataframe thead th {\n",
       "        text-align: right;\n",
       "    }\n",
       "</style>\n",
       "<table border=\"1\" class=\"dataframe\">\n",
       "  <thead>\n",
       "    <tr style=\"text-align: right;\">\n",
       "      <th></th>\n",
       "      <th>taxvaluedollarcnt</th>\n",
       "      <th>yhat_poly</th>\n",
       "      <th>perc_error</th>\n",
       "    </tr>\n",
       "  </thead>\n",
       "  <tbody>\n",
       "    <tr>\n",
       "      <th>12052</th>\n",
       "      <td>314788.0</td>\n",
       "      <td>354865.9</td>\n",
       "      <td>-12.731712</td>\n",
       "    </tr>\n",
       "    <tr>\n",
       "      <th>14120</th>\n",
       "      <td>272103.0</td>\n",
       "      <td>399942.1</td>\n",
       "      <td>-46.981878</td>\n",
       "    </tr>\n",
       "    <tr>\n",
       "      <th>1251</th>\n",
       "      <td>1148056.0</td>\n",
       "      <td>628566.7</td>\n",
       "      <td>45.249474</td>\n",
       "    </tr>\n",
       "    <tr>\n",
       "      <th>17699</th>\n",
       "      <td>52274.0</td>\n",
       "      <td>262532.8</td>\n",
       "      <td>-402.224433</td>\n",
       "    </tr>\n",
       "    <tr>\n",
       "      <th>18034</th>\n",
       "      <td>238108.0</td>\n",
       "      <td>422888.6</td>\n",
       "      <td>-77.603692</td>\n",
       "    </tr>\n",
       "    <tr>\n",
       "      <th>...</th>\n",
       "      <td>...</td>\n",
       "      <td>...</td>\n",
       "      <td>...</td>\n",
       "    </tr>\n",
       "    <tr>\n",
       "      <th>19728</th>\n",
       "      <td>96094.0</td>\n",
       "      <td>402113.7</td>\n",
       "      <td>-318.458697</td>\n",
       "    </tr>\n",
       "    <tr>\n",
       "      <th>8981</th>\n",
       "      <td>85895.0</td>\n",
       "      <td>523450.1</td>\n",
       "      <td>-509.406950</td>\n",
       "    </tr>\n",
       "    <tr>\n",
       "      <th>11034</th>\n",
       "      <td>258888.0</td>\n",
       "      <td>293859.3</td>\n",
       "      <td>-13.508274</td>\n",
       "    </tr>\n",
       "    <tr>\n",
       "      <th>1308</th>\n",
       "      <td>261391.0</td>\n",
       "      <td>337351.5</td>\n",
       "      <td>-29.060105</td>\n",
       "    </tr>\n",
       "    <tr>\n",
       "      <th>20708</th>\n",
       "      <td>327807.0</td>\n",
       "      <td>330372.7</td>\n",
       "      <td>-0.782686</td>\n",
       "    </tr>\n",
       "  </tbody>\n",
       "</table>\n",
       "<p>4160 rows × 3 columns</p>\n",
       "</div>"
      ],
      "text/plain": [
       "       taxvaluedollarcnt  yhat_poly  perc_error\n",
       "12052           314788.0   354865.9  -12.731712\n",
       "14120           272103.0   399942.1  -46.981878\n",
       "1251           1148056.0   628566.7   45.249474\n",
       "17699            52274.0   262532.8 -402.224433\n",
       "18034           238108.0   422888.6  -77.603692\n",
       "...                  ...        ...         ...\n",
       "19728            96094.0   402113.7 -318.458697\n",
       "8981             85895.0   523450.1 -509.406950\n",
       "11034           258888.0   293859.3  -13.508274\n",
       "1308            261391.0   337351.5  -29.060105\n",
       "20708           327807.0   330372.7   -0.782686\n",
       "\n",
       "[4160 rows x 3 columns]"
      ]
     },
     "execution_count": 55,
     "metadata": {},
     "output_type": "execute_result"
    }
   ],
   "source": [
    "y_test['perc_error'] = ((y_test.taxvaluedollarcnt - y_test.yhat_poly) / y_test.taxvaluedollarcnt) * 100\n",
    "y_test"
   ]
  },
  {
   "cell_type": "code",
   "execution_count": 56,
   "metadata": {},
   "outputs": [
    {
     "name": "stdout",
     "output_type": "stream",
     "text": [
      "MVP error -291256.6\n",
      "Baseline error: -1233608.84\n",
      "Our model had 4.2 times less error than baseline\n"
     ]
    }
   ],
   "source": [
    "print('MVP error',(y_test.perc_error.sum()).round(2))\n",
    "print('Baseline error:',(y_train.base_perc_error.sum()).round(2))\n",
    "print('Our model had', (y_train.base_perc_error.sum() / y_test.perc_error.sum()).round(1), 'times less error than baseline')"
   ]
  },
  {
   "cell_type": "markdown",
   "metadata": {},
   "source": [
    "# Final Thoughts\n",
    "- None of these models would be what I would consider accurate if we account for the massive variance in property valuations in this area, however, our model did significantly beat the baseline\n",
    "- Now that we have a good solid foundation with key features to take into account, we can look deeper at collecting additional data so we can create models that will predict property values by county rather than the area as a whole"
   ]
  },
  {
   "cell_type": "markdown",
   "metadata": {},
   "source": [
    "# Extra Time Work\n",
    "- We wanted to account for the huge variations in property values so we went back and accounted for even more outliers\n",
    "- This significantly improved our model without overfitting\n",
    "- Originally we tried to run new features to try to improve our model but this did lead to overfitting and did not result in any useful modeling\n",
    "- Ultimately, we had to go back and account for the additional columns that had significant outliers for those mansions that technically count as a 1 unit dwelling but we can't assess it towards the overall housing market.\n",
    "- Our new model stayed best at 4th degree polynomial but had a significant improvement on RMSE without overfitting and keeping its integrity."
   ]
  },
  {
   "cell_type": "code",
   "execution_count": null,
   "metadata": {},
   "outputs": [],
   "source": []
  }
 ],
 "metadata": {
  "kernelspec": {
   "display_name": "Python 3",
   "language": "python",
   "name": "python3"
  },
  "language_info": {
   "codemirror_mode": {
    "name": "ipython",
    "version": 3
   },
   "file_extension": ".py",
   "mimetype": "text/x-python",
   "name": "python",
   "nbconvert_exporter": "python",
   "pygments_lexer": "ipython3",
   "version": "3.8.3"
  }
 },
 "nbformat": 4,
 "nbformat_minor": 4
}
