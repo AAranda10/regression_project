{
 "cells": [
  {
   "cell_type": "code",
   "execution_count": 1,
   "metadata": {},
   "outputs": [
    {
     "name": "stdout",
     "output_type": "stream",
     "text": [
      "wrangle.py functions loaded successfully\n",
      "acquire.py functions loaded successfully\n"
     ]
    }
   ],
   "source": [
    "import warnings\n",
    "warnings.filterwarnings(\"ignore\")\n",
    "import pandas as pd\n",
    "import matplotlib.pyplot as plt\n",
    "import seaborn as sns\n",
    "import numpy as np\n",
    "import wrangle\n",
    "import prep\n",
    "from scipy import stats\n",
    "\n",
    "from sklearn.model_selection import train_test_split\n",
    "from sklearn.metrics import mean_squared_error, explained_variance_score\n",
    "from sklearn.linear_model import LinearRegression\n",
    "from sklearn.feature_selection import RFE"
   ]
  },
  {
   "cell_type": "markdown",
   "metadata": {},
   "source": [
    "# "
   ]
  },
  {
   "cell_type": "code",
   "execution_count": 2,
   "metadata": {},
   "outputs": [
    {
     "data": {
      "text/plain": [
       "0    3.0\n",
       "1    2.0\n",
       "2    1.0\n",
       "3    3.0\n",
       "4    2.0\n",
       "Name: fullbathcnt, dtype: float64"
      ]
     },
     "execution_count": 2,
     "metadata": {},
     "output_type": "execute_result"
    }
   ],
   "source": [
    "df = prep.prep_zillow_data()\n",
    "df.isna().sum()\n",
    "df.fullbathcnt.head()"
   ]
  },
  {
   "cell_type": "code",
   "execution_count": 3,
   "metadata": {},
   "outputs": [],
   "source": [
    "X_train, y_train, X_validate, y_validate, X_test, y_test = wrangle.train_validate_test(df)"
   ]
  },
  {
   "cell_type": "code",
   "execution_count": 4,
   "metadata": {},
   "outputs": [],
   "source": [
    "X_train_scaled, X_validate_scaled, X_test_scaled = wrangle.min_max_scale(X_train, X_validate, X_test)"
   ]
  },
  {
   "cell_type": "code",
   "execution_count": 5,
   "metadata": {
    "scrolled": true
   },
   "outputs": [
    {
     "data": {
      "text/html": [
       "<div>\n",
       "<style scoped>\n",
       "    .dataframe tbody tr th:only-of-type {\n",
       "        vertical-align: middle;\n",
       "    }\n",
       "\n",
       "    .dataframe tbody tr th {\n",
       "        vertical-align: top;\n",
       "    }\n",
       "\n",
       "    .dataframe thead th {\n",
       "        text-align: right;\n",
       "    }\n",
       "</style>\n",
       "<table border=\"1\" class=\"dataframe\">\n",
       "  <thead>\n",
       "    <tr style=\"text-align: right;\">\n",
       "      <th></th>\n",
       "      <th>bathroomcnt</th>\n",
       "      <th>bedroomcnt</th>\n",
       "      <th>calculatedbathnbr</th>\n",
       "      <th>calculatedfinishedsquarefeet</th>\n",
       "      <th>fullbathcnt</th>\n",
       "    </tr>\n",
       "  </thead>\n",
       "  <tbody>\n",
       "    <tr>\n",
       "      <th>9313</th>\n",
       "      <td>0.25</td>\n",
       "      <td>0.166667</td>\n",
       "      <td>0.166667</td>\n",
       "      <td>0.173552</td>\n",
       "      <td>0.111111</td>\n",
       "    </tr>\n",
       "    <tr>\n",
       "      <th>1308</th>\n",
       "      <td>0.20</td>\n",
       "      <td>0.250000</td>\n",
       "      <td>0.111111</td>\n",
       "      <td>0.256174</td>\n",
       "      <td>0.111111</td>\n",
       "    </tr>\n",
       "    <tr>\n",
       "      <th>11475</th>\n",
       "      <td>0.20</td>\n",
       "      <td>0.333333</td>\n",
       "      <td>0.111111</td>\n",
       "      <td>0.358643</td>\n",
       "      <td>0.111111</td>\n",
       "    </tr>\n",
       "    <tr>\n",
       "      <th>16038</th>\n",
       "      <td>0.30</td>\n",
       "      <td>0.250000</td>\n",
       "      <td>0.222222</td>\n",
       "      <td>0.376875</td>\n",
       "      <td>0.222222</td>\n",
       "    </tr>\n",
       "    <tr>\n",
       "      <th>1198</th>\n",
       "      <td>0.10</td>\n",
       "      <td>0.083333</td>\n",
       "      <td>0.000000</td>\n",
       "      <td>0.156935</td>\n",
       "      <td>0.000000</td>\n",
       "    </tr>\n",
       "    <tr>\n",
       "      <th>...</th>\n",
       "      <td>...</td>\n",
       "      <td>...</td>\n",
       "      <td>...</td>\n",
       "      <td>...</td>\n",
       "      <td>...</td>\n",
       "    </tr>\n",
       "    <tr>\n",
       "      <th>2465</th>\n",
       "      <td>0.30</td>\n",
       "      <td>0.333333</td>\n",
       "      <td>0.222222</td>\n",
       "      <td>0.520194</td>\n",
       "      <td>0.222222</td>\n",
       "    </tr>\n",
       "    <tr>\n",
       "      <th>6773</th>\n",
       "      <td>0.20</td>\n",
       "      <td>0.166667</td>\n",
       "      <td>0.111111</td>\n",
       "      <td>0.150012</td>\n",
       "      <td>0.111111</td>\n",
       "    </tr>\n",
       "    <tr>\n",
       "      <th>5750</th>\n",
       "      <td>0.20</td>\n",
       "      <td>0.250000</td>\n",
       "      <td>0.111111</td>\n",
       "      <td>0.304408</td>\n",
       "      <td>0.111111</td>\n",
       "    </tr>\n",
       "    <tr>\n",
       "      <th>17625</th>\n",
       "      <td>0.30</td>\n",
       "      <td>0.333333</td>\n",
       "      <td>0.222222</td>\n",
       "      <td>0.538195</td>\n",
       "      <td>0.222222</td>\n",
       "    </tr>\n",
       "    <tr>\n",
       "      <th>5117</th>\n",
       "      <td>0.50</td>\n",
       "      <td>0.333333</td>\n",
       "      <td>0.444444</td>\n",
       "      <td>0.903069</td>\n",
       "      <td>0.444444</td>\n",
       "    </tr>\n",
       "  </tbody>\n",
       "</table>\n",
       "<p>11746 rows × 5 columns</p>\n",
       "</div>"
      ],
      "text/plain": [
       "       bathroomcnt  bedroomcnt  calculatedbathnbr  \\\n",
       "9313          0.25    0.166667           0.166667   \n",
       "1308          0.20    0.250000           0.111111   \n",
       "11475         0.20    0.333333           0.111111   \n",
       "16038         0.30    0.250000           0.222222   \n",
       "1198          0.10    0.083333           0.000000   \n",
       "...            ...         ...                ...   \n",
       "2465          0.30    0.333333           0.222222   \n",
       "6773          0.20    0.166667           0.111111   \n",
       "5750          0.20    0.250000           0.111111   \n",
       "17625         0.30    0.333333           0.222222   \n",
       "5117          0.50    0.333333           0.444444   \n",
       "\n",
       "       calculatedfinishedsquarefeet  fullbathcnt  \n",
       "9313                       0.173552     0.111111  \n",
       "1308                       0.256174     0.111111  \n",
       "11475                      0.358643     0.111111  \n",
       "16038                      0.376875     0.222222  \n",
       "1198                       0.156935     0.000000  \n",
       "...                             ...          ...  \n",
       "2465                       0.520194     0.222222  \n",
       "6773                       0.150012     0.111111  \n",
       "5750                       0.304408     0.111111  \n",
       "17625                      0.538195     0.222222  \n",
       "5117                       0.903069     0.444444  \n",
       "\n",
       "[11746 rows x 5 columns]"
      ]
     },
     "execution_count": 5,
     "metadata": {},
     "output_type": "execute_result"
    }
   ],
   "source": [
    "X_train_scaled"
   ]
  },
  {
   "cell_type": "code",
   "execution_count": 6,
   "metadata": {},
   "outputs": [],
   "source": [
    "from sklearn.feature_selection import SelectKBest, f_regression"
   ]
  },
  {
   "cell_type": "code",
   "execution_count": 7,
   "metadata": {},
   "outputs": [],
   "source": [
    "f_selector = SelectKBest(f_regression, k=5)"
   ]
  },
  {
   "cell_type": "code",
   "execution_count": 8,
   "metadata": {},
   "outputs": [],
   "source": [
    "f_selector = f_selector.fit(X_train_scaled, y_train.taxvaluedollarcnt)"
   ]
  },
  {
   "cell_type": "code",
   "execution_count": 9,
   "metadata": {},
   "outputs": [
    {
     "name": "stdout",
     "output_type": "stream",
     "text": [
      "(11746, 5)\n",
      "(11746, 5)\n"
     ]
    }
   ],
   "source": [
    "X_train_reduced = f_selector.transform(X_train_scaled)\n",
    "print(X_train.shape)\n",
    "print(X_train_reduced.shape)"
   ]
  },
  {
   "cell_type": "code",
   "execution_count": 10,
   "metadata": {},
   "outputs": [
    {
     "data": {
      "text/plain": [
       "array([ True,  True,  True,  True,  True])"
      ]
     },
     "execution_count": 10,
     "metadata": {},
     "output_type": "execute_result"
    }
   ],
   "source": [
    "f_support = f_selector.get_support()\n",
    "f_support"
   ]
  },
  {
   "cell_type": "code",
   "execution_count": 11,
   "metadata": {},
   "outputs": [
    {
     "data": {
      "text/plain": [
       "['bathroomcnt',\n",
       " 'bedroomcnt',\n",
       " 'calculatedbathnbr',\n",
       " 'calculatedfinishedsquarefeet',\n",
       " 'fullbathcnt']"
      ]
     },
     "execution_count": 11,
     "metadata": {},
     "output_type": "execute_result"
    }
   ],
   "source": [
    "f_feature = X_train_scaled.iloc[:, f_support].columns.tolist()\n",
    "f_feature"
   ]
  },
  {
   "cell_type": "code",
   "execution_count": 12,
   "metadata": {},
   "outputs": [
    {
     "data": {
      "text/html": [
       "<div>\n",
       "<style scoped>\n",
       "    .dataframe tbody tr th:only-of-type {\n",
       "        vertical-align: middle;\n",
       "    }\n",
       "\n",
       "    .dataframe tbody tr th {\n",
       "        vertical-align: top;\n",
       "    }\n",
       "\n",
       "    .dataframe thead th {\n",
       "        text-align: right;\n",
       "    }\n",
       "</style>\n",
       "<table border=\"1\" class=\"dataframe\">\n",
       "  <thead>\n",
       "    <tr style=\"text-align: right;\">\n",
       "      <th></th>\n",
       "      <th>bathroomcnt</th>\n",
       "      <th>bedroomcnt</th>\n",
       "      <th>calculatedbathnbr</th>\n",
       "      <th>calculatedfinishedsquarefeet</th>\n",
       "      <th>fullbathcnt</th>\n",
       "    </tr>\n",
       "  </thead>\n",
       "  <tbody>\n",
       "    <tr>\n",
       "      <th>9313</th>\n",
       "      <td>0.25</td>\n",
       "      <td>0.166667</td>\n",
       "      <td>0.166667</td>\n",
       "      <td>0.173552</td>\n",
       "      <td>0.111111</td>\n",
       "    </tr>\n",
       "    <tr>\n",
       "      <th>1308</th>\n",
       "      <td>0.20</td>\n",
       "      <td>0.250000</td>\n",
       "      <td>0.111111</td>\n",
       "      <td>0.256174</td>\n",
       "      <td>0.111111</td>\n",
       "    </tr>\n",
       "    <tr>\n",
       "      <th>11475</th>\n",
       "      <td>0.20</td>\n",
       "      <td>0.333333</td>\n",
       "      <td>0.111111</td>\n",
       "      <td>0.358643</td>\n",
       "      <td>0.111111</td>\n",
       "    </tr>\n",
       "    <tr>\n",
       "      <th>16038</th>\n",
       "      <td>0.30</td>\n",
       "      <td>0.250000</td>\n",
       "      <td>0.222222</td>\n",
       "      <td>0.376875</td>\n",
       "      <td>0.222222</td>\n",
       "    </tr>\n",
       "    <tr>\n",
       "      <th>1198</th>\n",
       "      <td>0.10</td>\n",
       "      <td>0.083333</td>\n",
       "      <td>0.000000</td>\n",
       "      <td>0.156935</td>\n",
       "      <td>0.000000</td>\n",
       "    </tr>\n",
       "  </tbody>\n",
       "</table>\n",
       "</div>"
      ],
      "text/plain": [
       "       bathroomcnt  bedroomcnt  calculatedbathnbr  \\\n",
       "9313          0.25    0.166667           0.166667   \n",
       "1308          0.20    0.250000           0.111111   \n",
       "11475         0.20    0.333333           0.111111   \n",
       "16038         0.30    0.250000           0.222222   \n",
       "1198          0.10    0.083333           0.000000   \n",
       "\n",
       "       calculatedfinishedsquarefeet  fullbathcnt  \n",
       "9313                       0.173552     0.111111  \n",
       "1308                       0.256174     0.111111  \n",
       "11475                      0.358643     0.111111  \n",
       "16038                      0.376875     0.222222  \n",
       "1198                       0.156935     0.000000  "
      ]
     },
     "execution_count": 12,
     "metadata": {},
     "output_type": "execute_result"
    }
   ],
   "source": [
    "X_reduced_scaled = X_train_scaled.iloc[:, f_support]\n",
    "X_reduced_scaled.head()"
   ]
  },
  {
   "cell_type": "code",
   "execution_count": 13,
   "metadata": {},
   "outputs": [],
   "source": [
    "from sklearn.feature_selection import RFE\n",
    "from sklearn.linear_model import LinearRegression"
   ]
  },
  {
   "cell_type": "code",
   "execution_count": 14,
   "metadata": {},
   "outputs": [],
   "source": [
    "lm = LinearRegression()\n",
    "\n",
    "rfe = RFE(lm, 5)\n",
    "\n",
    "lm_X_rfe = rfe.fit_transform(X_train,y_train) "
   ]
  },
  {
   "cell_type": "code",
   "execution_count": 15,
   "metadata": {},
   "outputs": [
    {
     "name": "stdout",
     "output_type": "stream",
     "text": [
      "selected 5 features: bathroomcnt, bedroomcnt, calculatedbathnbr, calculatedfinishedsquarefeet, fullbathcnt\n"
     ]
    }
   ],
   "source": [
    "mask = rfe.support_ \n",
    "rfe_features = X_train.columns[mask]\n",
    "print(f'selected {len(rfe_features)} features:', ', '.join(rfe_features))"
   ]
  },
  {
   "cell_type": "code",
   "execution_count": 16,
   "metadata": {},
   "outputs": [
    {
     "data": {
      "text/plain": [
       "LinearRegression()"
      ]
     },
     "execution_count": 16,
     "metadata": {},
     "output_type": "execute_result"
    }
   ],
   "source": [
    "lm.fit(lm_X_rfe, y_train)"
   ]
  },
  {
   "cell_type": "code",
   "execution_count": 17,
   "metadata": {},
   "outputs": [
    {
     "name": "stdout",
     "output_type": "stream",
     "text": [
      "Linear Model: LinearRegression()\n",
      "intercept:  [44807.1713353]\n",
      "features:  Index(['bathroomcnt', 'bedroomcnt', 'calculatedbathnbr',\n",
      "       'calculatedfinishedsquarefeet', 'fullbathcnt'],\n",
      "      dtype='object')\n",
      "coefficients:  [[ 129714.6420099  -108982.63989217  -26781.71316692     339.57650261\n",
      "   -31021.79859825]]\n"
     ]
    }
   ],
   "source": [
    "print(\"Linear Model:\", lm)\n",
    "\n",
    "print(\"intercept: \", lm.intercept_)\n",
    "\n",
    "print(\"features: \", rfe_features)\n",
    "\n",
    "print(\"coefficients: \", lm.coef_)"
   ]
  },
  {
   "cell_type": "code",
   "execution_count": 18,
   "metadata": {},
   "outputs": [
    {
     "data": {
      "text/html": [
       "<div>\n",
       "<style scoped>\n",
       "    .dataframe tbody tr th:only-of-type {\n",
       "        vertical-align: middle;\n",
       "    }\n",
       "\n",
       "    .dataframe tbody tr th {\n",
       "        vertical-align: top;\n",
       "    }\n",
       "\n",
       "    .dataframe thead th {\n",
       "        text-align: right;\n",
       "    }\n",
       "</style>\n",
       "<table border=\"1\" class=\"dataframe\">\n",
       "  <thead>\n",
       "    <tr style=\"text-align: right;\">\n",
       "      <th></th>\n",
       "      <th>taxvaluedollarcnt</th>\n",
       "      <th>yhat_lm</th>\n",
       "    </tr>\n",
       "  </thead>\n",
       "  <tbody>\n",
       "    <tr>\n",
       "      <th>9313</th>\n",
       "      <td>222641.0</td>\n",
       "      <td>379365.097212</td>\n",
       "    </tr>\n",
       "    <tr>\n",
       "      <th>1308</th>\n",
       "      <td>261391.0</td>\n",
       "      <td>340484.380834</td>\n",
       "    </tr>\n",
       "    <tr>\n",
       "      <th>11475</th>\n",
       "      <td>427992.0</td>\n",
       "      <td>382273.708102</td>\n",
       "    </tr>\n",
       "    <tr>\n",
       "      <th>16038</th>\n",
       "      <td>176043.0</td>\n",
       "      <td>589994.021946</td>\n",
       "    </tr>\n",
       "    <tr>\n",
       "      <th>1198</th>\n",
       "      <td>503743.0</td>\n",
       "      <td>340520.634249</td>\n",
       "    </tr>\n",
       "  </tbody>\n",
       "</table>\n",
       "</div>"
      ],
      "text/plain": [
       "       taxvaluedollarcnt        yhat_lm\n",
       "9313            222641.0  379365.097212\n",
       "1308            261391.0  340484.380834\n",
       "11475           427992.0  382273.708102\n",
       "16038           176043.0  589994.021946\n",
       "1198            503743.0  340520.634249"
      ]
     },
     "execution_count": 18,
     "metadata": {},
     "output_type": "execute_result"
    }
   ],
   "source": [
    "y_train['yhat_lm'] = lm.predict(lm_X_rfe)\n",
    "\n",
    "y_train.head()"
   ]
  },
  {
   "cell_type": "code",
   "execution_count": 19,
   "metadata": {},
   "outputs": [
    {
     "data": {
      "text/plain": [
       "387621.87590380665"
      ]
     },
     "execution_count": 19,
     "metadata": {},
     "output_type": "execute_result"
    }
   ],
   "source": [
    "RMSE_lm = np.sqrt(mean_squared_error(y_train.taxvaluedollarcnt, y_train.yhat_lm))\n",
    "RMSE_lm"
   ]
  },
  {
   "cell_type": "code",
   "execution_count": 20,
   "metadata": {},
   "outputs": [
    {
     "data": {
      "text/plain": [
       "0.29686157496714216"
      ]
     },
     "execution_count": 20,
     "metadata": {},
     "output_type": "execute_result"
    }
   ],
   "source": [
    "r2_lm = lm.score(lm_X_rfe, y_train.taxvaluedollarcnt)\n",
    "\n",
    "r2_lm"
   ]
  },
  {
   "cell_type": "code",
   "execution_count": 21,
   "metadata": {},
   "outputs": [
    {
     "data": {
      "text/plain": [
       "'taxvaluedollarcnt = 4.481e+04 + 1.3e+05 * bathroomcnt + -1.09e+05 * bedroomcnt'"
      ]
     },
     "execution_count": 21,
     "metadata": {},
     "output_type": "execute_result"
    }
   ],
   "source": [
    "output = \"{} = {:.4} + {:.2} * {} + {:.3} * {}\".format(\n",
    "    y_train.columns[0],\n",
    "    lm.intercept_[0],\n",
    "    lm.coef_[0][0],\n",
    "    rfe_features[0],\n",
    "    lm.coef_[0][1],\n",
    "    rfe_features[1],\n",
    ")\n",
    "output"
   ]
  },
  {
   "cell_type": "code",
   "execution_count": null,
   "metadata": {},
   "outputs": [],
   "source": []
  },
  {
   "cell_type": "code",
   "execution_count": 22,
   "metadata": {},
   "outputs": [
    {
     "name": "stdout",
     "output_type": "stream",
     "text": [
      "selected 5 features: bathroomcnt, bedroomcnt, calculatedbathnbr, calculatedfinishedsquarefeet, fullbathcnt\n"
     ]
    }
   ],
   "source": [
    "lm_X_rfe = rfe.fit_transform(X_validate,y_validate)\n",
    "mask = rfe.support_ \n",
    "rfe_features = X_validate.columns[mask]\n",
    "print(f'selected {len(rfe_features)} features:', ', '.join(rfe_features))"
   ]
  },
  {
   "cell_type": "code",
   "execution_count": 23,
   "metadata": {},
   "outputs": [
    {
     "data": {
      "text/html": [
       "<div>\n",
       "<style scoped>\n",
       "    .dataframe tbody tr th:only-of-type {\n",
       "        vertical-align: middle;\n",
       "    }\n",
       "\n",
       "    .dataframe tbody tr th {\n",
       "        vertical-align: top;\n",
       "    }\n",
       "\n",
       "    .dataframe thead th {\n",
       "        text-align: right;\n",
       "    }\n",
       "</style>\n",
       "<table border=\"1\" class=\"dataframe\">\n",
       "  <thead>\n",
       "    <tr style=\"text-align: right;\">\n",
       "      <th></th>\n",
       "      <th>taxvaluedollarcnt</th>\n",
       "      <th>yhat_lm</th>\n",
       "    </tr>\n",
       "  </thead>\n",
       "  <tbody>\n",
       "    <tr>\n",
       "      <th>7557</th>\n",
       "      <td>294232.0</td>\n",
       "      <td>170096.1</td>\n",
       "    </tr>\n",
       "    <tr>\n",
       "      <th>111</th>\n",
       "      <td>203113.0</td>\n",
       "      <td>570356.3</td>\n",
       "    </tr>\n",
       "    <tr>\n",
       "      <th>7759</th>\n",
       "      <td>592933.0</td>\n",
       "      <td>236595.4</td>\n",
       "    </tr>\n",
       "    <tr>\n",
       "      <th>10968</th>\n",
       "      <td>785799.0</td>\n",
       "      <td>1078459.2</td>\n",
       "    </tr>\n",
       "    <tr>\n",
       "      <th>14557</th>\n",
       "      <td>381637.0</td>\n",
       "      <td>286152.1</td>\n",
       "    </tr>\n",
       "  </tbody>\n",
       "</table>\n",
       "</div>"
      ],
      "text/plain": [
       "       taxvaluedollarcnt    yhat_lm\n",
       "7557            294232.0   170096.1\n",
       "111             203113.0   570356.3\n",
       "7759            592933.0   236595.4\n",
       "10968           785799.0  1078459.2\n",
       "14557           381637.0   286152.1"
      ]
     },
     "execution_count": 23,
     "metadata": {},
     "output_type": "execute_result"
    }
   ],
   "source": [
    "y_validate['yhat_lm'] = lm.predict(lm_X_rfe).round(1)\n",
    "\n",
    "y_validate.head()"
   ]
  },
  {
   "cell_type": "code",
   "execution_count": 24,
   "metadata": {},
   "outputs": [
    {
     "data": {
      "text/plain": [
       "396767.3522806633"
      ]
     },
     "execution_count": 24,
     "metadata": {},
     "output_type": "execute_result"
    }
   ],
   "source": [
    "RMSE_lm = np.sqrt(mean_squared_error(y_validate.taxvaluedollarcnt, y_validate.yhat_lm))\n",
    "RMSE_lm"
   ]
  },
  {
   "cell_type": "code",
   "execution_count": 25,
   "metadata": {},
   "outputs": [
    {
     "data": {
      "text/plain": [
       "0.28081357670979523"
      ]
     },
     "execution_count": 25,
     "metadata": {},
     "output_type": "execute_result"
    }
   ],
   "source": [
    "r2_lm = lm.score(lm_X_rfe, y_validate.taxvaluedollarcnt)\n",
    "\n",
    "r2_lm"
   ]
  },
  {
   "cell_type": "code",
   "execution_count": 26,
   "metadata": {},
   "outputs": [
    {
     "data": {
      "text/plain": [
       "'taxvaluedollarcnt = 4.481e+04 + 1.3e+05 * bathroomcnt + -1.09e+05 * bedroomcnt'"
      ]
     },
     "execution_count": 26,
     "metadata": {},
     "output_type": "execute_result"
    }
   ],
   "source": [
    "output = \"{} = {:.4} + {:.2} * {} + {:.3} * {}\".format(\n",
    "    y_train.columns[0],\n",
    "    lm.intercept_[0],\n",
    "    lm.coef_[0][0],\n",
    "    rfe_features[0],\n",
    "    lm.coef_[0][1],\n",
    "    rfe_features[1],\n",
    ")\n",
    "output"
   ]
  },
  {
   "cell_type": "code",
   "execution_count": 27,
   "metadata": {},
   "outputs": [
    {
     "name": "stdout",
     "output_type": "stream",
     "text": [
      "462262.2248865707\n",
      "-2.220446049250313e-16\n"
     ]
    },
    {
     "data": {
      "text/plain": [
       "<matplotlib.collections.PathCollection at 0x7f96fee0d6d0>"
      ]
     },
     "execution_count": 27,
     "metadata": {},
     "output_type": "execute_result"
    },
    {
     "data": {
      "image/png": "[encoded data removed]",
      "text/plain": [
       "<Figure size 432x288 with 1 Axes>"
      ]
     },
     "metadata": {
      "needs_background": "light"
     },
     "output_type": "display_data"
    }
   ],
   "source": [
    "y_train['yhat_baseline'] = df['taxvaluedollarcnt'].mean()\n",
    "\n",
    "# compute the RMSE\n",
    "RMSE_bl = np.sqrt(mean_squared_error(y_train.taxvaluedollarcnt, y_train.yhat_baseline))\n",
    "print(RMSE_bl)\n",
    "\n",
    "# no need to compute R-2 because it will be a 0! But we will demonstrate here:\n",
    "evs = explained_variance_score(y_train.taxvaluedollarcnt, y_train.yhat_baseline)\n",
    "print(evs)\n",
    "plt.scatter(y_train.taxvaluedollarcnt, y_train.yhat_lm, label='Linear Regression Model Predictions', marker='o')\n",
    "plt.scatter(y_train.taxvaluedollarcnt, y_train.yhat_baseline, label='Baseline Predicitions', marker='o')"
   ]
  },
  {
   "cell_type": "code",
   "execution_count": null,
   "metadata": {},
   "outputs": [],
   "source": []
  },
  {
   "cell_type": "code",
   "execution_count": 28,
   "metadata": {},
   "outputs": [
    {
     "data": {
      "text/plain": [
       "['1',\n",
       " 'x0',\n",
       " 'x1',\n",
       " 'x2',\n",
       " 'x3',\n",
       " 'x4',\n",
       " 'x0^2',\n",
       " 'x0 x1',\n",
       " 'x0 x2',\n",
       " 'x0 x3',\n",
       " 'x0 x4',\n",
       " 'x1^2',\n",
       " 'x1 x2',\n",
       " 'x1 x3',\n",
       " 'x1 x4',\n",
       " 'x2^2',\n",
       " 'x2 x3',\n",
       " 'x2 x4',\n",
       " 'x3^2',\n",
       " 'x3 x4',\n",
       " 'x4^2',\n",
       " 'x0^3',\n",
       " 'x0^2 x1',\n",
       " 'x0^2 x2',\n",
       " 'x0^2 x3',\n",
       " 'x0^2 x4',\n",
       " 'x0 x1^2',\n",
       " 'x0 x1 x2',\n",
       " 'x0 x1 x3',\n",
       " 'x0 x1 x4',\n",
       " 'x0 x2^2',\n",
       " 'x0 x2 x3',\n",
       " 'x0 x2 x4',\n",
       " 'x0 x3^2',\n",
       " 'x0 x3 x4',\n",
       " 'x0 x4^2',\n",
       " 'x1^3',\n",
       " 'x1^2 x2',\n",
       " 'x1^2 x3',\n",
       " 'x1^2 x4',\n",
       " 'x1 x2^2',\n",
       " 'x1 x2 x3',\n",
       " 'x1 x2 x4',\n",
       " 'x1 x3^2',\n",
       " 'x1 x3 x4',\n",
       " 'x1 x4^2',\n",
       " 'x2^3',\n",
       " 'x2^2 x3',\n",
       " 'x2^2 x4',\n",
       " 'x2 x3^2',\n",
       " 'x2 x3 x4',\n",
       " 'x2 x4^2',\n",
       " 'x3^3',\n",
       " 'x3^2 x4',\n",
       " 'x3 x4^2',\n",
       " 'x4^3',\n",
       " 'x0^4',\n",
       " 'x0^3 x1',\n",
       " 'x0^3 x2',\n",
       " 'x0^3 x3',\n",
       " 'x0^3 x4',\n",
       " 'x0^2 x1^2',\n",
       " 'x0^2 x1 x2',\n",
       " 'x0^2 x1 x3',\n",
       " 'x0^2 x1 x4',\n",
       " 'x0^2 x2^2',\n",
       " 'x0^2 x2 x3',\n",
       " 'x0^2 x2 x4',\n",
       " 'x0^2 x3^2',\n",
       " 'x0^2 x3 x4',\n",
       " 'x0^2 x4^2',\n",
       " 'x0 x1^3',\n",
       " 'x0 x1^2 x2',\n",
       " 'x0 x1^2 x3',\n",
       " 'x0 x1^2 x4',\n",
       " 'x0 x1 x2^2',\n",
       " 'x0 x1 x2 x3',\n",
       " 'x0 x1 x2 x4',\n",
       " 'x0 x1 x3^2',\n",
       " 'x0 x1 x3 x4',\n",
       " 'x0 x1 x4^2',\n",
       " 'x0 x2^3',\n",
       " 'x0 x2^2 x3',\n",
       " 'x0 x2^2 x4',\n",
       " 'x0 x2 x3^2',\n",
       " 'x0 x2 x3 x4',\n",
       " 'x0 x2 x4^2',\n",
       " 'x0 x3^3',\n",
       " 'x0 x3^2 x4',\n",
       " 'x0 x3 x4^2',\n",
       " 'x0 x4^3',\n",
       " 'x1^4',\n",
       " 'x1^3 x2',\n",
       " 'x1^3 x3',\n",
       " 'x1^3 x4',\n",
       " 'x1^2 x2^2',\n",
       " 'x1^2 x2 x3',\n",
       " 'x1^2 x2 x4',\n",
       " 'x1^2 x3^2',\n",
       " 'x1^2 x3 x4',\n",
       " 'x1^2 x4^2',\n",
       " 'x1 x2^3',\n",
       " 'x1 x2^2 x3',\n",
       " 'x1 x2^2 x4',\n",
       " 'x1 x2 x3^2',\n",
       " 'x1 x2 x3 x4',\n",
       " 'x1 x2 x4^2',\n",
       " 'x1 x3^3',\n",
       " 'x1 x3^2 x4',\n",
       " 'x1 x3 x4^2',\n",
       " 'x1 x4^3',\n",
       " 'x2^4',\n",
       " 'x2^3 x3',\n",
       " 'x2^3 x4',\n",
       " 'x2^2 x3^2',\n",
       " 'x2^2 x3 x4',\n",
       " 'x2^2 x4^2',\n",
       " 'x2 x3^3',\n",
       " 'x2 x3^2 x4',\n",
       " 'x2 x3 x4^2',\n",
       " 'x2 x4^3',\n",
       " 'x3^4',\n",
       " 'x3^3 x4',\n",
       " 'x3^2 x4^2',\n",
       " 'x3 x4^3',\n",
       " 'x4^4']"
      ]
     },
     "execution_count": 28,
     "metadata": {},
     "output_type": "execute_result"
    }
   ],
   "source": [
    "from sklearn.preprocessing import PolynomialFeatures\n",
    "\n",
    "poly_X_rfe = rfe.fit_transform(X_train,y_train)\n",
    "\n",
    "poly = PolynomialFeatures(degree=4)\n",
    "X_poly = poly.fit_transform(poly_X_rfe)\n",
    "\n",
    "poly.get_feature_names()"
   ]
  },
  {
   "cell_type": "code",
   "execution_count": 29,
   "metadata": {},
   "outputs": [],
   "source": [
    "lm_poly = LinearRegression()\n",
    "lm_poly.fit(X_poly, y_train.taxvaluedollarcnt)\n",
    "y_train['yhat_poly_1'] = lm_poly.predict(X_poly)"
   ]
  },
  {
   "cell_type": "code",
   "execution_count": 30,
   "metadata": {},
   "outputs": [
    {
     "data": {
      "text/plain": [
       "386753.4785654679"
      ]
     },
     "execution_count": 30,
     "metadata": {},
     "output_type": "execute_result"
    }
   ],
   "source": [
    "RMSE_poly = np.sqrt(mean_squared_error(y_train.taxvaluedollarcnt, y_train.yhat_poly_1))\n",
    "RMSE_poly"
   ]
  },
  {
   "cell_type": "code",
   "execution_count": 31,
   "metadata": {},
   "outputs": [
    {
     "data": {
      "text/html": [
       "<div>\n",
       "<style scoped>\n",
       "    .dataframe tbody tr th:only-of-type {\n",
       "        vertical-align: middle;\n",
       "    }\n",
       "\n",
       "    .dataframe tbody tr th {\n",
       "        vertical-align: top;\n",
       "    }\n",
       "\n",
       "    .dataframe thead th {\n",
       "        text-align: right;\n",
       "    }\n",
       "</style>\n",
       "<table border=\"1\" class=\"dataframe\">\n",
       "  <thead>\n",
       "    <tr style=\"text-align: right;\">\n",
       "      <th></th>\n",
       "      <th>taxvaluedollarcnt</th>\n",
       "      <th>yhat_lm</th>\n",
       "      <th>yhat_baseline</th>\n",
       "      <th>yhat_poly_1</th>\n",
       "    </tr>\n",
       "  </thead>\n",
       "  <tbody>\n",
       "    <tr>\n",
       "      <th>9313</th>\n",
       "      <td>222641.0</td>\n",
       "      <td>379365.097212</td>\n",
       "      <td>467226.149259</td>\n",
       "      <td>336428.220108</td>\n",
       "    </tr>\n",
       "    <tr>\n",
       "      <th>1308</th>\n",
       "      <td>261391.0</td>\n",
       "      <td>340484.380834</td>\n",
       "      <td>467226.149259</td>\n",
       "      <td>367696.962514</td>\n",
       "    </tr>\n",
       "    <tr>\n",
       "      <th>11475</th>\n",
       "      <td>427992.0</td>\n",
       "      <td>382273.708102</td>\n",
       "      <td>467226.149259</td>\n",
       "      <td>428068.817825</td>\n",
       "    </tr>\n",
       "    <tr>\n",
       "      <th>16038</th>\n",
       "      <td>176043.0</td>\n",
       "      <td>589994.021946</td>\n",
       "      <td>467226.149259</td>\n",
       "      <td>567505.674529</td>\n",
       "    </tr>\n",
       "    <tr>\n",
       "      <th>1198</th>\n",
       "      <td>503743.0</td>\n",
       "      <td>340520.634249</td>\n",
       "      <td>467226.149259</td>\n",
       "      <td>208487.975253</td>\n",
       "    </tr>\n",
       "  </tbody>\n",
       "</table>\n",
       "</div>"
      ],
      "text/plain": [
       "       taxvaluedollarcnt        yhat_lm  yhat_baseline    yhat_poly_1\n",
       "9313            222641.0  379365.097212  467226.149259  336428.220108\n",
       "1308            261391.0  340484.380834  467226.149259  367696.962514\n",
       "11475           427992.0  382273.708102  467226.149259  428068.817825\n",
       "16038           176043.0  589994.021946  467226.149259  567505.674529\n",
       "1198            503743.0  340520.634249  467226.149259  208487.975253"
      ]
     },
     "execution_count": 31,
     "metadata": {},
     "output_type": "execute_result"
    }
   ],
   "source": [
    "y_train.head()"
   ]
  },
  {
   "cell_type": "code",
   "execution_count": 32,
   "metadata": {},
   "outputs": [
    {
     "data": {
      "text/plain": [
       "<matplotlib.collections.PathCollection at 0x7f96fb908940>"
      ]
     },
     "execution_count": 32,
     "metadata": {},
     "output_type": "execute_result"
    },
    {
     "data": {
      "image/png": "[encoded data removed]",
      "text/plain": [
       "<Figure size 648x648 with 1 Axes>"
      ]
     },
     "metadata": {
      "needs_background": "light"
     },
     "output_type": "display_data"
    }
   ],
   "source": [
    "plt.figure(figsize=(9, 9))\n",
    "\n",
    "plt.scatter(y_train.taxvaluedollarcnt, y_train.yhat_lm, label='Linear Regression Model Predictions', marker='o')\n",
    "plt.scatter(y_train.taxvaluedollarcnt, y_train.yhat_poly_1, label='Polynomial Regression Model Predictions', marker='o')\n",
    "plt.scatter(y_train.taxvaluedollarcnt, y_train.yhat_baseline, label='Baseline Predicitions', marker='o')"
   ]
  },
  {
   "cell_type": "code",
   "execution_count": 33,
   "metadata": {},
   "outputs": [],
   "source": [
    "poly = PolynomialFeatures(degree=3)\n",
    "X_poly = poly.fit_transform(poly_X_rfe)"
   ]
  },
  {
   "cell_type": "code",
   "execution_count": 34,
   "metadata": {},
   "outputs": [],
   "source": [
    "lm_poly = LinearRegression()\n",
    "lm_poly.fit(X_poly, y_train.taxvaluedollarcnt)\n",
    "y_train['yhat_poly_2'] = lm_poly.predict(X_poly)"
   ]
  },
  {
   "cell_type": "code",
   "execution_count": 35,
   "metadata": {},
   "outputs": [
    {
     "data": {
      "text/plain": [
       "378429.68233185686"
      ]
     },
     "execution_count": 35,
     "metadata": {},
     "output_type": "execute_result"
    }
   ],
   "source": [
    "RMSE_poly = np.sqrt(mean_squared_error(y_train.taxvaluedollarcnt, y_train.yhat_poly_2))\n",
    "RMSE_poly"
   ]
  },
  {
   "cell_type": "code",
   "execution_count": 36,
   "metadata": {},
   "outputs": [
    {
     "data": {
      "text/html": [
       "<div>\n",
       "<style scoped>\n",
       "    .dataframe tbody tr th:only-of-type {\n",
       "        vertical-align: middle;\n",
       "    }\n",
       "\n",
       "    .dataframe tbody tr th {\n",
       "        vertical-align: top;\n",
       "    }\n",
       "\n",
       "    .dataframe thead th {\n",
       "        text-align: right;\n",
       "    }\n",
       "</style>\n",
       "<table border=\"1\" class=\"dataframe\">\n",
       "  <thead>\n",
       "    <tr style=\"text-align: right;\">\n",
       "      <th></th>\n",
       "      <th>taxvaluedollarcnt</th>\n",
       "      <th>yhat_lm</th>\n",
       "      <th>yhat_baseline</th>\n",
       "      <th>yhat_poly_1</th>\n",
       "      <th>yhat_poly_2</th>\n",
       "    </tr>\n",
       "  </thead>\n",
       "  <tbody>\n",
       "    <tr>\n",
       "      <th>9313</th>\n",
       "      <td>222641.0</td>\n",
       "      <td>379365.097212</td>\n",
       "      <td>467226.149259</td>\n",
       "      <td>336428.220108</td>\n",
       "      <td>303945.664603</td>\n",
       "    </tr>\n",
       "    <tr>\n",
       "      <th>1308</th>\n",
       "      <td>261391.0</td>\n",
       "      <td>340484.380834</td>\n",
       "      <td>467226.149259</td>\n",
       "      <td>367696.962514</td>\n",
       "      <td>333908.039083</td>\n",
       "    </tr>\n",
       "    <tr>\n",
       "      <th>11475</th>\n",
       "      <td>427992.0</td>\n",
       "      <td>382273.708102</td>\n",
       "      <td>467226.149259</td>\n",
       "      <td>428068.817825</td>\n",
       "      <td>370336.042247</td>\n",
       "    </tr>\n",
       "    <tr>\n",
       "      <th>16038</th>\n",
       "      <td>176043.0</td>\n",
       "      <td>589994.021946</td>\n",
       "      <td>467226.149259</td>\n",
       "      <td>567505.674529</td>\n",
       "      <td>578380.619043</td>\n",
       "    </tr>\n",
       "    <tr>\n",
       "      <th>1198</th>\n",
       "      <td>503743.0</td>\n",
       "      <td>340520.634249</td>\n",
       "      <td>467226.149259</td>\n",
       "      <td>208487.975253</td>\n",
       "      <td>313459.856424</td>\n",
       "    </tr>\n",
       "  </tbody>\n",
       "</table>\n",
       "</div>"
      ],
      "text/plain": [
       "       taxvaluedollarcnt        yhat_lm  yhat_baseline    yhat_poly_1  \\\n",
       "9313            222641.0  379365.097212  467226.149259  336428.220108   \n",
       "1308            261391.0  340484.380834  467226.149259  367696.962514   \n",
       "11475           427992.0  382273.708102  467226.149259  428068.817825   \n",
       "16038           176043.0  589994.021946  467226.149259  567505.674529   \n",
       "1198            503743.0  340520.634249  467226.149259  208487.975253   \n",
       "\n",
       "         yhat_poly_2  \n",
       "9313   303945.664603  \n",
       "1308   333908.039083  \n",
       "11475  370336.042247  \n",
       "16038  578380.619043  \n",
       "1198   313459.856424  "
      ]
     },
     "execution_count": 36,
     "metadata": {},
     "output_type": "execute_result"
    }
   ],
   "source": [
    "y_train.head()"
   ]
  },
  {
   "cell_type": "code",
   "execution_count": 37,
   "metadata": {},
   "outputs": [
    {
     "data": {
      "text/plain": [
       "380409.4558204644"
      ]
     },
     "execution_count": 37,
     "metadata": {},
     "output_type": "execute_result"
    }
   ],
   "source": [
    "poly = PolynomialFeatures(degree=2)\n",
    "X_poly = poly.fit_transform(poly_X_rfe)\n",
    "lm_poly = LinearRegression()\n",
    "lm_poly.fit(X_poly, y_train.taxvaluedollarcnt)\n",
    "y_train['yhat_poly_3'] = lm_poly.predict(X_poly)\n",
    "RMSE_poly = np.sqrt(mean_squared_error(y_train.taxvaluedollarcnt, y_train.yhat_poly_3))\n",
    "RMSE_poly"
   ]
  },
  {
   "cell_type": "code",
   "execution_count": 38,
   "metadata": {},
   "outputs": [
    {
     "data": {
      "text/html": [
       "<div>\n",
       "<style scoped>\n",
       "    .dataframe tbody tr th:only-of-type {\n",
       "        vertical-align: middle;\n",
       "    }\n",
       "\n",
       "    .dataframe tbody tr th {\n",
       "        vertical-align: top;\n",
       "    }\n",
       "\n",
       "    .dataframe thead th {\n",
       "        text-align: right;\n",
       "    }\n",
       "</style>\n",
       "<table border=\"1\" class=\"dataframe\">\n",
       "  <thead>\n",
       "    <tr style=\"text-align: right;\">\n",
       "      <th></th>\n",
       "      <th>taxvaluedollarcnt</th>\n",
       "      <th>yhat_lm</th>\n",
       "      <th>yhat_baseline</th>\n",
       "      <th>yhat_poly_1</th>\n",
       "      <th>yhat_poly_2</th>\n",
       "      <th>yhat_poly_3</th>\n",
       "    </tr>\n",
       "  </thead>\n",
       "  <tbody>\n",
       "    <tr>\n",
       "      <th>9313</th>\n",
       "      <td>222641.0</td>\n",
       "      <td>379365.097212</td>\n",
       "      <td>467226.149259</td>\n",
       "      <td>336428.220108</td>\n",
       "      <td>303945.664603</td>\n",
       "      <td>304556.562718</td>\n",
       "    </tr>\n",
       "    <tr>\n",
       "      <th>1308</th>\n",
       "      <td>261391.0</td>\n",
       "      <td>340484.380834</td>\n",
       "      <td>467226.149259</td>\n",
       "      <td>367696.962514</td>\n",
       "      <td>333908.039083</td>\n",
       "      <td>335456.387157</td>\n",
       "    </tr>\n",
       "    <tr>\n",
       "      <th>11475</th>\n",
       "      <td>427992.0</td>\n",
       "      <td>382273.708102</td>\n",
       "      <td>467226.149259</td>\n",
       "      <td>428068.817825</td>\n",
       "      <td>370336.042247</td>\n",
       "      <td>382108.035361</td>\n",
       "    </tr>\n",
       "    <tr>\n",
       "      <th>16038</th>\n",
       "      <td>176043.0</td>\n",
       "      <td>589994.021946</td>\n",
       "      <td>467226.149259</td>\n",
       "      <td>567505.674529</td>\n",
       "      <td>578380.619043</td>\n",
       "      <td>560286.528744</td>\n",
       "    </tr>\n",
       "    <tr>\n",
       "      <th>1198</th>\n",
       "      <td>503743.0</td>\n",
       "      <td>340520.634249</td>\n",
       "      <td>467226.149259</td>\n",
       "      <td>208487.975253</td>\n",
       "      <td>313459.856424</td>\n",
       "      <td>306672.033139</td>\n",
       "    </tr>\n",
       "  </tbody>\n",
       "</table>\n",
       "</div>"
      ],
      "text/plain": [
       "       taxvaluedollarcnt        yhat_lm  yhat_baseline    yhat_poly_1  \\\n",
       "9313            222641.0  379365.097212  467226.149259  336428.220108   \n",
       "1308            261391.0  340484.380834  467226.149259  367696.962514   \n",
       "11475           427992.0  382273.708102  467226.149259  428068.817825   \n",
       "16038           176043.0  589994.021946  467226.149259  567505.674529   \n",
       "1198            503743.0  340520.634249  467226.149259  208487.975253   \n",
       "\n",
       "         yhat_poly_2    yhat_poly_3  \n",
       "9313   303945.664603  304556.562718  \n",
       "1308   333908.039083  335456.387157  \n",
       "11475  370336.042247  382108.035361  \n",
       "16038  578380.619043  560286.528744  \n",
       "1198   313459.856424  306672.033139  "
      ]
     },
     "execution_count": 38,
     "metadata": {},
     "output_type": "execute_result"
    }
   ],
   "source": [
    "y_train.head()"
   ]
  },
  {
   "cell_type": "code",
   "execution_count": 59,
   "metadata": {},
   "outputs": [
    {
     "data": {
      "text/plain": [
       "-1286457.5597519297"
      ]
     },
     "execution_count": 59,
     "metadata": {},
     "output_type": "execute_result"
    }
   ],
   "source": [
    "y_train['base_perc_error'] = ((y_train.taxvaluedollarcnt - y_train.yhat_baseline) / y_train.taxvaluedollarcnt) * 100\n",
    "y_train.base_perc_error.sum()"
   ]
  },
  {
   "cell_type": "code",
   "execution_count": 39,
   "metadata": {},
   "outputs": [],
   "source": [
    "val_poly_X_rfe = rfe.fit_transform(X_validate,y_validate) "
   ]
  },
  {
   "cell_type": "code",
   "execution_count": 40,
   "metadata": {},
   "outputs": [
    {
     "data": {
      "text/plain": [
       "['1',\n",
       " 'x0',\n",
       " 'x1',\n",
       " 'x2',\n",
       " 'x3',\n",
       " 'x4',\n",
       " 'x0^2',\n",
       " 'x0 x1',\n",
       " 'x0 x2',\n",
       " 'x0 x3',\n",
       " 'x0 x4',\n",
       " 'x1^2',\n",
       " 'x1 x2',\n",
       " 'x1 x3',\n",
       " 'x1 x4',\n",
       " 'x2^2',\n",
       " 'x2 x3',\n",
       " 'x2 x4',\n",
       " 'x3^2',\n",
       " 'x3 x4',\n",
       " 'x4^2',\n",
       " 'x0^3',\n",
       " 'x0^2 x1',\n",
       " 'x0^2 x2',\n",
       " 'x0^2 x3',\n",
       " 'x0^2 x4',\n",
       " 'x0 x1^2',\n",
       " 'x0 x1 x2',\n",
       " 'x0 x1 x3',\n",
       " 'x0 x1 x4',\n",
       " 'x0 x2^2',\n",
       " 'x0 x2 x3',\n",
       " 'x0 x2 x4',\n",
       " 'x0 x3^2',\n",
       " 'x0 x3 x4',\n",
       " 'x0 x4^2',\n",
       " 'x1^3',\n",
       " 'x1^2 x2',\n",
       " 'x1^2 x3',\n",
       " 'x1^2 x4',\n",
       " 'x1 x2^2',\n",
       " 'x1 x2 x3',\n",
       " 'x1 x2 x4',\n",
       " 'x1 x3^2',\n",
       " 'x1 x3 x4',\n",
       " 'x1 x4^2',\n",
       " 'x2^3',\n",
       " 'x2^2 x3',\n",
       " 'x2^2 x4',\n",
       " 'x2 x3^2',\n",
       " 'x2 x3 x4',\n",
       " 'x2 x4^2',\n",
       " 'x3^3',\n",
       " 'x3^2 x4',\n",
       " 'x3 x4^2',\n",
       " 'x4^3',\n",
       " 'x0^4',\n",
       " 'x0^3 x1',\n",
       " 'x0^3 x2',\n",
       " 'x0^3 x3',\n",
       " 'x0^3 x4',\n",
       " 'x0^2 x1^2',\n",
       " 'x0^2 x1 x2',\n",
       " 'x0^2 x1 x3',\n",
       " 'x0^2 x1 x4',\n",
       " 'x0^2 x2^2',\n",
       " 'x0^2 x2 x3',\n",
       " 'x0^2 x2 x4',\n",
       " 'x0^2 x3^2',\n",
       " 'x0^2 x3 x4',\n",
       " 'x0^2 x4^2',\n",
       " 'x0 x1^3',\n",
       " 'x0 x1^2 x2',\n",
       " 'x0 x1^2 x3',\n",
       " 'x0 x1^2 x4',\n",
       " 'x0 x1 x2^2',\n",
       " 'x0 x1 x2 x3',\n",
       " 'x0 x1 x2 x4',\n",
       " 'x0 x1 x3^2',\n",
       " 'x0 x1 x3 x4',\n",
       " 'x0 x1 x4^2',\n",
       " 'x0 x2^3',\n",
       " 'x0 x2^2 x3',\n",
       " 'x0 x2^2 x4',\n",
       " 'x0 x2 x3^2',\n",
       " 'x0 x2 x3 x4',\n",
       " 'x0 x2 x4^2',\n",
       " 'x0 x3^3',\n",
       " 'x0 x3^2 x4',\n",
       " 'x0 x3 x4^2',\n",
       " 'x0 x4^3',\n",
       " 'x1^4',\n",
       " 'x1^3 x2',\n",
       " 'x1^3 x3',\n",
       " 'x1^3 x4',\n",
       " 'x1^2 x2^2',\n",
       " 'x1^2 x2 x3',\n",
       " 'x1^2 x2 x4',\n",
       " 'x1^2 x3^2',\n",
       " 'x1^2 x3 x4',\n",
       " 'x1^2 x4^2',\n",
       " 'x1 x2^3',\n",
       " 'x1 x2^2 x3',\n",
       " 'x1 x2^2 x4',\n",
       " 'x1 x2 x3^2',\n",
       " 'x1 x2 x3 x4',\n",
       " 'x1 x2 x4^2',\n",
       " 'x1 x3^3',\n",
       " 'x1 x3^2 x4',\n",
       " 'x1 x3 x4^2',\n",
       " 'x1 x4^3',\n",
       " 'x2^4',\n",
       " 'x2^3 x3',\n",
       " 'x2^3 x4',\n",
       " 'x2^2 x3^2',\n",
       " 'x2^2 x3 x4',\n",
       " 'x2^2 x4^2',\n",
       " 'x2 x3^3',\n",
       " 'x2 x3^2 x4',\n",
       " 'x2 x3 x4^2',\n",
       " 'x2 x4^3',\n",
       " 'x3^4',\n",
       " 'x3^3 x4',\n",
       " 'x3^2 x4^2',\n",
       " 'x3 x4^3',\n",
       " 'x4^4']"
      ]
     },
     "execution_count": 40,
     "metadata": {},
     "output_type": "execute_result"
    }
   ],
   "source": [
    "poly = PolynomialFeatures(degree=4)\n",
    "X_poly = poly.fit_transform(val_poly_X_rfe)\n",
    "\n",
    "poly.get_feature_names()"
   ]
  },
  {
   "cell_type": "code",
   "execution_count": 41,
   "metadata": {},
   "outputs": [],
   "source": [
    "lm_poly = LinearRegression()\n",
    "lm_poly.fit(X_poly, y_validate.taxvaluedollarcnt)\n",
    "y_validate['yhat_poly'] = lm_poly.predict(X_poly).round(1)"
   ]
  },
  {
   "cell_type": "code",
   "execution_count": 42,
   "metadata": {},
   "outputs": [
    {
     "data": {
      "text/plain": [
       "382637.3800996755"
      ]
     },
     "execution_count": 42,
     "metadata": {},
     "output_type": "execute_result"
    }
   ],
   "source": [
    "RMSE_poly = np.sqrt(mean_squared_error(y_validate.taxvaluedollarcnt, y_validate.yhat_poly))\n",
    "RMSE_poly"
   ]
  },
  {
   "cell_type": "code",
   "execution_count": 43,
   "metadata": {},
   "outputs": [
    {
     "data": {
      "text/html": [
       "<div>\n",
       "<style scoped>\n",
       "    .dataframe tbody tr th:only-of-type {\n",
       "        vertical-align: middle;\n",
       "    }\n",
       "\n",
       "    .dataframe tbody tr th {\n",
       "        vertical-align: top;\n",
       "    }\n",
       "\n",
       "    .dataframe thead th {\n",
       "        text-align: right;\n",
       "    }\n",
       "</style>\n",
       "<table border=\"1\" class=\"dataframe\">\n",
       "  <thead>\n",
       "    <tr style=\"text-align: right;\">\n",
       "      <th></th>\n",
       "      <th>taxvaluedollarcnt</th>\n",
       "      <th>yhat_lm</th>\n",
       "      <th>yhat_poly</th>\n",
       "    </tr>\n",
       "  </thead>\n",
       "  <tbody>\n",
       "    <tr>\n",
       "      <th>7557</th>\n",
       "      <td>294232.0</td>\n",
       "      <td>170096.1</td>\n",
       "      <td>284167.8</td>\n",
       "    </tr>\n",
       "    <tr>\n",
       "      <th>111</th>\n",
       "      <td>203113.0</td>\n",
       "      <td>570356.3</td>\n",
       "      <td>566428.2</td>\n",
       "    </tr>\n",
       "    <tr>\n",
       "      <th>7759</th>\n",
       "      <td>592933.0</td>\n",
       "      <td>236595.4</td>\n",
       "      <td>287559.1</td>\n",
       "    </tr>\n",
       "    <tr>\n",
       "      <th>10968</th>\n",
       "      <td>785799.0</td>\n",
       "      <td>1078459.2</td>\n",
       "      <td>1182784.4</td>\n",
       "    </tr>\n",
       "    <tr>\n",
       "      <th>14557</th>\n",
       "      <td>381637.0</td>\n",
       "      <td>286152.1</td>\n",
       "      <td>285552.2</td>\n",
       "    </tr>\n",
       "  </tbody>\n",
       "</table>\n",
       "</div>"
      ],
      "text/plain": [
       "       taxvaluedollarcnt    yhat_lm  yhat_poly\n",
       "7557            294232.0   170096.1   284167.8\n",
       "111             203113.0   570356.3   566428.2\n",
       "7759            592933.0   236595.4   287559.1\n",
       "10968           785799.0  1078459.2  1182784.4\n",
       "14557           381637.0   286152.1   285552.2"
      ]
     },
     "execution_count": 43,
     "metadata": {},
     "output_type": "execute_result"
    }
   ],
   "source": [
    "y_validate.head()"
   ]
  },
  {
   "cell_type": "code",
   "execution_count": 44,
   "metadata": {
    "scrolled": true
   },
   "outputs": [
    {
     "data": {
      "text/plain": [
       "<matplotlib.collections.PathCollection at 0x7f96fbb4c220>"
      ]
     },
     "execution_count": 44,
     "metadata": {},
     "output_type": "execute_result"
    },
    {
     "data": {
      "image/png": "[encoded data removed]",
      "text/plain": [
       "<Figure size 432x288 with 1 Axes>"
      ]
     },
     "metadata": {
      "needs_background": "light"
     },
     "output_type": "display_data"
    }
   ],
   "source": [
    "plt.scatter(y_validate.taxvaluedollarcnt, y_validate.yhat_poly, label='Polynomial Regression Model Predictions', marker='o')\n",
    "plt.scatter(y_train.taxvaluedollarcnt, y_train.yhat_baseline, label='Baseline Predicitions', marker='o')"
   ]
  },
  {
   "cell_type": "code",
   "execution_count": 45,
   "metadata": {},
   "outputs": [],
   "source": [
    "test_poly_X_rfe = rfe.fit_transform(X_test,y_test) "
   ]
  },
  {
   "cell_type": "code",
   "execution_count": 46,
   "metadata": {},
   "outputs": [
    {
     "data": {
      "text/plain": [
       "['1',\n",
       " 'x0',\n",
       " 'x1',\n",
       " 'x2',\n",
       " 'x3',\n",
       " 'x4',\n",
       " 'x0^2',\n",
       " 'x0 x1',\n",
       " 'x0 x2',\n",
       " 'x0 x3',\n",
       " 'x0 x4',\n",
       " 'x1^2',\n",
       " 'x1 x2',\n",
       " 'x1 x3',\n",
       " 'x1 x4',\n",
       " 'x2^2',\n",
       " 'x2 x3',\n",
       " 'x2 x4',\n",
       " 'x3^2',\n",
       " 'x3 x4',\n",
       " 'x4^2',\n",
       " 'x0^3',\n",
       " 'x0^2 x1',\n",
       " 'x0^2 x2',\n",
       " 'x0^2 x3',\n",
       " 'x0^2 x4',\n",
       " 'x0 x1^2',\n",
       " 'x0 x1 x2',\n",
       " 'x0 x1 x3',\n",
       " 'x0 x1 x4',\n",
       " 'x0 x2^2',\n",
       " 'x0 x2 x3',\n",
       " 'x0 x2 x4',\n",
       " 'x0 x3^2',\n",
       " 'x0 x3 x4',\n",
       " 'x0 x4^2',\n",
       " 'x1^3',\n",
       " 'x1^2 x2',\n",
       " 'x1^2 x3',\n",
       " 'x1^2 x4',\n",
       " 'x1 x2^2',\n",
       " 'x1 x2 x3',\n",
       " 'x1 x2 x4',\n",
       " 'x1 x3^2',\n",
       " 'x1 x3 x4',\n",
       " 'x1 x4^2',\n",
       " 'x2^3',\n",
       " 'x2^2 x3',\n",
       " 'x2^2 x4',\n",
       " 'x2 x3^2',\n",
       " 'x2 x3 x4',\n",
       " 'x2 x4^2',\n",
       " 'x3^3',\n",
       " 'x3^2 x4',\n",
       " 'x3 x4^2',\n",
       " 'x4^3',\n",
       " 'x0^4',\n",
       " 'x0^3 x1',\n",
       " 'x0^3 x2',\n",
       " 'x0^3 x3',\n",
       " 'x0^3 x4',\n",
       " 'x0^2 x1^2',\n",
       " 'x0^2 x1 x2',\n",
       " 'x0^2 x1 x3',\n",
       " 'x0^2 x1 x4',\n",
       " 'x0^2 x2^2',\n",
       " 'x0^2 x2 x3',\n",
       " 'x0^2 x2 x4',\n",
       " 'x0^2 x3^2',\n",
       " 'x0^2 x3 x4',\n",
       " 'x0^2 x4^2',\n",
       " 'x0 x1^3',\n",
       " 'x0 x1^2 x2',\n",
       " 'x0 x1^2 x3',\n",
       " 'x0 x1^2 x4',\n",
       " 'x0 x1 x2^2',\n",
       " 'x0 x1 x2 x3',\n",
       " 'x0 x1 x2 x4',\n",
       " 'x0 x1 x3^2',\n",
       " 'x0 x1 x3 x4',\n",
       " 'x0 x1 x4^2',\n",
       " 'x0 x2^3',\n",
       " 'x0 x2^2 x3',\n",
       " 'x0 x2^2 x4',\n",
       " 'x0 x2 x3^2',\n",
       " 'x0 x2 x3 x4',\n",
       " 'x0 x2 x4^2',\n",
       " 'x0 x3^3',\n",
       " 'x0 x3^2 x4',\n",
       " 'x0 x3 x4^2',\n",
       " 'x0 x4^3',\n",
       " 'x1^4',\n",
       " 'x1^3 x2',\n",
       " 'x1^3 x3',\n",
       " 'x1^3 x4',\n",
       " 'x1^2 x2^2',\n",
       " 'x1^2 x2 x3',\n",
       " 'x1^2 x2 x4',\n",
       " 'x1^2 x3^2',\n",
       " 'x1^2 x3 x4',\n",
       " 'x1^2 x4^2',\n",
       " 'x1 x2^3',\n",
       " 'x1 x2^2 x3',\n",
       " 'x1 x2^2 x4',\n",
       " 'x1 x2 x3^2',\n",
       " 'x1 x2 x3 x4',\n",
       " 'x1 x2 x4^2',\n",
       " 'x1 x3^3',\n",
       " 'x1 x3^2 x4',\n",
       " 'x1 x3 x4^2',\n",
       " 'x1 x4^3',\n",
       " 'x2^4',\n",
       " 'x2^3 x3',\n",
       " 'x2^3 x4',\n",
       " 'x2^2 x3^2',\n",
       " 'x2^2 x3 x4',\n",
       " 'x2^2 x4^2',\n",
       " 'x2 x3^3',\n",
       " 'x2 x3^2 x4',\n",
       " 'x2 x3 x4^2',\n",
       " 'x2 x4^3',\n",
       " 'x3^4',\n",
       " 'x3^3 x4',\n",
       " 'x3^2 x4^2',\n",
       " 'x3 x4^3',\n",
       " 'x4^4']"
      ]
     },
     "execution_count": 46,
     "metadata": {},
     "output_type": "execute_result"
    }
   ],
   "source": [
    "poly = PolynomialFeatures(degree=4)\n",
    "X_poly = poly.fit_transform(test_poly_X_rfe)\n",
    "\n",
    "poly.get_feature_names()"
   ]
  },
  {
   "cell_type": "code",
   "execution_count": 47,
   "metadata": {},
   "outputs": [],
   "source": [
    "lm_poly = LinearRegression()\n",
    "lm_poly.fit(X_poly, y_test.taxvaluedollarcnt)\n",
    "y_test['yhat_poly'] = lm_poly.predict(X_poly).round(1)"
   ]
  },
  {
   "cell_type": "code",
   "execution_count": 48,
   "metadata": {},
   "outputs": [
    {
     "data": {
      "text/plain": [
       "418205.3073422054"
      ]
     },
     "execution_count": 48,
     "metadata": {},
     "output_type": "execute_result"
    }
   ],
   "source": [
    "RMSE_poly = np.sqrt(mean_squared_error(y_test.taxvaluedollarcnt, y_test.yhat_poly))\n",
    "RMSE_poly"
   ]
  },
  {
   "cell_type": "code",
   "execution_count": 49,
   "metadata": {},
   "outputs": [
    {
     "data": {
      "text/html": [
       "<div>\n",
       "<style scoped>\n",
       "    .dataframe tbody tr th:only-of-type {\n",
       "        vertical-align: middle;\n",
       "    }\n",
       "\n",
       "    .dataframe tbody tr th {\n",
       "        vertical-align: top;\n",
       "    }\n",
       "\n",
       "    .dataframe thead th {\n",
       "        text-align: right;\n",
       "    }\n",
       "</style>\n",
       "<table border=\"1\" class=\"dataframe\">\n",
       "  <thead>\n",
       "    <tr style=\"text-align: right;\">\n",
       "      <th></th>\n",
       "      <th>taxvaluedollarcnt</th>\n",
       "      <th>yhat_poly</th>\n",
       "    </tr>\n",
       "  </thead>\n",
       "  <tbody>\n",
       "    <tr>\n",
       "      <th>16254</th>\n",
       "      <td>323000.0</td>\n",
       "      <td>311548.8</td>\n",
       "    </tr>\n",
       "    <tr>\n",
       "      <th>19572</th>\n",
       "      <td>489857.0</td>\n",
       "      <td>409372.9</td>\n",
       "    </tr>\n",
       "    <tr>\n",
       "      <th>1631</th>\n",
       "      <td>406174.0</td>\n",
       "      <td>351784.7</td>\n",
       "    </tr>\n",
       "    <tr>\n",
       "      <th>12252</th>\n",
       "      <td>96661.0</td>\n",
       "      <td>495246.2</td>\n",
       "    </tr>\n",
       "    <tr>\n",
       "      <th>2736</th>\n",
       "      <td>68910.0</td>\n",
       "      <td>302473.1</td>\n",
       "    </tr>\n",
       "  </tbody>\n",
       "</table>\n",
       "</div>"
      ],
      "text/plain": [
       "       taxvaluedollarcnt  yhat_poly\n",
       "16254           323000.0   311548.8\n",
       "19572           489857.0   409372.9\n",
       "1631            406174.0   351784.7\n",
       "12252            96661.0   495246.2\n",
       "2736             68910.0   302473.1"
      ]
     },
     "execution_count": 49,
     "metadata": {},
     "output_type": "execute_result"
    }
   ],
   "source": [
    "y_test.head()"
   ]
  },
  {
   "cell_type": "code",
   "execution_count": 69,
   "metadata": {},
   "outputs": [
    {
     "data": {
      "text/plain": [
       "<matplotlib.collections.PathCollection at 0x7f96fb83fb20>"
      ]
     },
     "execution_count": 69,
     "metadata": {},
     "output_type": "execute_result"
    },
    {
     "data": {
      "image/png": "[encoded data removed]",
      "text/plain": [
       "<Figure size 432x288 with 1 Axes>"
      ]
     },
     "metadata": {
      "needs_background": "light"
     },
     "output_type": "display_data"
    }
   ],
   "source": [
    "plt.scatter(y_test.taxvaluedollarcnt, y_test.yhat_poly, label='Polynomial Regression Model Predictions', marker='o')\n",
    "plt.scatter(y_train.taxvaluedollarcnt, y_train.yhat_baseline, label='Baseline Predicitions', marker='o')\n",
    "plt.scatter(x = 1, y = 1)"
   ]
  },
  {
   "cell_type": "code",
   "execution_count": 57,
   "metadata": {},
   "outputs": [
    {
     "data": {
      "text/html": [
       "<div>\n",
       "<style scoped>\n",
       "    .dataframe tbody tr th:only-of-type {\n",
       "        vertical-align: middle;\n",
       "    }\n",
       "\n",
       "    .dataframe tbody tr th {\n",
       "        vertical-align: top;\n",
       "    }\n",
       "\n",
       "    .dataframe thead th {\n",
       "        text-align: right;\n",
       "    }\n",
       "</style>\n",
       "<table border=\"1\" class=\"dataframe\">\n",
       "  <thead>\n",
       "    <tr style=\"text-align: right;\">\n",
       "      <th></th>\n",
       "      <th>taxvaluedollarcnt</th>\n",
       "      <th>yhat_poly</th>\n",
       "      <th>perc_error</th>\n",
       "    </tr>\n",
       "  </thead>\n",
       "  <tbody>\n",
       "    <tr>\n",
       "      <th>16254</th>\n",
       "      <td>323000.0</td>\n",
       "      <td>311548.8</td>\n",
       "      <td>3.545263</td>\n",
       "    </tr>\n",
       "    <tr>\n",
       "      <th>19572</th>\n",
       "      <td>489857.0</td>\n",
       "      <td>409372.9</td>\n",
       "      <td>16.430121</td>\n",
       "    </tr>\n",
       "    <tr>\n",
       "      <th>1631</th>\n",
       "      <td>406174.0</td>\n",
       "      <td>351784.7</td>\n",
       "      <td>13.390640</td>\n",
       "    </tr>\n",
       "    <tr>\n",
       "      <th>12252</th>\n",
       "      <td>96661.0</td>\n",
       "      <td>495246.2</td>\n",
       "      <td>-412.353690</td>\n",
       "    </tr>\n",
       "    <tr>\n",
       "      <th>2736</th>\n",
       "      <td>68910.0</td>\n",
       "      <td>302473.1</td>\n",
       "      <td>-338.939341</td>\n",
       "    </tr>\n",
       "    <tr>\n",
       "      <th>...</th>\n",
       "      <td>...</td>\n",
       "      <td>...</td>\n",
       "      <td>...</td>\n",
       "    </tr>\n",
       "    <tr>\n",
       "      <th>5130</th>\n",
       "      <td>1076164.0</td>\n",
       "      <td>1117762.5</td>\n",
       "      <td>-3.865442</td>\n",
       "    </tr>\n",
       "    <tr>\n",
       "      <th>13785</th>\n",
       "      <td>332000.0</td>\n",
       "      <td>221345.2</td>\n",
       "      <td>33.329759</td>\n",
       "    </tr>\n",
       "    <tr>\n",
       "      <th>3405</th>\n",
       "      <td>408000.0</td>\n",
       "      <td>214797.1</td>\n",
       "      <td>47.353652</td>\n",
       "    </tr>\n",
       "    <tr>\n",
       "      <th>14824</th>\n",
       "      <td>572000.0</td>\n",
       "      <td>529881.7</td>\n",
       "      <td>7.363339</td>\n",
       "    </tr>\n",
       "    <tr>\n",
       "      <th>5467</th>\n",
       "      <td>288265.0</td>\n",
       "      <td>278068.0</td>\n",
       "      <td>3.537370</td>\n",
       "    </tr>\n",
       "  </tbody>\n",
       "</table>\n",
       "<p>4196 rows × 3 columns</p>\n",
       "</div>"
      ],
      "text/plain": [
       "       taxvaluedollarcnt  yhat_poly  perc_error\n",
       "16254           323000.0   311548.8    3.545263\n",
       "19572           489857.0   409372.9   16.430121\n",
       "1631            406174.0   351784.7   13.390640\n",
       "12252            96661.0   495246.2 -412.353690\n",
       "2736             68910.0   302473.1 -338.939341\n",
       "...                  ...        ...         ...\n",
       "5130           1076164.0  1117762.5   -3.865442\n",
       "13785           332000.0   221345.2   33.329759\n",
       "3405            408000.0   214797.1   47.353652\n",
       "14824           572000.0   529881.7    7.363339\n",
       "5467            288265.0   278068.0    3.537370\n",
       "\n",
       "[4196 rows x 3 columns]"
      ]
     },
     "execution_count": 57,
     "metadata": {},
     "output_type": "execute_result"
    }
   ],
   "source": [
    "y_test['perc_error'] = ((y_test.taxvaluedollarcnt - y_test.yhat_poly) / y_test.taxvaluedollarcnt) * 100\n",
    "y_test"
   ]
  },
  {
   "cell_type": "code",
   "execution_count": 68,
   "metadata": {},
   "outputs": [
    {
     "name": "stdout",
     "output_type": "stream",
     "text": [
      "MVP error -277759.98\n",
      "Baseline error: -1286457.56\n",
      "Our model had 4.6 times less error than baseline\n"
     ]
    }
   ],
   "source": [
    "print('MVP error',(y_test.perc_error.sum()).round(2))\n",
    "print('Baseline error:',(y_train.base_perc_error.sum()).round(2))\n",
    "print('Our model had', (y_train.base_perc_error.sum() / y_test.perc_error.sum()).round(1), 'times less error than baseline')"
   ]
  },
  {
   "cell_type": "code",
   "execution_count": null,
   "metadata": {},
   "outputs": [],
   "source": []
  }
 ],
 "metadata": {
  "kernelspec": {
   "display_name": "Python 3",
   "language": "python",
   "name": "python3"
  },
  "language_info": {
   "codemirror_mode": {
    "name": "ipython",
    "version": 3
   },
   "file_extension": ".py",
   "mimetype": "text/x-python",
   "name": "python",
   "nbconvert_exporter": "python",
   "pygments_lexer": "ipython3",
   "version": "3.8.3"
  }
 },
 "nbformat": 4,
 "nbformat_minor": 4
}
